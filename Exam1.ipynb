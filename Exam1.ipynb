{
  "nbformat": 4,
  "nbformat_minor": 0,
  "metadata": {
    "colab": {
      "name": "Untitled17.ipynb",
      "provenance": [],
      "toc_visible": true,
      "authorship_tag": "ABX9TyNeCp5QX+shvdWsV7YTwcNg",
      "include_colab_link": true
    },
    "kernelspec": {
      "name": "python3",
      "display_name": "Python 3"
    }
  },
  "cells": [
    {
      "cell_type": "markdown",
      "metadata": {
        "id": "view-in-github",
        "colab_type": "text"
      },
      "source": [
        "<a href=\"https://colab.research.google.com/github/rajadevineni/Applied_ML_Coding_Exam1/blob/main/Exam1.ipynb\" target=\"_parent\"><img src=\"https://colab.research.google.com/assets/colab-badge.svg\" alt=\"Open In Colab\"/></a>"
      ]
    },
    {
      "cell_type": "code",
      "metadata": {
        "id": "-cSZUBDmkTTK",
        "outputId": "55c281d3-6ecc-4b51-a15c-1258ea841649",
        "colab": {
          "base_uri": "https://localhost:8080/"
        }
      },
      "source": [
        "!pip install feature_engine"
      ],
      "execution_count": 1,
      "outputs": [
        {
          "output_type": "stream",
          "text": [
            "Collecting feature_engine\n",
            "  Downloading https://files.pythonhosted.org/packages/14/ed/5680bf401855b788f79cadc1298c210c5860eb5d54c4008cfa234b752ef1/feature_engine-0.6.1-py2.py3-none-any.whl\n",
            "Requirement already satisfied: scikit-learn>=0.22.2 in /usr/local/lib/python3.6/dist-packages (from feature_engine) (0.22.2.post1)\n",
            "Collecting statsmodels>=0.11.1\n",
            "\u001b[?25l  Downloading https://files.pythonhosted.org/packages/be/4c/9e2435ca6645d6bafa2b51bb11f0a365b28934a2ffe9d6e339d67130926d/statsmodels-0.12.1-cp36-cp36m-manylinux1_x86_64.whl (9.5MB)\n",
            "\u001b[K     |████████████████████████████████| 9.5MB 7.2MB/s \n",
            "\u001b[?25hRequirement already satisfied: numpy>=1.18.2 in /usr/local/lib/python3.6/dist-packages (from feature_engine) (1.18.5)\n",
            "Requirement already satisfied: pandas>=1.0.3 in /usr/local/lib/python3.6/dist-packages (from feature_engine) (1.1.3)\n",
            "Requirement already satisfied: scipy>=1.4.1 in /usr/local/lib/python3.6/dist-packages (from feature_engine) (1.4.1)\n",
            "Requirement already satisfied: joblib>=0.11 in /usr/local/lib/python3.6/dist-packages (from scikit-learn>=0.22.2->feature_engine) (0.17.0)\n",
            "Requirement already satisfied: patsy>=0.5 in /usr/local/lib/python3.6/dist-packages (from statsmodels>=0.11.1->feature_engine) (0.5.1)\n",
            "Requirement already satisfied: python-dateutil>=2.7.3 in /usr/local/lib/python3.6/dist-packages (from pandas>=1.0.3->feature_engine) (2.8.1)\n",
            "Requirement already satisfied: pytz>=2017.2 in /usr/local/lib/python3.6/dist-packages (from pandas>=1.0.3->feature_engine) (2018.9)\n",
            "Requirement already satisfied: six in /usr/local/lib/python3.6/dist-packages (from patsy>=0.5->statsmodels>=0.11.1->feature_engine) (1.15.0)\n",
            "Installing collected packages: statsmodels, feature-engine\n",
            "  Found existing installation: statsmodels 0.10.2\n",
            "    Uninstalling statsmodels-0.10.2:\n",
            "      Successfully uninstalled statsmodels-0.10.2\n",
            "Successfully installed feature-engine-0.6.1 statsmodels-0.12.1\n"
          ],
          "name": "stdout"
        }
      ]
    },
    {
      "cell_type": "code",
      "metadata": {
        "id": "VGl9939rk48u"
      },
      "source": [
        "from math import sqrt\n",
        "import pandas as pd\n",
        "import numpy as np\n",
        "import matplotlib.pyplot as plt\n",
        "import seaborn as sns\n",
        "import scipy.stats as stats\n",
        "from pathlib import Path\n",
        "\n",
        "pd.pandas.set_option('display.max_columns', None)\n",
        "%matplotlib inline\n",
        "import warnings\n",
        "warnings.filterwarnings(\"ignore\", category=DeprecationWarning)"
      ],
      "execution_count": 2,
      "outputs": []
    },
    {
      "cell_type": "markdown",
      "metadata": {
        "id": "iFIdx37bsK09"
      },
      "source": [
        "### Load Datasets"
      ]
    },
    {
      "cell_type": "code",
      "metadata": {
        "ExecuteTime": {
          "end_time": "2020-03-09T07:32:50.854852Z",
          "start_time": "2020-03-09T07:32:50.812739Z"
        },
        "id": "Xb2ctCx_sK0-"
      },
      "source": [
        "# load dataset\n",
        "# your code here\n",
        "path = \"https://raw.githubusercontent.com/rajadevineni/Applied_ML_Coding_Exam1/main/train.csv\"\n",
        "data = pd.read_csv(path)"
      ],
      "execution_count": 3,
      "outputs": []
    },
    {
      "cell_type": "code",
      "metadata": {
        "id": "lqCH0D4lmJGh"
      },
      "source": [
        "data.head()\n",
        "data.rename(columns={\"id \": \"id\"}, inplace=True)"
      ],
      "execution_count": 4,
      "outputs": []
    },
    {
      "cell_type": "code",
      "metadata": {
        "id": "6jzELu9VmUnw",
        "outputId": "8cb89fde-7003-48ef-b30d-0e9f8f92b38e",
        "colab": {
          "base_uri": "https://localhost:8080/"
        }
      },
      "source": [
        "data.columns"
      ],
      "execution_count": 5,
      "outputs": [
        {
          "output_type": "execute_result",
          "data": {
            "text/plain": [
              "Index(['id', 'v1', 'v2', 'v3', 'v4', 'v5', 'v6', 'v7', 'v8', 'v9', 'v10',\n",
              "       'v11', 'v12', 'v13', 'v14', 'v15', 'v16', 'v17', 'v18', 'v19', 'v20',\n",
              "       'v21', 'v22', 'v23', 'v24', 'v25', 'v26', 'v27', 'v28', 'v29', 'v30',\n",
              "       'v31', 'v32', 'v33', 'v34', 'v35', 'v36', 'v37', 'v38', 'v39', 'v40',\n",
              "       'v41', 'v42', 'v43', 'v44', 'v45', 'v46', 'v47', 'v48', 'v49', 'v50',\n",
              "       'v51', 'v52', 'v53', 'v54', 'v55', 'v56', 'v57', 'v58', 'target'],\n",
              "      dtype='object')"
            ]
          },
          "metadata": {
            "tags": []
          },
          "execution_count": 5
        }
      ]
    },
    {
      "cell_type": "markdown",
      "metadata": {
        "id": "m7fpXiMNsK1B"
      },
      "source": [
        "### Types of variables\n",
        "\n"
      ]
    },
    {
      "cell_type": "code",
      "metadata": {
        "ExecuteTime": {
          "end_time": "2020-03-09T07:32:51.725905Z",
          "start_time": "2020-03-09T07:32:51.719889Z"
        },
        "id": "93EnpL-asK1C",
        "outputId": "f0652035-372e-44b8-885d-68b5eb701aa7",
        "colab": {
          "base_uri": "https://localhost:8080/"
        }
      },
      "source": [
        "# we have an Id variable, that we should not use for predictions:\n",
        "\n",
        "print('Number of  Id labels: ', len(data.id.unique()))\n",
        "print('Number of records in the Dataset: ', len(data))\n",
        "print('Shape of Dataset: ', data.shape)"
      ],
      "execution_count": 13,
      "outputs": [
        {
          "output_type": "stream",
          "text": [
            "Number of  Id labels:  25001\n",
            "Number of records in the Dataset:  39580\n",
            "Shape of Dataset:  (39580, 60)\n"
          ],
          "name": "stdout"
        }
      ]
    },
    {
      "cell_type": "markdown",
      "metadata": {
        "id": "B-FP_uw_sK1G"
      },
      "source": [
        "#### Find categorical variables"
      ]
    },
    {
      "cell_type": "code",
      "metadata": {
        "ExecuteTime": {
          "end_time": "2020-03-09T07:32:53.140553Z",
          "start_time": "2020-03-09T07:32:53.135036Z"
        },
        "id": "bxDr9ifMsK1H",
        "outputId": "c7e1a17e-a8e8-455a-9435-b7d14b98a721",
        "colab": {
          "base_uri": "https://localhost:8080/"
        }
      },
      "source": [
        "# find categorical variables- hint data type = 'O'\n",
        "\n",
        "categorical = [var for var in data.columns if data[var].dtype=='O']\n",
        "\n",
        "print(f'There are {len(categorical)} categorical variables')"
      ],
      "execution_count": 8,
      "outputs": [
        {
          "output_type": "stream",
          "text": [
            "There are 0 categorical variables\n"
          ],
          "name": "stdout"
        }
      ]
    },
    {
      "cell_type": "markdown",
      "metadata": {
        "id": "907jHG6hsK1K"
      },
      "source": [
        "#### Find temporal variables"
      ]
    },
    {
      "cell_type": "code",
      "metadata": {
        "ExecuteTime": {
          "end_time": "2020-03-09T07:32:54.328164Z",
          "start_time": "2020-03-09T07:32:54.321146Z"
        },
        "id": "53PyErySsK1K",
        "outputId": "f3c6c493-daed-47be-ae7c-fd5490f2e9ad",
        "colab": {
          "base_uri": "https://localhost:8080/"
        }
      },
      "source": [
        "# make a list of the numerical variables first= Hint data type != O\n",
        "numerical = [var for var in data.columns if data[var].dtype!='O']\n",
        "\n",
        "# list of variables that contain year information= Hint variable namme has Yr or \n",
        "year_vars = [var for var in numerical if 'Yr' in var or 'Year' in var]\n",
        "\n",
        "year_vars"
      ],
      "execution_count": 9,
      "outputs": [
        {
          "output_type": "execute_result",
          "data": {
            "text/plain": [
              "[]"
            ]
          },
          "metadata": {
            "tags": []
          },
          "execution_count": 9
        }
      ]
    },
    {
      "cell_type": "markdown",
      "metadata": {
        "id": "poJpTh67sK1Q"
      },
      "source": [
        "#### Find discrete variables\n",
        "\n",
        "To identify discrete variables- numerical variables with less than 20 unique values "
      ]
    },
    {
      "cell_type": "code",
      "metadata": {
        "ExecuteTime": {
          "end_time": "2020-03-09T07:32:55.849304Z",
          "start_time": "2020-03-09T07:32:55.835765Z"
        },
        "id": "er1pqvhQsK1R",
        "outputId": "a9816820-2eb6-4de7-b598-27b3af38baca",
        "colab": {
          "base_uri": "https://localhost:8080/"
        }
      },
      "source": [
        "# let's visualise the values of the discrete variables\n",
        "discrete = [var for var in numerical if len(data[var].unique()) < 20 and var not in year_vars]\n",
        "\n",
        "print(f'There are {len(discrete)} discrete variables')"
      ],
      "execution_count": 10,
      "outputs": [
        {
          "output_type": "stream",
          "text": [
            "There are 15 discrete variables\n"
          ],
          "name": "stdout"
        }
      ]
    },
    {
      "cell_type": "markdown",
      "metadata": {
        "id": "VFM14cLtsK1U"
      },
      "source": [
        "#### Continuous variables"
      ]
    },
    {
      "cell_type": "code",
      "metadata": {
        "ExecuteTime": {
          "end_time": "2020-03-09T07:32:57.274949Z",
          "start_time": "2020-03-09T07:32:57.268932Z"
        },
        "id": "pokSx1XEsK1U",
        "outputId": "43657dcc-4136-4f03-d374-111bd1c4e88e",
        "colab": {
          "base_uri": "https://localhost:8080/"
        }
      },
      "source": [
        "# find continuous variables- hint numerical variables not in discrete and  year_years \n",
        "# Also remove the Id variable and the target variable SalePrice\n",
        "# which are both also numerical\n",
        "\n",
        "continuous = [var for var in numerical if var not in discrete and var not in [\n",
        "    'id', 'target'] and var not in year_vars]\n",
        "\n",
        "print('There are {} numerical and continuous variables'.format(len(numerical)))"
      ],
      "execution_count": 16,
      "outputs": [
        {
          "output_type": "stream",
          "text": [
            "There are 60 numerical and continuous variables\n"
          ],
          "name": "stdout"
        }
      ]
    },
    {
      "cell_type": "code",
      "metadata": {
        "id": "swJwIMGZ0NO7",
        "outputId": "49e2e690-38db-4c68-f259-8bffe1731c6d",
        "colab": {
          "base_uri": "https://localhost:8080/"
        }
      },
      "source": [
        "data.isna().sum()"
      ],
      "execution_count": 17,
      "outputs": [
        {
          "output_type": "execute_result",
          "data": {
            "text/plain": [
              "id        14580\n",
              "v1        14580\n",
              "v2        14580\n",
              "v3        14580\n",
              "v4        14580\n",
              "v5        14580\n",
              "v6        14580\n",
              "v7        14580\n",
              "v8        14580\n",
              "v9        14580\n",
              "v10       14580\n",
              "v11       14580\n",
              "v12       14580\n",
              "v13       14580\n",
              "v14       14580\n",
              "v15       14580\n",
              "v16       14580\n",
              "v17       14580\n",
              "v18       14580\n",
              "v19       14580\n",
              "v20       14580\n",
              "v21       14580\n",
              "v22       14580\n",
              "v23       14580\n",
              "v24       14580\n",
              "v25       14580\n",
              "v26       14580\n",
              "v27       14580\n",
              "v28       14580\n",
              "v29       14580\n",
              "v30       14580\n",
              "v31       14580\n",
              "v32       14580\n",
              "v33       14580\n",
              "v34       14580\n",
              "v35       14580\n",
              "v36       14580\n",
              "v37       14580\n",
              "v38       14580\n",
              "v39       14580\n",
              "v40       14580\n",
              "v41       14580\n",
              "v42       14580\n",
              "v43       14580\n",
              "v44       14580\n",
              "v45       14580\n",
              "v46       14580\n",
              "v47       14580\n",
              "v48       14580\n",
              "v49       14580\n",
              "v50       14580\n",
              "v51       14580\n",
              "v52       14580\n",
              "v53       14580\n",
              "v54       14580\n",
              "v55       14580\n",
              "v56       14580\n",
              "v57       14580\n",
              "v58       14580\n",
              "target    14580\n",
              "dtype: int64"
            ]
          },
          "metadata": {
            "tags": []
          },
          "execution_count": 17
        }
      ]
    },
    {
      "cell_type": "markdown",
      "metadata": {
        "id": "JLV1ZD5_sK1X"
      },
      "source": [
        "### Separate train and test set"
      ]
    },
    {
      "cell_type": "code",
      "metadata": {
        "ExecuteTime": {
          "end_time": "2020-03-09T07:32:58.666697Z",
          "start_time": "2020-03-09T07:32:58.651653Z"
        },
        "id": "WpKM5hPtsK1Y",
        "outputId": "665dd2f0-387c-439d-a933-50606885b831",
        "colab": {
          "base_uri": "https://localhost:8080/"
        }
      },
      "source": [
        "# Let's separate into train and test set\n",
        "from sklearn.model_selection import train_test_split\n",
        "X_train, X_test, y_train, y_test = train_test_split(data.drop(['id', 'target'], axis=1),\n",
        "                                                    data['target'],\n",
        "                                                    test_size=0.1,\n",
        "                                                    random_state=0)\n",
        "\n",
        "X_train.shape, X_test.shape"
      ],
      "execution_count": 23,
      "outputs": [
        {
          "output_type": "execute_result",
          "data": {
            "text/plain": [
              "((22500, 58), (2500, 58))"
            ]
          },
          "metadata": {
            "tags": []
          },
          "execution_count": 23
        }
      ]
    },
    {
      "cell_type": "code",
      "metadata": {
        "id": "TXQ2jZhfta7d"
      },
      "source": [
        "def clean_dataset(df):\n",
        "    assert isinstance(df, pd.DataFrame), \"df needs to be a pd.DataFrame\"\n",
        "    df.dropna(inplace=True)\n",
        "    indices_to_keep = ~df.isin([np.nan, np.inf, -np.inf]).any(1)\n",
        "    return df[indices_to_keep].astype(np.float64)"
      ],
      "execution_count": 19,
      "outputs": []
    },
    {
      "cell_type": "code",
      "metadata": {
        "id": "DTjlhvMXtcIl",
        "outputId": "deca5136-4ed1-43c9-d8aa-c299b2cf042a",
        "colab": {
          "base_uri": "https://localhost:8080/",
          "height": 439
        }
      },
      "source": [
        "clean_dataset(data)"
      ],
      "execution_count": 20,
      "outputs": [
        {
          "output_type": "execute_result",
          "data": {
            "text/html": [
              "<div>\n",
              "<style scoped>\n",
              "    .dataframe tbody tr th:only-of-type {\n",
              "        vertical-align: middle;\n",
              "    }\n",
              "\n",
              "    .dataframe tbody tr th {\n",
              "        vertical-align: top;\n",
              "    }\n",
              "\n",
              "    .dataframe thead th {\n",
              "        text-align: right;\n",
              "    }\n",
              "</style>\n",
              "<table border=\"1\" class=\"dataframe\">\n",
              "  <thead>\n",
              "    <tr style=\"text-align: right;\">\n",
              "      <th></th>\n",
              "      <th>id</th>\n",
              "      <th>v1</th>\n",
              "      <th>v2</th>\n",
              "      <th>v3</th>\n",
              "      <th>v4</th>\n",
              "      <th>v5</th>\n",
              "      <th>v6</th>\n",
              "      <th>v7</th>\n",
              "      <th>v8</th>\n",
              "      <th>v9</th>\n",
              "      <th>v10</th>\n",
              "      <th>v11</th>\n",
              "      <th>v12</th>\n",
              "      <th>v13</th>\n",
              "      <th>v14</th>\n",
              "      <th>v15</th>\n",
              "      <th>v16</th>\n",
              "      <th>v17</th>\n",
              "      <th>v18</th>\n",
              "      <th>v19</th>\n",
              "      <th>v20</th>\n",
              "      <th>v21</th>\n",
              "      <th>v22</th>\n",
              "      <th>v23</th>\n",
              "      <th>v24</th>\n",
              "      <th>v25</th>\n",
              "      <th>v26</th>\n",
              "      <th>v27</th>\n",
              "      <th>v28</th>\n",
              "      <th>v29</th>\n",
              "      <th>v30</th>\n",
              "      <th>v31</th>\n",
              "      <th>v32</th>\n",
              "      <th>v33</th>\n",
              "      <th>v34</th>\n",
              "      <th>v35</th>\n",
              "      <th>v36</th>\n",
              "      <th>v37</th>\n",
              "      <th>v38</th>\n",
              "      <th>v39</th>\n",
              "      <th>v40</th>\n",
              "      <th>v41</th>\n",
              "      <th>v42</th>\n",
              "      <th>v43</th>\n",
              "      <th>v44</th>\n",
              "      <th>v45</th>\n",
              "      <th>v46</th>\n",
              "      <th>v47</th>\n",
              "      <th>v48</th>\n",
              "      <th>v49</th>\n",
              "      <th>v50</th>\n",
              "      <th>v51</th>\n",
              "      <th>v52</th>\n",
              "      <th>v53</th>\n",
              "      <th>v54</th>\n",
              "      <th>v55</th>\n",
              "      <th>v56</th>\n",
              "      <th>v57</th>\n",
              "      <th>v58</th>\n",
              "      <th>target</th>\n",
              "    </tr>\n",
              "  </thead>\n",
              "  <tbody>\n",
              "    <tr>\n",
              "      <th>0</th>\n",
              "      <td>1.0</td>\n",
              "      <td>13.0</td>\n",
              "      <td>472.0</td>\n",
              "      <td>0.516129</td>\n",
              "      <td>1.0</td>\n",
              "      <td>0.677656</td>\n",
              "      <td>7.0</td>\n",
              "      <td>3.0</td>\n",
              "      <td>1.0</td>\n",
              "      <td>0.0</td>\n",
              "      <td>4.843220</td>\n",
              "      <td>4.0</td>\n",
              "      <td>0.0</td>\n",
              "      <td>0.0</td>\n",
              "      <td>0.0</td>\n",
              "      <td>0.0</td>\n",
              "      <td>0.0</td>\n",
              "      <td>1.0</td>\n",
              "      <td>-1.0</td>\n",
              "      <td>0.0</td>\n",
              "      <td>-1.000000</td>\n",
              "      <td>67700.0</td>\n",
              "      <td>843300.0</td>\n",
              "      <td>417575.0000</td>\n",
              "      <td>2185.450945</td>\n",
              "      <td>3467.837885</td>\n",
              "      <td>2639.664540</td>\n",
              "      <td>568.0</td>\n",
              "      <td>5800.0</td>\n",
              "      <td>2323.666667</td>\n",
              "      <td>0.0</td>\n",
              "      <td>0.0</td>\n",
              "      <td>0.0</td>\n",
              "      <td>1.0</td>\n",
              "      <td>0.0</td>\n",
              "      <td>0.0</td>\n",
              "      <td>0.0</td>\n",
              "      <td>0.0</td>\n",
              "      <td>0.050001</td>\n",
              "      <td>0.050000</td>\n",
              "      <td>0.799993</td>\n",
              "      <td>0.050000</td>\n",
              "      <td>0.050006</td>\n",
              "      <td>0.408591</td>\n",
              "      <td>0.047852</td>\n",
              "      <td>0.012712</td>\n",
              "      <td>0.004237</td>\n",
              "      <td>0.750000</td>\n",
              "      <td>0.250000</td>\n",
              "      <td>0.278283</td>\n",
              "      <td>0.100000</td>\n",
              "      <td>0.6</td>\n",
              "      <td>-0.523810</td>\n",
              "      <td>-0.714286</td>\n",
              "      <td>-0.333333</td>\n",
              "      <td>0.000000</td>\n",
              "      <td>0.000000</td>\n",
              "      <td>0.500000</td>\n",
              "      <td>0.000000</td>\n",
              "      <td>1600.0</td>\n",
              "    </tr>\n",
              "    <tr>\n",
              "      <th>1</th>\n",
              "      <td>2.0</td>\n",
              "      <td>12.0</td>\n",
              "      <td>701.0</td>\n",
              "      <td>0.522963</td>\n",
              "      <td>1.0</td>\n",
              "      <td>0.677201</td>\n",
              "      <td>10.0</td>\n",
              "      <td>5.0</td>\n",
              "      <td>10.0</td>\n",
              "      <td>1.0</td>\n",
              "      <td>4.763195</td>\n",
              "      <td>9.0</td>\n",
              "      <td>0.0</td>\n",
              "      <td>0.0</td>\n",
              "      <td>0.0</td>\n",
              "      <td>0.0</td>\n",
              "      <td>0.0</td>\n",
              "      <td>1.0</td>\n",
              "      <td>-1.0</td>\n",
              "      <td>804.0</td>\n",
              "      <td>193.625000</td>\n",
              "      <td>0.0</td>\n",
              "      <td>843300.0</td>\n",
              "      <td>209755.5556</td>\n",
              "      <td>0.000000</td>\n",
              "      <td>4101.893971</td>\n",
              "      <td>2114.472589</td>\n",
              "      <td>0.0</td>\n",
              "      <td>0.0</td>\n",
              "      <td>0.000000</td>\n",
              "      <td>0.0</td>\n",
              "      <td>0.0</td>\n",
              "      <td>0.0</td>\n",
              "      <td>1.0</td>\n",
              "      <td>0.0</td>\n",
              "      <td>0.0</td>\n",
              "      <td>0.0</td>\n",
              "      <td>0.0</td>\n",
              "      <td>0.244963</td>\n",
              "      <td>0.022224</td>\n",
              "      <td>0.571054</td>\n",
              "      <td>0.022223</td>\n",
              "      <td>0.139535</td>\n",
              "      <td>0.406442</td>\n",
              "      <td>0.185152</td>\n",
              "      <td>0.051355</td>\n",
              "      <td>0.007133</td>\n",
              "      <td>0.878049</td>\n",
              "      <td>0.121951</td>\n",
              "      <td>0.368439</td>\n",
              "      <td>0.033333</td>\n",
              "      <td>1.0</td>\n",
              "      <td>-0.275000</td>\n",
              "      <td>-0.600000</td>\n",
              "      <td>-0.050000</td>\n",
              "      <td>0.222222</td>\n",
              "      <td>0.244444</td>\n",
              "      <td>0.277778</td>\n",
              "      <td>0.244444</td>\n",
              "      <td>1700.0</td>\n",
              "    </tr>\n",
              "    <tr>\n",
              "      <th>2</th>\n",
              "      <td>3.0</td>\n",
              "      <td>8.0</td>\n",
              "      <td>174.0</td>\n",
              "      <td>0.724551</td>\n",
              "      <td>1.0</td>\n",
              "      <td>0.896226</td>\n",
              "      <td>1.0</td>\n",
              "      <td>1.0</td>\n",
              "      <td>1.0</td>\n",
              "      <td>0.0</td>\n",
              "      <td>4.385057</td>\n",
              "      <td>5.0</td>\n",
              "      <td>0.0</td>\n",
              "      <td>0.0</td>\n",
              "      <td>0.0</td>\n",
              "      <td>0.0</td>\n",
              "      <td>1.0</td>\n",
              "      <td>0.0</td>\n",
              "      <td>217.0</td>\n",
              "      <td>342.0</td>\n",
              "      <td>279.500000</td>\n",
              "      <td>0.0</td>\n",
              "      <td>617900.0</td>\n",
              "      <td>142120.0000</td>\n",
              "      <td>0.000000</td>\n",
              "      <td>3159.522593</td>\n",
              "      <td>2108.652601</td>\n",
              "      <td>0.0</td>\n",
              "      <td>0.0</td>\n",
              "      <td>0.000000</td>\n",
              "      <td>1.0</td>\n",
              "      <td>0.0</td>\n",
              "      <td>0.0</td>\n",
              "      <td>0.0</td>\n",
              "      <td>0.0</td>\n",
              "      <td>0.0</td>\n",
              "      <td>0.0</td>\n",
              "      <td>0.0</td>\n",
              "      <td>0.040030</td>\n",
              "      <td>0.040623</td>\n",
              "      <td>0.040019</td>\n",
              "      <td>0.040019</td>\n",
              "      <td>0.839309</td>\n",
              "      <td>0.255628</td>\n",
              "      <td>0.029437</td>\n",
              "      <td>0.011494</td>\n",
              "      <td>0.022989</td>\n",
              "      <td>0.333333</td>\n",
              "      <td>0.666667</td>\n",
              "      <td>0.366667</td>\n",
              "      <td>0.333333</td>\n",
              "      <td>0.4</td>\n",
              "      <td>-0.102381</td>\n",
              "      <td>-0.166667</td>\n",
              "      <td>-0.071429</td>\n",
              "      <td>0.000000</td>\n",
              "      <td>0.000000</td>\n",
              "      <td>0.500000</td>\n",
              "      <td>0.000000</td>\n",
              "      <td>3100.0</td>\n",
              "    </tr>\n",
              "    <tr>\n",
              "      <th>3</th>\n",
              "      <td>4.0</td>\n",
              "      <td>10.0</td>\n",
              "      <td>2347.0</td>\n",
              "      <td>0.359368</td>\n",
              "      <td>1.0</td>\n",
              "      <td>0.551497</td>\n",
              "      <td>36.0</td>\n",
              "      <td>8.0</td>\n",
              "      <td>3.0</td>\n",
              "      <td>1.0</td>\n",
              "      <td>4.907542</td>\n",
              "      <td>6.0</td>\n",
              "      <td>0.0</td>\n",
              "      <td>0.0</td>\n",
              "      <td>1.0</td>\n",
              "      <td>0.0</td>\n",
              "      <td>0.0</td>\n",
              "      <td>0.0</td>\n",
              "      <td>-1.0</td>\n",
              "      <td>1100.0</td>\n",
              "      <td>271.666667</td>\n",
              "      <td>27700.0</td>\n",
              "      <td>843300.0</td>\n",
              "      <td>327316.6667</td>\n",
              "      <td>3193.319812</td>\n",
              "      <td>6003.888889</td>\n",
              "      <td>4260.332820</td>\n",
              "      <td>1700.0</td>\n",
              "      <td>25900.0</td>\n",
              "      <td>10233.333330</td>\n",
              "      <td>0.0</td>\n",
              "      <td>0.0</td>\n",
              "      <td>0.0</td>\n",
              "      <td>0.0</td>\n",
              "      <td>0.0</td>\n",
              "      <td>0.0</td>\n",
              "      <td>1.0</td>\n",
              "      <td>1.0</td>\n",
              "      <td>0.700278</td>\n",
              "      <td>0.198502</td>\n",
              "      <td>0.033334</td>\n",
              "      <td>0.033334</td>\n",
              "      <td>0.034553</td>\n",
              "      <td>0.479196</td>\n",
              "      <td>0.171219</td>\n",
              "      <td>0.051129</td>\n",
              "      <td>0.014913</td>\n",
              "      <td>0.774194</td>\n",
              "      <td>0.225806</td>\n",
              "      <td>0.374936</td>\n",
              "      <td>0.033333</td>\n",
              "      <td>1.0</td>\n",
              "      <td>-0.245176</td>\n",
              "      <td>-0.800000</td>\n",
              "      <td>-0.050000</td>\n",
              "      <td>0.000000</td>\n",
              "      <td>0.000000</td>\n",
              "      <td>0.500000</td>\n",
              "      <td>0.000000</td>\n",
              "      <td>1800.0</td>\n",
              "    </tr>\n",
              "    <tr>\n",
              "      <th>4</th>\n",
              "      <td>5.0</td>\n",
              "      <td>7.0</td>\n",
              "      <td>280.0</td>\n",
              "      <td>0.563636</td>\n",
              "      <td>1.0</td>\n",
              "      <td>0.700599</td>\n",
              "      <td>8.0</td>\n",
              "      <td>5.0</td>\n",
              "      <td>1.0</td>\n",
              "      <td>0.0</td>\n",
              "      <td>5.132143</td>\n",
              "      <td>8.0</td>\n",
              "      <td>0.0</td>\n",
              "      <td>0.0</td>\n",
              "      <td>1.0</td>\n",
              "      <td>0.0</td>\n",
              "      <td>0.0</td>\n",
              "      <td>0.0</td>\n",
              "      <td>-1.0</td>\n",
              "      <td>718.0</td>\n",
              "      <td>263.698750</td>\n",
              "      <td>4800.0</td>\n",
              "      <td>843300.0</td>\n",
              "      <td>222525.0000</td>\n",
              "      <td>1838.148148</td>\n",
              "      <td>3582.545966</td>\n",
              "      <td>2503.522903</td>\n",
              "      <td>860.0</td>\n",
              "      <td>7900.0</td>\n",
              "      <td>2940.000000</td>\n",
              "      <td>0.0</td>\n",
              "      <td>1.0</td>\n",
              "      <td>0.0</td>\n",
              "      <td>0.0</td>\n",
              "      <td>0.0</td>\n",
              "      <td>0.0</td>\n",
              "      <td>0.0</td>\n",
              "      <td>0.0</td>\n",
              "      <td>0.475835</td>\n",
              "      <td>0.025101</td>\n",
              "      <td>0.279301</td>\n",
              "      <td>0.025000</td>\n",
              "      <td>0.194762</td>\n",
              "      <td>0.350535</td>\n",
              "      <td>0.166043</td>\n",
              "      <td>0.039286</td>\n",
              "      <td>0.000000</td>\n",
              "      <td>1.000000</td>\n",
              "      <td>0.000000</td>\n",
              "      <td>0.288430</td>\n",
              "      <td>0.100000</td>\n",
              "      <td>1.0</td>\n",
              "      <td>0.000000</td>\n",
              "      <td>0.000000</td>\n",
              "      <td>0.000000</td>\n",
              "      <td>0.000000</td>\n",
              "      <td>0.000000</td>\n",
              "      <td>0.500000</td>\n",
              "      <td>0.000000</td>\n",
              "      <td>2900.0</td>\n",
              "    </tr>\n",
              "    <tr>\n",
              "      <th>...</th>\n",
              "      <td>...</td>\n",
              "      <td>...</td>\n",
              "      <td>...</td>\n",
              "      <td>...</td>\n",
              "      <td>...</td>\n",
              "      <td>...</td>\n",
              "      <td>...</td>\n",
              "      <td>...</td>\n",
              "      <td>...</td>\n",
              "      <td>...</td>\n",
              "      <td>...</td>\n",
              "      <td>...</td>\n",
              "      <td>...</td>\n",
              "      <td>...</td>\n",
              "      <td>...</td>\n",
              "      <td>...</td>\n",
              "      <td>...</td>\n",
              "      <td>...</td>\n",
              "      <td>...</td>\n",
              "      <td>...</td>\n",
              "      <td>...</td>\n",
              "      <td>...</td>\n",
              "      <td>...</td>\n",
              "      <td>...</td>\n",
              "      <td>...</td>\n",
              "      <td>...</td>\n",
              "      <td>...</td>\n",
              "      <td>...</td>\n",
              "      <td>...</td>\n",
              "      <td>...</td>\n",
              "      <td>...</td>\n",
              "      <td>...</td>\n",
              "      <td>...</td>\n",
              "      <td>...</td>\n",
              "      <td>...</td>\n",
              "      <td>...</td>\n",
              "      <td>...</td>\n",
              "      <td>...</td>\n",
              "      <td>...</td>\n",
              "      <td>...</td>\n",
              "      <td>...</td>\n",
              "      <td>...</td>\n",
              "      <td>...</td>\n",
              "      <td>...</td>\n",
              "      <td>...</td>\n",
              "      <td>...</td>\n",
              "      <td>...</td>\n",
              "      <td>...</td>\n",
              "      <td>...</td>\n",
              "      <td>...</td>\n",
              "      <td>...</td>\n",
              "      <td>...</td>\n",
              "      <td>...</td>\n",
              "      <td>...</td>\n",
              "      <td>...</td>\n",
              "      <td>...</td>\n",
              "      <td>...</td>\n",
              "      <td>...</td>\n",
              "      <td>...</td>\n",
              "      <td>...</td>\n",
              "    </tr>\n",
              "    <tr>\n",
              "      <th>24995</th>\n",
              "      <td>24996.0</td>\n",
              "      <td>11.0</td>\n",
              "      <td>335.0</td>\n",
              "      <td>0.608563</td>\n",
              "      <td>1.0</td>\n",
              "      <td>0.817708</td>\n",
              "      <td>12.0</td>\n",
              "      <td>3.0</td>\n",
              "      <td>0.0</td>\n",
              "      <td>1.0</td>\n",
              "      <td>4.817910</td>\n",
              "      <td>10.0</td>\n",
              "      <td>0.0</td>\n",
              "      <td>0.0</td>\n",
              "      <td>0.0</td>\n",
              "      <td>0.0</td>\n",
              "      <td>1.0</td>\n",
              "      <td>0.0</td>\n",
              "      <td>-1.0</td>\n",
              "      <td>1400.0</td>\n",
              "      <td>344.900000</td>\n",
              "      <td>5100.0</td>\n",
              "      <td>843300.0</td>\n",
              "      <td>330980.0000</td>\n",
              "      <td>2690.000000</td>\n",
              "      <td>4187.103226</td>\n",
              "      <td>3400.699863</td>\n",
              "      <td>0.0</td>\n",
              "      <td>0.0</td>\n",
              "      <td>0.000000</td>\n",
              "      <td>0.0</td>\n",
              "      <td>0.0</td>\n",
              "      <td>1.0</td>\n",
              "      <td>0.0</td>\n",
              "      <td>0.0</td>\n",
              "      <td>0.0</td>\n",
              "      <td>0.0</td>\n",
              "      <td>0.0</td>\n",
              "      <td>0.020185</td>\n",
              "      <td>0.020003</td>\n",
              "      <td>0.020010</td>\n",
              "      <td>0.020000</td>\n",
              "      <td>0.919802</td>\n",
              "      <td>0.431481</td>\n",
              "      <td>0.215123</td>\n",
              "      <td>0.044776</td>\n",
              "      <td>0.005970</td>\n",
              "      <td>0.882353</td>\n",
              "      <td>0.117647</td>\n",
              "      <td>0.408889</td>\n",
              "      <td>0.033333</td>\n",
              "      <td>0.6</td>\n",
              "      <td>-0.225000</td>\n",
              "      <td>-0.250000</td>\n",
              "      <td>-0.200000</td>\n",
              "      <td>0.000000</td>\n",
              "      <td>0.000000</td>\n",
              "      <td>0.500000</td>\n",
              "      <td>0.000000</td>\n",
              "      <td>1300.0</td>\n",
              "    </tr>\n",
              "    <tr>\n",
              "      <th>24996</th>\n",
              "      <td>24997.0</td>\n",
              "      <td>10.0</td>\n",
              "      <td>420.0</td>\n",
              "      <td>0.554455</td>\n",
              "      <td>1.0</td>\n",
              "      <td>0.735178</td>\n",
              "      <td>13.0</td>\n",
              "      <td>5.0</td>\n",
              "      <td>3.0</td>\n",
              "      <td>0.0</td>\n",
              "      <td>4.911905</td>\n",
              "      <td>8.0</td>\n",
              "      <td>0.0</td>\n",
              "      <td>0.0</td>\n",
              "      <td>0.0</td>\n",
              "      <td>0.0</td>\n",
              "      <td>0.0</td>\n",
              "      <td>1.0</td>\n",
              "      <td>-1.0</td>\n",
              "      <td>245.0</td>\n",
              "      <td>68.000000</td>\n",
              "      <td>0.0</td>\n",
              "      <td>843300.0</td>\n",
              "      <td>236875.0000</td>\n",
              "      <td>0.000000</td>\n",
              "      <td>4355.694105</td>\n",
              "      <td>2328.259122</td>\n",
              "      <td>516.0</td>\n",
              "      <td>516.0</td>\n",
              "      <td>516.000000</td>\n",
              "      <td>0.0</td>\n",
              "      <td>0.0</td>\n",
              "      <td>1.0</td>\n",
              "      <td>0.0</td>\n",
              "      <td>0.0</td>\n",
              "      <td>0.0</td>\n",
              "      <td>0.0</td>\n",
              "      <td>0.0</td>\n",
              "      <td>0.025215</td>\n",
              "      <td>0.025006</td>\n",
              "      <td>0.711912</td>\n",
              "      <td>0.025030</td>\n",
              "      <td>0.212836</td>\n",
              "      <td>0.369667</td>\n",
              "      <td>0.058030</td>\n",
              "      <td>0.021429</td>\n",
              "      <td>0.009524</td>\n",
              "      <td>0.692308</td>\n",
              "      <td>0.307692</td>\n",
              "      <td>0.264899</td>\n",
              "      <td>0.100000</td>\n",
              "      <td>0.5</td>\n",
              "      <td>-0.095833</td>\n",
              "      <td>-0.166667</td>\n",
              "      <td>-0.050000</td>\n",
              "      <td>0.000000</td>\n",
              "      <td>0.000000</td>\n",
              "      <td>0.500000</td>\n",
              "      <td>0.000000</td>\n",
              "      <td>2000.0</td>\n",
              "    </tr>\n",
              "    <tr>\n",
              "      <th>24997</th>\n",
              "      <td>24998.0</td>\n",
              "      <td>13.0</td>\n",
              "      <td>295.0</td>\n",
              "      <td>0.611722</td>\n",
              "      <td>1.0</td>\n",
              "      <td>0.742690</td>\n",
              "      <td>5.0</td>\n",
              "      <td>5.0</td>\n",
              "      <td>9.0</td>\n",
              "      <td>1.0</td>\n",
              "      <td>4.844068</td>\n",
              "      <td>4.0</td>\n",
              "      <td>0.0</td>\n",
              "      <td>0.0</td>\n",
              "      <td>0.0</td>\n",
              "      <td>0.0</td>\n",
              "      <td>0.0</td>\n",
              "      <td>1.0</td>\n",
              "      <td>-1.0</td>\n",
              "      <td>762.0</td>\n",
              "      <td>201.250000</td>\n",
              "      <td>12600.0</td>\n",
              "      <td>843300.0</td>\n",
              "      <td>266250.0000</td>\n",
              "      <td>2251.846215</td>\n",
              "      <td>3590.674878</td>\n",
              "      <td>2688.538392</td>\n",
              "      <td>903.0</td>\n",
              "      <td>1100.0</td>\n",
              "      <td>968.250000</td>\n",
              "      <td>0.0</td>\n",
              "      <td>0.0</td>\n",
              "      <td>0.0</td>\n",
              "      <td>1.0</td>\n",
              "      <td>0.0</td>\n",
              "      <td>0.0</td>\n",
              "      <td>0.0</td>\n",
              "      <td>0.0</td>\n",
              "      <td>0.050001</td>\n",
              "      <td>0.050000</td>\n",
              "      <td>0.799995</td>\n",
              "      <td>0.050000</td>\n",
              "      <td>0.050004</td>\n",
              "      <td>0.368889</td>\n",
              "      <td>0.055556</td>\n",
              "      <td>0.013559</td>\n",
              "      <td>0.016949</td>\n",
              "      <td>0.444444</td>\n",
              "      <td>0.555556</td>\n",
              "      <td>0.412500</td>\n",
              "      <td>0.200000</td>\n",
              "      <td>0.7</td>\n",
              "      <td>-0.163333</td>\n",
              "      <td>-0.200000</td>\n",
              "      <td>-0.050000</td>\n",
              "      <td>0.333333</td>\n",
              "      <td>0.250000</td>\n",
              "      <td>0.166667</td>\n",
              "      <td>0.250000</td>\n",
              "      <td>1600.0</td>\n",
              "    </tr>\n",
              "    <tr>\n",
              "      <th>24998</th>\n",
              "      <td>24999.0</td>\n",
              "      <td>12.0</td>\n",
              "      <td>399.0</td>\n",
              "      <td>0.506394</td>\n",
              "      <td>1.0</td>\n",
              "      <td>0.651064</td>\n",
              "      <td>5.0</td>\n",
              "      <td>3.0</td>\n",
              "      <td>1.0</td>\n",
              "      <td>2.0</td>\n",
              "      <td>4.573935</td>\n",
              "      <td>7.0</td>\n",
              "      <td>0.0</td>\n",
              "      <td>0.0</td>\n",
              "      <td>0.0</td>\n",
              "      <td>0.0</td>\n",
              "      <td>0.0</td>\n",
              "      <td>1.0</td>\n",
              "      <td>-1.0</td>\n",
              "      <td>686.0</td>\n",
              "      <td>287.285714</td>\n",
              "      <td>2300.0</td>\n",
              "      <td>843300.0</td>\n",
              "      <td>247028.5714</td>\n",
              "      <td>1225.222222</td>\n",
              "      <td>3532.775830</td>\n",
              "      <td>2530.202616</td>\n",
              "      <td>1700.0</td>\n",
              "      <td>8200.0</td>\n",
              "      <td>4950.000000</td>\n",
              "      <td>0.0</td>\n",
              "      <td>1.0</td>\n",
              "      <td>0.0</td>\n",
              "      <td>0.0</td>\n",
              "      <td>0.0</td>\n",
              "      <td>0.0</td>\n",
              "      <td>0.0</td>\n",
              "      <td>0.0</td>\n",
              "      <td>0.028586</td>\n",
              "      <td>0.028572</td>\n",
              "      <td>0.726841</td>\n",
              "      <td>0.028601</td>\n",
              "      <td>0.187400</td>\n",
              "      <td>0.388054</td>\n",
              "      <td>0.072378</td>\n",
              "      <td>0.035088</td>\n",
              "      <td>0.020050</td>\n",
              "      <td>0.636364</td>\n",
              "      <td>0.363636</td>\n",
              "      <td>0.317273</td>\n",
              "      <td>0.100000</td>\n",
              "      <td>0.8</td>\n",
              "      <td>-0.300000</td>\n",
              "      <td>-0.500000</td>\n",
              "      <td>-0.050000</td>\n",
              "      <td>0.250000</td>\n",
              "      <td>-0.250000</td>\n",
              "      <td>0.250000</td>\n",
              "      <td>0.250000</td>\n",
              "      <td>671.0</td>\n",
              "    </tr>\n",
              "    <tr>\n",
              "      <th>24999</th>\n",
              "      <td>25000.0</td>\n",
              "      <td>12.0</td>\n",
              "      <td>261.0</td>\n",
              "      <td>0.613900</td>\n",
              "      <td>1.0</td>\n",
              "      <td>0.788079</td>\n",
              "      <td>5.0</td>\n",
              "      <td>3.0</td>\n",
              "      <td>2.0</td>\n",
              "      <td>1.0</td>\n",
              "      <td>4.678161</td>\n",
              "      <td>8.0</td>\n",
              "      <td>0.0</td>\n",
              "      <td>0.0</td>\n",
              "      <td>0.0</td>\n",
              "      <td>0.0</td>\n",
              "      <td>0.0</td>\n",
              "      <td>0.0</td>\n",
              "      <td>-1.0</td>\n",
              "      <td>472.0</td>\n",
              "      <td>66.250000</td>\n",
              "      <td>36600.0</td>\n",
              "      <td>843300.0</td>\n",
              "      <td>306775.0000</td>\n",
              "      <td>2544.896226</td>\n",
              "      <td>5768.431251</td>\n",
              "      <td>3908.423734</td>\n",
              "      <td>1400.0</td>\n",
              "      <td>4100.0</td>\n",
              "      <td>2750.000000</td>\n",
              "      <td>0.0</td>\n",
              "      <td>0.0</td>\n",
              "      <td>0.0</td>\n",
              "      <td>1.0</td>\n",
              "      <td>0.0</td>\n",
              "      <td>0.0</td>\n",
              "      <td>0.0</td>\n",
              "      <td>0.0</td>\n",
              "      <td>0.025007</td>\n",
              "      <td>0.025458</td>\n",
              "      <td>0.025019</td>\n",
              "      <td>0.898628</td>\n",
              "      <td>0.025887</td>\n",
              "      <td>0.488462</td>\n",
              "      <td>0.128889</td>\n",
              "      <td>0.026820</td>\n",
              "      <td>0.011494</td>\n",
              "      <td>0.700000</td>\n",
              "      <td>0.300000</td>\n",
              "      <td>0.454762</td>\n",
              "      <td>0.100000</td>\n",
              "      <td>1.0</td>\n",
              "      <td>-0.416667</td>\n",
              "      <td>-1.000000</td>\n",
              "      <td>-0.100000</td>\n",
              "      <td>0.000000</td>\n",
              "      <td>0.000000</td>\n",
              "      <td>0.500000</td>\n",
              "      <td>0.000000</td>\n",
              "      <td>951.0</td>\n",
              "    </tr>\n",
              "  </tbody>\n",
              "</table>\n",
              "<p>25000 rows × 60 columns</p>\n",
              "</div>"
            ],
            "text/plain": [
              "            id    v1      v2        v3   v4        v5    v6   v7    v8   v9  \\\n",
              "0          1.0  13.0   472.0  0.516129  1.0  0.677656   7.0  3.0   1.0  0.0   \n",
              "1          2.0  12.0   701.0  0.522963  1.0  0.677201  10.0  5.0  10.0  1.0   \n",
              "2          3.0   8.0   174.0  0.724551  1.0  0.896226   1.0  1.0   1.0  0.0   \n",
              "3          4.0  10.0  2347.0  0.359368  1.0  0.551497  36.0  8.0   3.0  1.0   \n",
              "4          5.0   7.0   280.0  0.563636  1.0  0.700599   8.0  5.0   1.0  0.0   \n",
              "...        ...   ...     ...       ...  ...       ...   ...  ...   ...  ...   \n",
              "24995  24996.0  11.0   335.0  0.608563  1.0  0.817708  12.0  3.0   0.0  1.0   \n",
              "24996  24997.0  10.0   420.0  0.554455  1.0  0.735178  13.0  5.0   3.0  0.0   \n",
              "24997  24998.0  13.0   295.0  0.611722  1.0  0.742690   5.0  5.0   9.0  1.0   \n",
              "24998  24999.0  12.0   399.0  0.506394  1.0  0.651064   5.0  3.0   1.0  2.0   \n",
              "24999  25000.0  12.0   261.0  0.613900  1.0  0.788079   5.0  3.0   2.0  1.0   \n",
              "\n",
              "            v10   v11  v12  v13  v14  v15  v16  v17    v18     v19  \\\n",
              "0      4.843220   4.0  0.0  0.0  0.0  0.0  0.0  1.0   -1.0     0.0   \n",
              "1      4.763195   9.0  0.0  0.0  0.0  0.0  0.0  1.0   -1.0   804.0   \n",
              "2      4.385057   5.0  0.0  0.0  0.0  0.0  1.0  0.0  217.0   342.0   \n",
              "3      4.907542   6.0  0.0  0.0  1.0  0.0  0.0  0.0   -1.0  1100.0   \n",
              "4      5.132143   8.0  0.0  0.0  1.0  0.0  0.0  0.0   -1.0   718.0   \n",
              "...         ...   ...  ...  ...  ...  ...  ...  ...    ...     ...   \n",
              "24995  4.817910  10.0  0.0  0.0  0.0  0.0  1.0  0.0   -1.0  1400.0   \n",
              "24996  4.911905   8.0  0.0  0.0  0.0  0.0  0.0  1.0   -1.0   245.0   \n",
              "24997  4.844068   4.0  0.0  0.0  0.0  0.0  0.0  1.0   -1.0   762.0   \n",
              "24998  4.573935   7.0  0.0  0.0  0.0  0.0  0.0  1.0   -1.0   686.0   \n",
              "24999  4.678161   8.0  0.0  0.0  0.0  0.0  0.0  0.0   -1.0   472.0   \n",
              "\n",
              "              v20      v21       v22          v23          v24          v25  \\\n",
              "0       -1.000000  67700.0  843300.0  417575.0000  2185.450945  3467.837885   \n",
              "1      193.625000      0.0  843300.0  209755.5556     0.000000  4101.893971   \n",
              "2      279.500000      0.0  617900.0  142120.0000     0.000000  3159.522593   \n",
              "3      271.666667  27700.0  843300.0  327316.6667  3193.319812  6003.888889   \n",
              "4      263.698750   4800.0  843300.0  222525.0000  1838.148148  3582.545966   \n",
              "...           ...      ...       ...          ...          ...          ...   \n",
              "24995  344.900000   5100.0  843300.0  330980.0000  2690.000000  4187.103226   \n",
              "24996   68.000000      0.0  843300.0  236875.0000     0.000000  4355.694105   \n",
              "24997  201.250000  12600.0  843300.0  266250.0000  2251.846215  3590.674878   \n",
              "24998  287.285714   2300.0  843300.0  247028.5714  1225.222222  3532.775830   \n",
              "24999   66.250000  36600.0  843300.0  306775.0000  2544.896226  5768.431251   \n",
              "\n",
              "               v26     v27      v28           v29  v30  v31  v32  v33  v34  \\\n",
              "0      2639.664540   568.0   5800.0   2323.666667  0.0  0.0  0.0  1.0  0.0   \n",
              "1      2114.472589     0.0      0.0      0.000000  0.0  0.0  0.0  1.0  0.0   \n",
              "2      2108.652601     0.0      0.0      0.000000  1.0  0.0  0.0  0.0  0.0   \n",
              "3      4260.332820  1700.0  25900.0  10233.333330  0.0  0.0  0.0  0.0  0.0   \n",
              "4      2503.522903   860.0   7900.0   2940.000000  0.0  1.0  0.0  0.0  0.0   \n",
              "...            ...     ...      ...           ...  ...  ...  ...  ...  ...   \n",
              "24995  3400.699863     0.0      0.0      0.000000  0.0  0.0  1.0  0.0  0.0   \n",
              "24996  2328.259122   516.0    516.0    516.000000  0.0  0.0  1.0  0.0  0.0   \n",
              "24997  2688.538392   903.0   1100.0    968.250000  0.0  0.0  0.0  1.0  0.0   \n",
              "24998  2530.202616  1700.0   8200.0   4950.000000  0.0  1.0  0.0  0.0  0.0   \n",
              "24999  3908.423734  1400.0   4100.0   2750.000000  0.0  0.0  0.0  1.0  0.0   \n",
              "\n",
              "       v35  v36  v37       v38       v39       v40       v41       v42  \\\n",
              "0      0.0  0.0  0.0  0.050001  0.050000  0.799993  0.050000  0.050006   \n",
              "1      0.0  0.0  0.0  0.244963  0.022224  0.571054  0.022223  0.139535   \n",
              "2      0.0  0.0  0.0  0.040030  0.040623  0.040019  0.040019  0.839309   \n",
              "3      0.0  1.0  1.0  0.700278  0.198502  0.033334  0.033334  0.034553   \n",
              "4      0.0  0.0  0.0  0.475835  0.025101  0.279301  0.025000  0.194762   \n",
              "...    ...  ...  ...       ...       ...       ...       ...       ...   \n",
              "24995  0.0  0.0  0.0  0.020185  0.020003  0.020010  0.020000  0.919802   \n",
              "24996  0.0  0.0  0.0  0.025215  0.025006  0.711912  0.025030  0.212836   \n",
              "24997  0.0  0.0  0.0  0.050001  0.050000  0.799995  0.050000  0.050004   \n",
              "24998  0.0  0.0  0.0  0.028586  0.028572  0.726841  0.028601  0.187400   \n",
              "24999  0.0  0.0  0.0  0.025007  0.025458  0.025019  0.898628  0.025887   \n",
              "\n",
              "            v43       v44       v45       v46       v47       v48       v49  \\\n",
              "0      0.408591  0.047852  0.012712  0.004237  0.750000  0.250000  0.278283   \n",
              "1      0.406442  0.185152  0.051355  0.007133  0.878049  0.121951  0.368439   \n",
              "2      0.255628  0.029437  0.011494  0.022989  0.333333  0.666667  0.366667   \n",
              "3      0.479196  0.171219  0.051129  0.014913  0.774194  0.225806  0.374936   \n",
              "4      0.350535  0.166043  0.039286  0.000000  1.000000  0.000000  0.288430   \n",
              "...         ...       ...       ...       ...       ...       ...       ...   \n",
              "24995  0.431481  0.215123  0.044776  0.005970  0.882353  0.117647  0.408889   \n",
              "24996  0.369667  0.058030  0.021429  0.009524  0.692308  0.307692  0.264899   \n",
              "24997  0.368889  0.055556  0.013559  0.016949  0.444444  0.555556  0.412500   \n",
              "24998  0.388054  0.072378  0.035088  0.020050  0.636364  0.363636  0.317273   \n",
              "24999  0.488462  0.128889  0.026820  0.011494  0.700000  0.300000  0.454762   \n",
              "\n",
              "            v50  v51       v52       v53       v54       v55       v56  \\\n",
              "0      0.100000  0.6 -0.523810 -0.714286 -0.333333  0.000000  0.000000   \n",
              "1      0.033333  1.0 -0.275000 -0.600000 -0.050000  0.222222  0.244444   \n",
              "2      0.333333  0.4 -0.102381 -0.166667 -0.071429  0.000000  0.000000   \n",
              "3      0.033333  1.0 -0.245176 -0.800000 -0.050000  0.000000  0.000000   \n",
              "4      0.100000  1.0  0.000000  0.000000  0.000000  0.000000  0.000000   \n",
              "...         ...  ...       ...       ...       ...       ...       ...   \n",
              "24995  0.033333  0.6 -0.225000 -0.250000 -0.200000  0.000000  0.000000   \n",
              "24996  0.100000  0.5 -0.095833 -0.166667 -0.050000  0.000000  0.000000   \n",
              "24997  0.200000  0.7 -0.163333 -0.200000 -0.050000  0.333333  0.250000   \n",
              "24998  0.100000  0.8 -0.300000 -0.500000 -0.050000  0.250000 -0.250000   \n",
              "24999  0.100000  1.0 -0.416667 -1.000000 -0.100000  0.000000  0.000000   \n",
              "\n",
              "            v57       v58  target  \n",
              "0      0.500000  0.000000  1600.0  \n",
              "1      0.277778  0.244444  1700.0  \n",
              "2      0.500000  0.000000  3100.0  \n",
              "3      0.500000  0.000000  1800.0  \n",
              "4      0.500000  0.000000  2900.0  \n",
              "...         ...       ...     ...  \n",
              "24995  0.500000  0.000000  1300.0  \n",
              "24996  0.500000  0.000000  2000.0  \n",
              "24997  0.166667  0.250000  1600.0  \n",
              "24998  0.250000  0.250000   671.0  \n",
              "24999  0.500000  0.000000   951.0  \n",
              "\n",
              "[25000 rows x 60 columns]"
            ]
          },
          "metadata": {
            "tags": []
          },
          "execution_count": 20
        }
      ]
    },
    {
      "cell_type": "markdown",
      "metadata": {
        "id": "8LTWH123sK1z"
      },
      "source": [
        "## Linear Regression"
      ]
    },
    {
      "cell_type": "code",
      "metadata": {
        "ExecuteTime": {
          "end_time": "2020-03-09T07:33:23.368390Z",
          "start_time": "2020-03-09T07:33:23.292686Z"
        },
        "id": "Jm7ahk7CsK10"
      },
      "source": [
        "# Train a linear regression model, report the coefficients and model performance \n",
        "\n",
        "from sklearn.linear_model import LinearRegression\n",
        "from sklearn.model_selection import cross_val_score\n",
        "from sklearn.model_selection import KFold"
      ],
      "execution_count": 24,
      "outputs": []
    },
    {
      "cell_type": "code",
      "metadata": {
        "id": "sMtQUVoviywu",
        "outputId": "a7ba646c-2e8e-4998-fc6f-62ad76e33284",
        "colab": {
          "base_uri": "https://localhost:8080/"
        }
      },
      "source": [
        "lr = LinearRegression().fit(X_train, y_train)\n",
        "n=len(X_train)\n",
        "\n",
        "cv_scores = cross_val_score(lr, X_train, y_train, cv = 5)\n",
        "\n",
        "# Mean Cross validation Score\n",
        "print(\"Mean Cross-validation scores: {}\".format(cv_scores))\n",
        "print()\n",
        "print(\"Mean Cross-validation scores: {}\".format(cv_scores.mean()))\n",
        "print()\n",
        "\n",
        "# Print Co-efficients\n",
        "print(\"lr.coef_:\", lr.coef_)\n",
        "print(\"lr.intercept_:\", lr.intercept_)\n",
        "\n",
        "# Check test data set performance\n",
        "print(\"LR Performance Train: \", lr.score(X_train,y_train))\n",
        "print(\"LR Performance Test: \", lr.score(X_test,y_test))"
      ],
      "execution_count": 25,
      "outputs": [
        {
          "output_type": "stream",
          "text": [
            "Mean Cross-validation scores: [ 3.36030708e-03  4.14285903e-04  1.00150834e-02 -1.92885273e+11\n",
            "  9.29646210e-03]\n",
            "\n",
            "Mean Cross-validation scores: -38577054565.93828\n",
            "\n",
            "lr.coef_: [ 1.00118323e+02  7.84398749e-01  4.31202875e+03 -9.80288675e+02\n",
            " -1.56445756e+03  2.57436886e+01 -7.19556711e+01  1.42445697e+01\n",
            "  7.77143025e+00 -5.98833252e+02  4.83234752e+01 -9.18600640e+02\n",
            " -1.17475909e+03 -2.07954852e+02 -4.92430045e+02 -3.42886053e+02\n",
            " -3.49221041e+02  2.54090277e+00  9.37411278e-02 -4.89945599e-01\n",
            " -2.64928495e-03 -7.24091616e-04 -9.61372914e-04 -3.23909648e-01\n",
            " -2.18833450e-01  1.68707132e+00  2.57386323e-02 -1.60303461e-03\n",
            "  1.41316736e-02  4.39428109e+02 -2.88948982e+02  6.50067806e+01\n",
            " -2.60777224e+02 -1.72634132e+02  5.14876861e+02 -2.96954546e+02\n",
            "  2.17926433e+02  9.78620833e+05  9.78221389e+05  9.77680982e+05\n",
            "  9.78433215e+05  9.78497643e+05  1.84125574e+03  1.29355233e+03\n",
            " -1.20305442e+04  5.09589575e+03  1.69381521e+03  1.93549336e+03\n",
            " -1.93687683e+03 -2.00165010e+03  5.72417982e+02 -2.43311380e+03\n",
            "  3.60593265e+01  9.40888542e+02 -2.43819348e+02 -1.43011585e+02\n",
            "  2.88980672e+02  7.66208868e+02]\n",
            "lr.intercept_: -979452.7479208843\n",
            "LR Performance Train:  0.01843774185267455\n",
            "LR Performance Test:  0.045746547745290744\n"
          ],
          "name": "stdout"
        }
      ]
    },
    {
      "cell_type": "markdown",
      "metadata": {
        "id": "-tCMJAlAsK12"
      },
      "source": [
        "## Polynomial Regression"
      ]
    },
    {
      "cell_type": "code",
      "metadata": {
        "id": "J4V6URHSsK13",
        "outputId": "adfc9e56-8c9a-49ce-ab83-32ba6c62308f",
        "colab": {
          "base_uri": "https://localhost:8080/"
        }
      },
      "source": [
        "# Train a polynomial regression model, report the coefficients, the best parameters, and model performance \n",
        "from sklearn.model_selection import GridSearchCV\n",
        "from sklearn.preprocessing  import PolynomialFeatures\n",
        "from sklearn.pipeline import make_pipeline\n",
        "\n",
        "poly = PolynomialFeatures()\n",
        "lreg = LinearRegression()\n",
        "#define a list of parameters\n",
        "param_poly = {'polynomialfeatures__degree':[2],\n",
        "              'polynomialfeatures__interaction_only' : ['True']}\n",
        "\n",
        "\n",
        "pipe_poly = make_pipeline(PolynomialFeatures(), LinearRegression())\n",
        "grid_poly = GridSearchCV(pipe_poly, param_poly,cv=5, return_train_score = True)\n",
        "\n",
        "\n",
        "grid_poly.fit(X_train, y_train)"
      ],
      "execution_count": 26,
      "outputs": [
        {
          "output_type": "execute_result",
          "data": {
            "text/plain": [
              "GridSearchCV(cv=5, error_score=nan,\n",
              "             estimator=Pipeline(memory=None,\n",
              "                                steps=[('polynomialfeatures',\n",
              "                                        PolynomialFeatures(degree=2,\n",
              "                                                           include_bias=True,\n",
              "                                                           interaction_only=False,\n",
              "                                                           order='C')),\n",
              "                                       ('linearregression',\n",
              "                                        LinearRegression(copy_X=True,\n",
              "                                                         fit_intercept=True,\n",
              "                                                         n_jobs=None,\n",
              "                                                         normalize=False))],\n",
              "                                verbose=False),\n",
              "             iid='deprecated', n_jobs=None,\n",
              "             param_grid={'polynomialfeatures__degree': [2],\n",
              "                         'polynomialfeatures__interaction_only': ['True']},\n",
              "             pre_dispatch='2*n_jobs', refit=True, return_train_score=True,\n",
              "             scoring=None, verbose=0)"
            ]
          },
          "metadata": {
            "tags": []
          },
          "execution_count": 26
        }
      ]
    },
    {
      "cell_type": "code",
      "metadata": {
        "id": "Bjw0HHLYfmsb",
        "outputId": "b5133f3e-85e5-4833-89e2-21160a529e25",
        "colab": {
          "base_uri": "https://localhost:8080/"
        }
      },
      "source": [
        "# Mean Cross Validation Score\n",
        "print(\"Best Mean Cross-validation score: {:.2f}\".format(grid_poly.best_score_))\n",
        "print()\n",
        "\n",
        "#find best parameters\n",
        "print('Poly parameters: ', grid_poly.best_params_)\n",
        "\n",
        "# Check test data set performance\n",
        "print(\"Poly Performance Train : \", grid_poly.score(X_train,y_train))\n",
        "print(\"Poly Performance Test : \", grid_poly.score(X_test,y_test))\n"
      ],
      "execution_count": 27,
      "outputs": [
        {
          "output_type": "stream",
          "text": [
            "Best Mean Cross-validation score: -213385751567087.19\n",
            "\n",
            "Poly parameters:  {'polynomialfeatures__degree': 2, 'polynomialfeatures__interaction_only': 'True'}\n",
            "Poly Performance Train :  0.1534454373662857\n",
            "Poly Performance Test :  -35537418219.74808\n"
          ],
          "name": "stdout"
        }
      ]
    },
    {
      "cell_type": "markdown",
      "metadata": {
        "id": "V8hivYE5sK18"
      },
      "source": [
        "## Lasso"
      ]
    },
    {
      "cell_type": "code",
      "metadata": {
        "ExecuteTime": {
          "end_time": "2020-03-09T07:33:38.130469Z",
          "start_time": "2020-03-09T07:33:37.468173Z"
        },
        "id": "YF9qkTtvsK19",
        "outputId": "8c7ac9a4-51d0-43a1-9cf1-51fb8cfee310",
        "colab": {
          "base_uri": "https://localhost:8080/"
        }
      },
      "source": [
        "# Train a Lasso regression model, report the coefficients, the best parameters, and model performance \n",
        "\n",
        "# YOUR CODE HERE\n",
        "\n",
        "from sklearn.linear_model import Lasso\n",
        "lasso = Lasso(random_state=0, max_iter=1000)\n",
        "\n",
        "#define a list of parameters\n",
        "param_lasso = {'alpha':[10, 50, 100, 200, 400] }\n",
        "\n",
        "grid_lasso = GridSearchCV(lasso, param_lasso, cv=5, return_train_score = True)\n",
        "grid_lasso.fit(X_train, y_train)\n",
        "\n",
        "# Mean Cross Validation Score\n",
        "print(\"Best Mean Cross-validation score: {:.2f}\".format(grid_lasso.best_score_))\n",
        "print()\n",
        "\n",
        "#find best parameters\n",
        "print('Lasso parameters: ', grid_lasso.best_params_)\n",
        "\n",
        "# Check test data set performance\n",
        "print(\"Lasso Train Performance: \", grid_lasso.score(X_train,y_train))\n",
        "print(\"Lasso Test Performance: \", grid_lasso.score(X_test,y_test))"
      ],
      "execution_count": 31,
      "outputs": [
        {
          "output_type": "stream",
          "text": [
            "Best Mean Cross-validation score: 0.01\n",
            "\n",
            "Lasso parameters:  {'alpha': 50}\n",
            "Lasso Train Performance:  0.016377503102769753\n",
            "Lasso Test Performance:  0.04078712214402491\n"
          ],
          "name": "stdout"
        }
      ]
    },
    {
      "cell_type": "code",
      "metadata": {
        "id": "JF6n9j59sImf"
      },
      "source": [
        ""
      ],
      "execution_count": null,
      "outputs": []
    },
    {
      "cell_type": "markdown",
      "metadata": {
        "id": "hPZGNEQ7sK2I"
      },
      "source": [
        "## KNN Regression"
      ]
    },
    {
      "cell_type": "code",
      "metadata": {
        "id": "qZwJpwETsK2I",
        "outputId": "12821776-834a-4f48-aeb4-df2ca791487b",
        "colab": {
          "base_uri": "https://localhost:8080/"
        }
      },
      "source": [
        "# Train a KNN model, report the coefficients, the best parameters, and model performance \n",
        "# hint: find the optimal k\n",
        "\n",
        "# YOUR CODE HERE\n",
        "from sklearn.preprocessing import MinMaxScaler\n",
        "from sklearn.model_selection import GridSearchCV\n",
        "from sklearn.neighbors import KNeighborsRegressor\n",
        "\n",
        "knn = KNeighborsRegressor()\n",
        "\n",
        "# define a list of parameters\n",
        "param_knn = {'n_neighbors': [5, 10, 15, 20],\n",
        "             'metric' : ['euclidean', 'manhattan']}\n",
        "\n",
        "\n",
        "#apply grid search\n",
        "grid_knn = GridSearchCV(knn, param_knn, cv=7, return_train_score=True)\n",
        "grid_knn.fit(X_train, y_train)\n",
        "\n",
        "# Mean Cross Validation Score\n",
        "print(\"Best Mean Cross-validation score: {:.2f}\".format(grid_knn.best_score_))\n",
        "print()\n",
        "\n",
        "#find best parameters\n",
        "print('KNN parameters: ', grid_knn.best_params_)\n",
        "\n",
        "# Check test data set performance\n",
        "print(\"KNN Performance Train: \", grid_knn.score(X_train,y_train))\n",
        "print(\"KNN Performance Test: \", grid_knn.score(X_test,y_test))"
      ],
      "execution_count": 32,
      "outputs": [
        {
          "output_type": "stream",
          "text": [
            "Best Mean Cross-validation score: -0.04\n",
            "\n",
            "KNN parameters:  {'metric': 'manhattan', 'n_neighbors': 20}\n",
            "KNN Performance Train:  0.08321453941892233\n",
            "KNN Performance Test:  0.014700949714760214\n"
          ],
          "name": "stdout"
        }
      ]
    }
  ]
}