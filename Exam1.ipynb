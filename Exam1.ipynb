{
  "nbformat": 4,
  "nbformat_minor": 0,
  "metadata": {
    "colab": {
      "name": "Untitled17.ipynb",
      "provenance": [],
      "toc_visible": true,
      "authorship_tag": "ABX9TyOeHuO/uWJBLoum5avmCPgh",
      "include_colab_link": true
    },
    "kernelspec": {
      "name": "python3",
      "display_name": "Python 3"
    },
    "accelerator": "GPU"
  },
  "cells": [
    {
      "cell_type": "markdown",
      "metadata": {
        "id": "view-in-github",
        "colab_type": "text"
      },
      "source": [
        "<a href=\"https://colab.research.google.com/github/rajadevineni/Applied_ML_Coding_Exam1/blob/main/Exam1.ipynb\" target=\"_parent\"><img src=\"https://colab.research.google.com/assets/colab-badge.svg\" alt=\"Open In Colab\"/></a>"
      ]
    },
    {
      "cell_type": "markdown",
      "metadata": {
        "id": "X1JiYBtmw3L5"
      },
      "source": [
        "# Importing libraries and dataset"
      ]
    },
    {
      "cell_type": "code",
      "metadata": {
        "id": "-cSZUBDmkTTK",
        "outputId": "3e88b3c4-a271-492f-aba1-354d6d2feefa",
        "colab": {
          "base_uri": "https://localhost:8080/"
        }
      },
      "source": [
        "!pip install feature_engine"
      ],
      "execution_count": null,
      "outputs": [
        {
          "output_type": "stream",
          "text": [
            "Requirement already satisfied: feature_engine in /usr/local/lib/python3.6/dist-packages (0.6.1)\n",
            "Requirement already satisfied: statsmodels>=0.11.1 in /usr/local/lib/python3.6/dist-packages (from feature_engine) (0.12.1)\n",
            "Requirement already satisfied: scikit-learn>=0.22.2 in /usr/local/lib/python3.6/dist-packages (from feature_engine) (0.22.2.post1)\n",
            "Requirement already satisfied: numpy>=1.18.2 in /usr/local/lib/python3.6/dist-packages (from feature_engine) (1.18.5)\n",
            "Requirement already satisfied: scipy>=1.4.1 in /usr/local/lib/python3.6/dist-packages (from feature_engine) (1.4.1)\n",
            "Requirement already satisfied: pandas>=1.0.3 in /usr/local/lib/python3.6/dist-packages (from feature_engine) (1.1.4)\n",
            "Requirement already satisfied: patsy>=0.5 in /usr/local/lib/python3.6/dist-packages (from statsmodels>=0.11.1->feature_engine) (0.5.1)\n",
            "Requirement already satisfied: joblib>=0.11 in /usr/local/lib/python3.6/dist-packages (from scikit-learn>=0.22.2->feature_engine) (0.17.0)\n",
            "Requirement already satisfied: python-dateutil>=2.7.3 in /usr/local/lib/python3.6/dist-packages (from pandas>=1.0.3->feature_engine) (2.8.1)\n",
            "Requirement already satisfied: pytz>=2017.2 in /usr/local/lib/python3.6/dist-packages (from pandas>=1.0.3->feature_engine) (2018.9)\n",
            "Requirement already satisfied: six in /usr/local/lib/python3.6/dist-packages (from patsy>=0.5->statsmodels>=0.11.1->feature_engine) (1.15.0)\n"
          ],
          "name": "stdout"
        }
      ]
    },
    {
      "cell_type": "code",
      "metadata": {
        "id": "VGl9939rk48u"
      },
      "source": [
        "from math import sqrt\n",
        "import pandas as pd\n",
        "import numpy as np\n",
        "import matplotlib.pyplot as plt\n",
        "import seaborn as sns\n",
        "import scipy.stats as stats\n",
        "from pathlib import Path\n",
        "\n",
        "pd.pandas.set_option('display.max_columns', None)\n",
        "%matplotlib inline\n",
        "import warnings\n",
        "warnings.filterwarnings(\"ignore\", category=DeprecationWarning)"
      ],
      "execution_count": null,
      "outputs": []
    },
    {
      "cell_type": "markdown",
      "metadata": {
        "id": "iFIdx37bsK09"
      },
      "source": [
        "### Load Datasets"
      ]
    },
    {
      "cell_type": "code",
      "metadata": {
        "ExecuteTime": {
          "end_time": "2020-03-09T07:32:50.854852Z",
          "start_time": "2020-03-09T07:32:50.812739Z"
        },
        "id": "Xb2ctCx_sK0-",
        "outputId": "c66c4dee-bc0f-4d3e-b0e4-061e528b1c24",
        "colab": {
          "base_uri": "https://localhost:8080/"
        }
      },
      "source": [
        "# load dataset\n",
        "# your code here\n",
        "path = \"https://raw.githubusercontent.com/rajadevineni/Applied_ML_Coding_Exam1/main/train_rev.csv\"\n",
        "data = pd.read_csv(path)\n",
        "print('Shape of Dataset: ',data.shape)"
      ],
      "execution_count": null,
      "outputs": [
        {
          "output_type": "stream",
          "text": [
            "Shape of Dataset:  (21788, 60)\n"
          ],
          "name": "stdout"
        }
      ]
    },
    {
      "cell_type": "code",
      "metadata": {
        "id": "lqCH0D4lmJGh",
        "outputId": "add29030-a180-4d68-a03b-a3b8eb7c5a98",
        "colab": {
          "base_uri": "https://localhost:8080/",
          "height": 224
        }
      },
      "source": [
        "data.rename(columns={\"id \": \"id\"}, inplace=True)\n",
        "data.head()"
      ],
      "execution_count": null,
      "outputs": [
        {
          "output_type": "execute_result",
          "data": {
            "text/html": [
              "<div>\n",
              "<style scoped>\n",
              "    .dataframe tbody tr th:only-of-type {\n",
              "        vertical-align: middle;\n",
              "    }\n",
              "\n",
              "    .dataframe tbody tr th {\n",
              "        vertical-align: top;\n",
              "    }\n",
              "\n",
              "    .dataframe thead th {\n",
              "        text-align: right;\n",
              "    }\n",
              "</style>\n",
              "<table border=\"1\" class=\"dataframe\">\n",
              "  <thead>\n",
              "    <tr style=\"text-align: right;\">\n",
              "      <th></th>\n",
              "      <th>id</th>\n",
              "      <th>v1</th>\n",
              "      <th>v2</th>\n",
              "      <th>v3</th>\n",
              "      <th>v4</th>\n",
              "      <th>v5</th>\n",
              "      <th>v6</th>\n",
              "      <th>v7</th>\n",
              "      <th>v8</th>\n",
              "      <th>v9</th>\n",
              "      <th>v10</th>\n",
              "      <th>v11</th>\n",
              "      <th>v12</th>\n",
              "      <th>v13</th>\n",
              "      <th>v14</th>\n",
              "      <th>v15</th>\n",
              "      <th>v16</th>\n",
              "      <th>v17</th>\n",
              "      <th>v18</th>\n",
              "      <th>v19</th>\n",
              "      <th>v20</th>\n",
              "      <th>v21</th>\n",
              "      <th>v22</th>\n",
              "      <th>v23</th>\n",
              "      <th>v24</th>\n",
              "      <th>v25</th>\n",
              "      <th>v26</th>\n",
              "      <th>v27</th>\n",
              "      <th>v28</th>\n",
              "      <th>v29</th>\n",
              "      <th>v30</th>\n",
              "      <th>v31</th>\n",
              "      <th>v32</th>\n",
              "      <th>v33</th>\n",
              "      <th>v34</th>\n",
              "      <th>v35</th>\n",
              "      <th>v36</th>\n",
              "      <th>v37</th>\n",
              "      <th>v38</th>\n",
              "      <th>v39</th>\n",
              "      <th>v40</th>\n",
              "      <th>v41</th>\n",
              "      <th>v42</th>\n",
              "      <th>v43</th>\n",
              "      <th>v44</th>\n",
              "      <th>v45</th>\n",
              "      <th>v46</th>\n",
              "      <th>v47</th>\n",
              "      <th>v48</th>\n",
              "      <th>v49</th>\n",
              "      <th>v50</th>\n",
              "      <th>v51</th>\n",
              "      <th>v52</th>\n",
              "      <th>v53</th>\n",
              "      <th>v54</th>\n",
              "      <th>v55</th>\n",
              "      <th>v56</th>\n",
              "      <th>v57</th>\n",
              "      <th>v58</th>\n",
              "      <th>target</th>\n",
              "    </tr>\n",
              "  </thead>\n",
              "  <tbody>\n",
              "    <tr>\n",
              "      <th>0</th>\n",
              "      <td>1</td>\n",
              "      <td>13</td>\n",
              "      <td>472</td>\n",
              "      <td>0.516129</td>\n",
              "      <td>1.0</td>\n",
              "      <td>0.677656</td>\n",
              "      <td>7</td>\n",
              "      <td>3</td>\n",
              "      <td>1</td>\n",
              "      <td>0</td>\n",
              "      <td>4.843220</td>\n",
              "      <td>4</td>\n",
              "      <td>0</td>\n",
              "      <td>0</td>\n",
              "      <td>0</td>\n",
              "      <td>0</td>\n",
              "      <td>0</td>\n",
              "      <td>1</td>\n",
              "      <td>-1</td>\n",
              "      <td>0.0</td>\n",
              "      <td>-1.000000</td>\n",
              "      <td>67700</td>\n",
              "      <td>843300</td>\n",
              "      <td>417575.0000</td>\n",
              "      <td>2185.450945</td>\n",
              "      <td>3467.837885</td>\n",
              "      <td>2639.664540</td>\n",
              "      <td>568.0</td>\n",
              "      <td>5800.0</td>\n",
              "      <td>2323.666667</td>\n",
              "      <td>0</td>\n",
              "      <td>0</td>\n",
              "      <td>0</td>\n",
              "      <td>1</td>\n",
              "      <td>0</td>\n",
              "      <td>0</td>\n",
              "      <td>0</td>\n",
              "      <td>0</td>\n",
              "      <td>0.050001</td>\n",
              "      <td>0.050000</td>\n",
              "      <td>0.799993</td>\n",
              "      <td>0.050000</td>\n",
              "      <td>0.050006</td>\n",
              "      <td>0.408591</td>\n",
              "      <td>0.047852</td>\n",
              "      <td>0.012712</td>\n",
              "      <td>0.004237</td>\n",
              "      <td>0.750000</td>\n",
              "      <td>0.250000</td>\n",
              "      <td>0.278283</td>\n",
              "      <td>0.100000</td>\n",
              "      <td>0.6</td>\n",
              "      <td>-0.523810</td>\n",
              "      <td>-0.714286</td>\n",
              "      <td>-0.333333</td>\n",
              "      <td>0.000000</td>\n",
              "      <td>0.000000</td>\n",
              "      <td>0.500000</td>\n",
              "      <td>0.000000</td>\n",
              "      <td>1600</td>\n",
              "    </tr>\n",
              "    <tr>\n",
              "      <th>1</th>\n",
              "      <td>2</td>\n",
              "      <td>12</td>\n",
              "      <td>701</td>\n",
              "      <td>0.522963</td>\n",
              "      <td>1.0</td>\n",
              "      <td>0.677201</td>\n",
              "      <td>10</td>\n",
              "      <td>5</td>\n",
              "      <td>10</td>\n",
              "      <td>1</td>\n",
              "      <td>4.763195</td>\n",
              "      <td>9</td>\n",
              "      <td>0</td>\n",
              "      <td>0</td>\n",
              "      <td>0</td>\n",
              "      <td>0</td>\n",
              "      <td>0</td>\n",
              "      <td>1</td>\n",
              "      <td>-1</td>\n",
              "      <td>804.0</td>\n",
              "      <td>193.625000</td>\n",
              "      <td>0</td>\n",
              "      <td>843300</td>\n",
              "      <td>209755.5556</td>\n",
              "      <td>0.000000</td>\n",
              "      <td>4101.893971</td>\n",
              "      <td>2114.472589</td>\n",
              "      <td>0.0</td>\n",
              "      <td>0.0</td>\n",
              "      <td>0.000000</td>\n",
              "      <td>0</td>\n",
              "      <td>0</td>\n",
              "      <td>0</td>\n",
              "      <td>1</td>\n",
              "      <td>0</td>\n",
              "      <td>0</td>\n",
              "      <td>0</td>\n",
              "      <td>0</td>\n",
              "      <td>0.244963</td>\n",
              "      <td>0.022224</td>\n",
              "      <td>0.571054</td>\n",
              "      <td>0.022223</td>\n",
              "      <td>0.139535</td>\n",
              "      <td>0.406442</td>\n",
              "      <td>0.185152</td>\n",
              "      <td>0.051355</td>\n",
              "      <td>0.007133</td>\n",
              "      <td>0.878049</td>\n",
              "      <td>0.121951</td>\n",
              "      <td>0.368439</td>\n",
              "      <td>0.033333</td>\n",
              "      <td>1.0</td>\n",
              "      <td>-0.275000</td>\n",
              "      <td>-0.600000</td>\n",
              "      <td>-0.050000</td>\n",
              "      <td>0.222222</td>\n",
              "      <td>0.244444</td>\n",
              "      <td>0.277778</td>\n",
              "      <td>0.244444</td>\n",
              "      <td>1700</td>\n",
              "    </tr>\n",
              "    <tr>\n",
              "      <th>2</th>\n",
              "      <td>3</td>\n",
              "      <td>8</td>\n",
              "      <td>174</td>\n",
              "      <td>0.724551</td>\n",
              "      <td>1.0</td>\n",
              "      <td>0.896226</td>\n",
              "      <td>1</td>\n",
              "      <td>1</td>\n",
              "      <td>1</td>\n",
              "      <td>0</td>\n",
              "      <td>4.385057</td>\n",
              "      <td>5</td>\n",
              "      <td>0</td>\n",
              "      <td>0</td>\n",
              "      <td>0</td>\n",
              "      <td>0</td>\n",
              "      <td>1</td>\n",
              "      <td>0</td>\n",
              "      <td>217</td>\n",
              "      <td>342.0</td>\n",
              "      <td>279.500000</td>\n",
              "      <td>0</td>\n",
              "      <td>617900</td>\n",
              "      <td>142120.0000</td>\n",
              "      <td>0.000000</td>\n",
              "      <td>3159.522593</td>\n",
              "      <td>2108.652601</td>\n",
              "      <td>0.0</td>\n",
              "      <td>0.0</td>\n",
              "      <td>0.000000</td>\n",
              "      <td>1</td>\n",
              "      <td>0</td>\n",
              "      <td>0</td>\n",
              "      <td>0</td>\n",
              "      <td>0</td>\n",
              "      <td>0</td>\n",
              "      <td>0</td>\n",
              "      <td>0</td>\n",
              "      <td>0.040030</td>\n",
              "      <td>0.040623</td>\n",
              "      <td>0.040019</td>\n",
              "      <td>0.040019</td>\n",
              "      <td>0.839309</td>\n",
              "      <td>0.255628</td>\n",
              "      <td>0.029437</td>\n",
              "      <td>0.011494</td>\n",
              "      <td>0.022989</td>\n",
              "      <td>0.333333</td>\n",
              "      <td>0.666667</td>\n",
              "      <td>0.366667</td>\n",
              "      <td>0.333333</td>\n",
              "      <td>0.4</td>\n",
              "      <td>-0.102381</td>\n",
              "      <td>-0.166667</td>\n",
              "      <td>-0.071429</td>\n",
              "      <td>0.000000</td>\n",
              "      <td>0.000000</td>\n",
              "      <td>0.500000</td>\n",
              "      <td>0.000000</td>\n",
              "      <td>3100</td>\n",
              "    </tr>\n",
              "    <tr>\n",
              "      <th>3</th>\n",
              "      <td>4</td>\n",
              "      <td>10</td>\n",
              "      <td>2347</td>\n",
              "      <td>0.359368</td>\n",
              "      <td>1.0</td>\n",
              "      <td>0.551497</td>\n",
              "      <td>36</td>\n",
              "      <td>8</td>\n",
              "      <td>3</td>\n",
              "      <td>1</td>\n",
              "      <td>4.907542</td>\n",
              "      <td>6</td>\n",
              "      <td>0</td>\n",
              "      <td>0</td>\n",
              "      <td>1</td>\n",
              "      <td>0</td>\n",
              "      <td>0</td>\n",
              "      <td>0</td>\n",
              "      <td>-1</td>\n",
              "      <td>1100.0</td>\n",
              "      <td>271.666667</td>\n",
              "      <td>27700</td>\n",
              "      <td>843300</td>\n",
              "      <td>327316.6667</td>\n",
              "      <td>3193.319812</td>\n",
              "      <td>6003.888889</td>\n",
              "      <td>4260.332820</td>\n",
              "      <td>1700.0</td>\n",
              "      <td>25900.0</td>\n",
              "      <td>10233.333330</td>\n",
              "      <td>0</td>\n",
              "      <td>0</td>\n",
              "      <td>0</td>\n",
              "      <td>0</td>\n",
              "      <td>0</td>\n",
              "      <td>0</td>\n",
              "      <td>1</td>\n",
              "      <td>1</td>\n",
              "      <td>0.700278</td>\n",
              "      <td>0.198502</td>\n",
              "      <td>0.033334</td>\n",
              "      <td>0.033334</td>\n",
              "      <td>0.034553</td>\n",
              "      <td>0.479196</td>\n",
              "      <td>0.171219</td>\n",
              "      <td>0.051129</td>\n",
              "      <td>0.014913</td>\n",
              "      <td>0.774194</td>\n",
              "      <td>0.225806</td>\n",
              "      <td>0.374936</td>\n",
              "      <td>0.033333</td>\n",
              "      <td>1.0</td>\n",
              "      <td>-0.245176</td>\n",
              "      <td>-0.800000</td>\n",
              "      <td>-0.050000</td>\n",
              "      <td>0.000000</td>\n",
              "      <td>0.000000</td>\n",
              "      <td>0.500000</td>\n",
              "      <td>0.000000</td>\n",
              "      <td>1800</td>\n",
              "    </tr>\n",
              "    <tr>\n",
              "      <th>4</th>\n",
              "      <td>5</td>\n",
              "      <td>7</td>\n",
              "      <td>280</td>\n",
              "      <td>0.563636</td>\n",
              "      <td>1.0</td>\n",
              "      <td>0.700599</td>\n",
              "      <td>8</td>\n",
              "      <td>5</td>\n",
              "      <td>1</td>\n",
              "      <td>0</td>\n",
              "      <td>5.132143</td>\n",
              "      <td>8</td>\n",
              "      <td>0</td>\n",
              "      <td>0</td>\n",
              "      <td>1</td>\n",
              "      <td>0</td>\n",
              "      <td>0</td>\n",
              "      <td>0</td>\n",
              "      <td>-1</td>\n",
              "      <td>718.0</td>\n",
              "      <td>263.698750</td>\n",
              "      <td>4800</td>\n",
              "      <td>843300</td>\n",
              "      <td>222525.0000</td>\n",
              "      <td>1838.148148</td>\n",
              "      <td>3582.545966</td>\n",
              "      <td>2503.522903</td>\n",
              "      <td>860.0</td>\n",
              "      <td>7900.0</td>\n",
              "      <td>2940.000000</td>\n",
              "      <td>0</td>\n",
              "      <td>1</td>\n",
              "      <td>0</td>\n",
              "      <td>0</td>\n",
              "      <td>0</td>\n",
              "      <td>0</td>\n",
              "      <td>0</td>\n",
              "      <td>0</td>\n",
              "      <td>0.475835</td>\n",
              "      <td>0.025101</td>\n",
              "      <td>0.279301</td>\n",
              "      <td>0.025000</td>\n",
              "      <td>0.194762</td>\n",
              "      <td>0.350535</td>\n",
              "      <td>0.166043</td>\n",
              "      <td>0.039286</td>\n",
              "      <td>0.000000</td>\n",
              "      <td>1.000000</td>\n",
              "      <td>0.000000</td>\n",
              "      <td>0.288430</td>\n",
              "      <td>0.100000</td>\n",
              "      <td>1.0</td>\n",
              "      <td>0.000000</td>\n",
              "      <td>0.000000</td>\n",
              "      <td>0.000000</td>\n",
              "      <td>0.000000</td>\n",
              "      <td>0.000000</td>\n",
              "      <td>0.500000</td>\n",
              "      <td>0.000000</td>\n",
              "      <td>2900</td>\n",
              "    </tr>\n",
              "  </tbody>\n",
              "</table>\n",
              "</div>"
            ],
            "text/plain": [
              "   id  v1    v2        v3   v4        v5  v6  v7  v8  v9       v10  v11  v12  \\\n",
              "0   1  13   472  0.516129  1.0  0.677656   7   3   1   0  4.843220    4    0   \n",
              "1   2  12   701  0.522963  1.0  0.677201  10   5  10   1  4.763195    9    0   \n",
              "2   3   8   174  0.724551  1.0  0.896226   1   1   1   0  4.385057    5    0   \n",
              "3   4  10  2347  0.359368  1.0  0.551497  36   8   3   1  4.907542    6    0   \n",
              "4   5   7   280  0.563636  1.0  0.700599   8   5   1   0  5.132143    8    0   \n",
              "\n",
              "   v13  v14  v15  v16  v17  v18     v19         v20    v21     v22  \\\n",
              "0    0    0    0    0    1   -1     0.0   -1.000000  67700  843300   \n",
              "1    0    0    0    0    1   -1   804.0  193.625000      0  843300   \n",
              "2    0    0    0    1    0  217   342.0  279.500000      0  617900   \n",
              "3    0    1    0    0    0   -1  1100.0  271.666667  27700  843300   \n",
              "4    0    1    0    0    0   -1   718.0  263.698750   4800  843300   \n",
              "\n",
              "           v23          v24          v25          v26     v27      v28  \\\n",
              "0  417575.0000  2185.450945  3467.837885  2639.664540   568.0   5800.0   \n",
              "1  209755.5556     0.000000  4101.893971  2114.472589     0.0      0.0   \n",
              "2  142120.0000     0.000000  3159.522593  2108.652601     0.0      0.0   \n",
              "3  327316.6667  3193.319812  6003.888889  4260.332820  1700.0  25900.0   \n",
              "4  222525.0000  1838.148148  3582.545966  2503.522903   860.0   7900.0   \n",
              "\n",
              "            v29  v30  v31  v32  v33  v34  v35  v36  v37       v38       v39  \\\n",
              "0   2323.666667    0    0    0    1    0    0    0    0  0.050001  0.050000   \n",
              "1      0.000000    0    0    0    1    0    0    0    0  0.244963  0.022224   \n",
              "2      0.000000    1    0    0    0    0    0    0    0  0.040030  0.040623   \n",
              "3  10233.333330    0    0    0    0    0    0    1    1  0.700278  0.198502   \n",
              "4   2940.000000    0    1    0    0    0    0    0    0  0.475835  0.025101   \n",
              "\n",
              "        v40       v41       v42       v43       v44       v45       v46  \\\n",
              "0  0.799993  0.050000  0.050006  0.408591  0.047852  0.012712  0.004237   \n",
              "1  0.571054  0.022223  0.139535  0.406442  0.185152  0.051355  0.007133   \n",
              "2  0.040019  0.040019  0.839309  0.255628  0.029437  0.011494  0.022989   \n",
              "3  0.033334  0.033334  0.034553  0.479196  0.171219  0.051129  0.014913   \n",
              "4  0.279301  0.025000  0.194762  0.350535  0.166043  0.039286  0.000000   \n",
              "\n",
              "        v47       v48       v49       v50  v51       v52       v53       v54  \\\n",
              "0  0.750000  0.250000  0.278283  0.100000  0.6 -0.523810 -0.714286 -0.333333   \n",
              "1  0.878049  0.121951  0.368439  0.033333  1.0 -0.275000 -0.600000 -0.050000   \n",
              "2  0.333333  0.666667  0.366667  0.333333  0.4 -0.102381 -0.166667 -0.071429   \n",
              "3  0.774194  0.225806  0.374936  0.033333  1.0 -0.245176 -0.800000 -0.050000   \n",
              "4  1.000000  0.000000  0.288430  0.100000  1.0  0.000000  0.000000  0.000000   \n",
              "\n",
              "        v55       v56       v57       v58  target  \n",
              "0  0.000000  0.000000  0.500000  0.000000    1600  \n",
              "1  0.222222  0.244444  0.277778  0.244444    1700  \n",
              "2  0.000000  0.000000  0.500000  0.000000    3100  \n",
              "3  0.000000  0.000000  0.500000  0.000000    1800  \n",
              "4  0.000000  0.000000  0.500000  0.000000    2900  "
            ]
          },
          "metadata": {
            "tags": []
          },
          "execution_count": 40
        }
      ]
    },
    {
      "cell_type": "code",
      "metadata": {
        "id": "6jzELu9VmUnw",
        "outputId": "ab635610-87eb-46d4-bdcc-52804d835482",
        "colab": {
          "base_uri": "https://localhost:8080/"
        }
      },
      "source": [
        "data.columns"
      ],
      "execution_count": null,
      "outputs": [
        {
          "output_type": "execute_result",
          "data": {
            "text/plain": [
              "Index(['id', 'v1', 'v2', 'v3', 'v4', 'v5', 'v6', 'v7', 'v8', 'v9', 'v10',\n",
              "       'v11', 'v12', 'v13', 'v14', 'v15', 'v16', 'v17', 'v18', 'v19', 'v20',\n",
              "       'v21', 'v22', 'v23', 'v24', 'v25', 'v26', 'v27', 'v28', 'v29', 'v30',\n",
              "       'v31', 'v32', 'v33', 'v34', 'v35', 'v36', 'v37', 'v38', 'v39', 'v40',\n",
              "       'v41', 'v42', 'v43', 'v44', 'v45', 'v46', 'v47', 'v48', 'v49', 'v50',\n",
              "       'v51', 'v52', 'v53', 'v54', 'v55', 'v56', 'v57', 'v58', 'target'],\n",
              "      dtype='object')"
            ]
          },
          "metadata": {
            "tags": []
          },
          "execution_count": 41
        }
      ]
    },
    {
      "cell_type": "markdown",
      "metadata": {
        "id": "m7fpXiMNsK1B"
      },
      "source": [
        "### Types of variables\n",
        "\n"
      ]
    },
    {
      "cell_type": "code",
      "metadata": {
        "ExecuteTime": {
          "end_time": "2020-03-09T07:32:51.725905Z",
          "start_time": "2020-03-09T07:32:51.719889Z"
        },
        "id": "93EnpL-asK1C",
        "outputId": "55239f6c-1125-40cc-93a3-dc1fe23945ec",
        "colab": {
          "base_uri": "https://localhost:8080/"
        }
      },
      "source": [
        "# we have an Id variable, that we should not use for predictions:\n",
        "\n",
        "print('Number of  Id labels: ', len(data.id.unique()))\n",
        "print('Number of records in the Dataset: ', len(data))\n",
        "print('Shape of Dataset: ', data.shape)"
      ],
      "execution_count": null,
      "outputs": [
        {
          "output_type": "stream",
          "text": [
            "Number of  Id labels:  21788\n",
            "Number of records in the Dataset:  21788\n",
            "Shape of Dataset:  (21788, 60)\n"
          ],
          "name": "stdout"
        }
      ]
    },
    {
      "cell_type": "markdown",
      "metadata": {
        "id": "B-FP_uw_sK1G"
      },
      "source": [
        "#### Find categorical variables"
      ]
    },
    {
      "cell_type": "code",
      "metadata": {
        "ExecuteTime": {
          "end_time": "2020-03-09T07:32:53.140553Z",
          "start_time": "2020-03-09T07:32:53.135036Z"
        },
        "id": "bxDr9ifMsK1H",
        "outputId": "bc5e2074-ad56-47af-bde8-53bedcaa3a47",
        "colab": {
          "base_uri": "https://localhost:8080/"
        }
      },
      "source": [
        "# find categorical variables- hint data type = 'O'\n",
        "\n",
        "categorical = [var for var in data.columns if data[var].dtype=='O']\n",
        "\n",
        "print(f'There are {len(categorical)} categorical variables')"
      ],
      "execution_count": null,
      "outputs": [
        {
          "output_type": "stream",
          "text": [
            "There are 0 categorical variables\n"
          ],
          "name": "stdout"
        }
      ]
    },
    {
      "cell_type": "markdown",
      "metadata": {
        "id": "907jHG6hsK1K"
      },
      "source": [
        "#### Find temporal variables"
      ]
    },
    {
      "cell_type": "code",
      "metadata": {
        "ExecuteTime": {
          "end_time": "2020-03-09T07:32:54.328164Z",
          "start_time": "2020-03-09T07:32:54.321146Z"
        },
        "id": "53PyErySsK1K",
        "outputId": "7cc58305-d68a-4393-f6d8-c5b5fec690c5",
        "colab": {
          "base_uri": "https://localhost:8080/"
        }
      },
      "source": [
        "# make a list of the numerical variables first= Hint data type != O\n",
        "numerical = [var for var in data.columns if data[var].dtype!='O']\n",
        "\n",
        "# list of variables that contain year information= Hint variable namme has Yr or \n",
        "year_vars = [var for var in numerical if 'Yr' in var or 'Year' in var]\n",
        "\n",
        "year_vars"
      ],
      "execution_count": null,
      "outputs": [
        {
          "output_type": "execute_result",
          "data": {
            "text/plain": [
              "[]"
            ]
          },
          "metadata": {
            "tags": []
          },
          "execution_count": 44
        }
      ]
    },
    {
      "cell_type": "markdown",
      "metadata": {
        "id": "poJpTh67sK1Q"
      },
      "source": [
        "#### Find discrete variables\n",
        "\n",
        "To identify discrete variables- numerical variables with less than 20 unique values "
      ]
    },
    {
      "cell_type": "code",
      "metadata": {
        "ExecuteTime": {
          "end_time": "2020-03-09T07:32:55.849304Z",
          "start_time": "2020-03-09T07:32:55.835765Z"
        },
        "id": "er1pqvhQsK1R",
        "outputId": "0900ee99-0b15-4133-8e50-9a9deccad592",
        "colab": {
          "base_uri": "https://localhost:8080/"
        }
      },
      "source": [
        "# let's visualise the values of the discrete variables\n",
        "discrete = [var for var in numerical if len(data[var].unique()) < 20 and var not in year_vars]\n",
        "\n",
        "print(f'There are {len(discrete)} discrete variables')"
      ],
      "execution_count": null,
      "outputs": [
        {
          "output_type": "stream",
          "text": [
            "There are 16 discrete variables\n"
          ],
          "name": "stdout"
        }
      ]
    },
    {
      "cell_type": "markdown",
      "metadata": {
        "id": "VFM14cLtsK1U"
      },
      "source": [
        "#### Continuous variables"
      ]
    },
    {
      "cell_type": "code",
      "metadata": {
        "ExecuteTime": {
          "end_time": "2020-03-09T07:32:57.274949Z",
          "start_time": "2020-03-09T07:32:57.268932Z"
        },
        "id": "pokSx1XEsK1U",
        "outputId": "5254b9a3-39b1-449b-efb5-bacd97f75efa",
        "colab": {
          "base_uri": "https://localhost:8080/"
        }
      },
      "source": [
        "# find continuous variables- hint numerical variables not in discrete and  year_years \n",
        "# Also remove the Id variable and the target variable SalePrice\n",
        "# which are both also numerical\n",
        "\n",
        "continuous = [var for var in numerical if var not in discrete and var not in [\n",
        "    'id', 'target'] and var not in year_vars]\n",
        "\n",
        "print('There are {} numerical and continuous variables'.format(len(numerical)))"
      ],
      "execution_count": null,
      "outputs": [
        {
          "output_type": "stream",
          "text": [
            "There are 60 numerical and continuous variables\n"
          ],
          "name": "stdout"
        }
      ]
    },
    {
      "cell_type": "code",
      "metadata": {
        "id": "swJwIMGZ0NO7",
        "outputId": "ecef439e-7795-4f38-e58b-ddf24b3e30cd",
        "colab": {
          "base_uri": "https://localhost:8080/"
        }
      },
      "source": [
        "data.isna().sum()"
      ],
      "execution_count": null,
      "outputs": [
        {
          "output_type": "execute_result",
          "data": {
            "text/plain": [
              "id        0\n",
              "v1        0\n",
              "v2        0\n",
              "v3        0\n",
              "v4        0\n",
              "v5        0\n",
              "v6        0\n",
              "v7        0\n",
              "v8        0\n",
              "v9        0\n",
              "v10       0\n",
              "v11       0\n",
              "v12       0\n",
              "v13       0\n",
              "v14       0\n",
              "v15       0\n",
              "v16       0\n",
              "v17       0\n",
              "v18       0\n",
              "v19       0\n",
              "v20       0\n",
              "v21       0\n",
              "v22       0\n",
              "v23       0\n",
              "v24       0\n",
              "v25       0\n",
              "v26       0\n",
              "v27       0\n",
              "v28       0\n",
              "v29       0\n",
              "v30       0\n",
              "v31       0\n",
              "v32       0\n",
              "v33       0\n",
              "v34       0\n",
              "v35       0\n",
              "v36       0\n",
              "v37       0\n",
              "v38       0\n",
              "v39       0\n",
              "v40       0\n",
              "v41       0\n",
              "v42       0\n",
              "v43       0\n",
              "v44       0\n",
              "v45       0\n",
              "v46       0\n",
              "v47       0\n",
              "v48       0\n",
              "v49       0\n",
              "v50       0\n",
              "v51       0\n",
              "v52       0\n",
              "v53       0\n",
              "v54       0\n",
              "v55       0\n",
              "v56       0\n",
              "v57       0\n",
              "v58       0\n",
              "target    0\n",
              "dtype: int64"
            ]
          },
          "metadata": {
            "tags": []
          },
          "execution_count": 55
        }
      ]
    },
    {
      "cell_type": "markdown",
      "metadata": {
        "id": "jByVvHgqmPYD"
      },
      "source": [
        "## Correlations and Choosing variables"
      ]
    },
    {
      "cell_type": "markdown",
      "metadata": {
        "id": "fqBEQJ7e1Dju"
      },
      "source": [
        "### Creating correlation matrix"
      ]
    },
    {
      "cell_type": "code",
      "metadata": {
        "id": "o2amXQXlpF2b"
      },
      "source": [
        "corr_matrix = data.corr(method='pearson', min_periods=1)\n",
        "corr_matrix.head(10)"
      ],
      "execution_count": null,
      "outputs": []
    },
    {
      "cell_type": "code",
      "metadata": {
        "id": "AElBwxcOsM9-",
        "outputId": "91e14da3-af14-4301-f544-2432c9cd842d",
        "colab": {
          "base_uri": "https://localhost:8080/"
        }
      },
      "source": [
        "def highest_corr(df):\n",
        "  high_corr_pairs = set()\n",
        "  cols = df.columns\n",
        "  ids = df.index\n",
        "  for i in range(0, df.shape[1]):\n",
        "    for j in range(0,i+1):\n",
        "      if df.iloc[i,j]>=0.5:        \n",
        "        if cols[i]!=ids[j]:\n",
        "          high_corr_pairs.add((cols[i], ids[j]))\n",
        "          print(cols[i],cols[j])\n",
        "  return high_corr_pairs\n",
        "print(\"Highly correlated pairs:\")\n",
        "print(\"Total Highly correlated pairs\",len(highest_corr(corr_matrix)))"
      ],
      "execution_count": null,
      "outputs": [
        {
          "output_type": "stream",
          "text": [
            "Highly correlated pairs:\n",
            "v4 v3\n",
            "v5 v3\n",
            "v5 v4\n",
            "v10 v3\n",
            "v10 v4\n",
            "v10 v5\n",
            "v20 v19\n",
            "v23 v22\n",
            "v25 v19\n",
            "v25 v20\n",
            "v26 v25\n",
            "v29 v27\n",
            "v29 v28\n",
            "v37 v35\n",
            "v37 v36\n",
            "v38 v14\n",
            "v39 v13\n",
            "v40 v17\n",
            "v42 v16\n",
            "v43 v4\n",
            "v43 v5\n",
            "v43 v10\n",
            "v45 v44\n",
            "v47 v4\n",
            "v47 v10\n",
            "v47 v44\n",
            "v47 v45\n",
            "v48 v46\n",
            "v49 v4\n",
            "v49 v10\n",
            "v49 v43\n",
            "v51 v4\n",
            "v51 v43\n",
            "v51 v49\n",
            "v53 v52\n",
            "v54 v52\n",
            "v58 v55\n",
            "Total Highly correlated pairs 37\n"
          ],
          "name": "stdout"
        }
      ]
    },
    {
      "cell_type": "markdown",
      "metadata": {
        "id": "LprVh0eW7fkj"
      },
      "source": [
        "### Based on the correlation sets, few variables are dropped to avoid multicolleniarity."
      ]
    },
    {
      "cell_type": "code",
      "metadata": {
        "id": "g4hcnUbA7ppG",
        "outputId": "ff81c166-d216-4994-d56b-b23d6592ddba",
        "colab": {
          "base_uri": "https://localhost:8080/"
        }
      },
      "source": [
        "drop_list = ['v3', 'v5', 'v10', 'v20', 'v23', 'v25', 'v29', 'v37', 'v38', 'v39', 'v40', 'v42', 'v43', 'v45', 'v47', 'v48', 'v49', 'v51', 'v52', 'v58']\n",
        "print(\"Number of highly correlated variables to drop:\",len(drop_list))"
      ],
      "execution_count": null,
      "outputs": [
        {
          "output_type": "stream",
          "text": [
            "Number of highly correlated variables to drop: 20\n"
          ],
          "name": "stdout"
        }
      ]
    },
    {
      "cell_type": "code",
      "metadata": {
        "id": "g58c___P9a7D",
        "outputId": "2de136b4-9e60-42a7-e305-28ed53874b59",
        "colab": {
          "base_uri": "https://localhost:8080/"
        }
      },
      "source": [
        "data_update = data.drop(drop_list, axis =1)\n",
        "print(\"Updated dataset size:\", data_update.shape)"
      ],
      "execution_count": null,
      "outputs": [
        {
          "output_type": "stream",
          "text": [
            "Updated dataset size: (21788, 40)\n"
          ],
          "name": "stdout"
        }
      ]
    },
    {
      "cell_type": "markdown",
      "metadata": {
        "id": "JLV1ZD5_sK1X"
      },
      "source": [
        "## Separate train and test set"
      ]
    },
    {
      "cell_type": "markdown",
      "metadata": {
        "id": "4_jEMAgXx304"
      },
      "source": [
        "### Train and test datset for subset"
      ]
    },
    {
      "cell_type": "code",
      "metadata": {
        "id": "D8Yj8vVZsLWs"
      },
      "source": [
        "data_sub = data_update.sample(frac=0.4, replace=False, random_state=1)"
      ],
      "execution_count": null,
      "outputs": []
    },
    {
      "cell_type": "code",
      "metadata": {
        "ExecuteTime": {
          "end_time": "2020-03-09T07:32:58.666697Z",
          "start_time": "2020-03-09T07:32:58.651653Z"
        },
        "id": "WpKM5hPtsK1Y",
        "outputId": "90fc4e3c-e0e4-4214-eb59-64e95691fa0d",
        "colab": {
          "base_uri": "https://localhost:8080/"
        }
      },
      "source": [
        "# Let's separate into train and test set\n",
        "from sklearn.model_selection import train_test_split\n",
        "X_train, X_test, y_train, y_test = train_test_split(data_sub.drop(['id', 'target'], axis=1),\n",
        "                                                    data_sub['target'],\n",
        "                                                    test_size=0.1,\n",
        "                                                    random_state=0)\n",
        "\n",
        "X_train.shape, X_test.shape"
      ],
      "execution_count": null,
      "outputs": [
        {
          "output_type": "execute_result",
          "data": {
            "text/plain": [
              "((7843, 38), (872, 38))"
            ]
          },
          "metadata": {
            "tags": []
          },
          "execution_count": 173
        }
      ]
    },
    {
      "cell_type": "markdown",
      "metadata": {
        "id": "jszywJjMx9bj"
      },
      "source": [
        "### Train and test datset for whole"
      ]
    },
    {
      "cell_type": "code",
      "metadata": {
        "id": "lvE3xHewvXr4"
      },
      "source": [
        "# Let's separate into train and test set\n",
        "from sklearn.model_selection import train_test_split\n",
        "X_train, X_test, y_train, y_test = train_test_split(data.drop(['id', 'target'], axis=1),\n",
        "                                                    data['target'],\n",
        "                                                    test_size=0.1,\n",
        "                                                    random_state=0)\n",
        "\n",
        "X_train.shape, X_test.shape"
      ],
      "execution_count": null,
      "outputs": []
    },
    {
      "cell_type": "markdown",
      "metadata": {
        "id": "0R0cBW_Fsoiu"
      },
      "source": [
        "# Regressions"
      ]
    },
    {
      "cell_type": "markdown",
      "metadata": {
        "id": "PGTh5IO3ynqe"
      },
      "source": [
        "## Grid Search import"
      ]
    },
    {
      "cell_type": "code",
      "metadata": {
        "id": "yFwYJGbksrYH"
      },
      "source": [
        "from sklearn.model_selection import GridSearchCV\n",
        "from sklearn.model_selection import cross_val_score"
      ],
      "execution_count": null,
      "outputs": []
    },
    {
      "cell_type": "markdown",
      "metadata": {
        "id": "8LTWH123sK1z"
      },
      "source": [
        "## Linear Regression"
      ]
    },
    {
      "cell_type": "code",
      "metadata": {
        "ExecuteTime": {
          "end_time": "2020-03-09T07:33:23.368390Z",
          "start_time": "2020-03-09T07:33:23.292686Z"
        },
        "id": "Jm7ahk7CsK10"
      },
      "source": [
        "# Train a linear regression model, report the coefficients and model performance \n",
        "\n",
        "from sklearn.linear_model import LinearRegression\n",
        "from sklearn.model_selection import KFold"
      ],
      "execution_count": null,
      "outputs": []
    },
    {
      "cell_type": "code",
      "metadata": {
        "id": "sMtQUVoviywu",
        "outputId": "5a5de354-42ef-43c8-eaf7-4388dac897a2",
        "colab": {
          "base_uri": "https://localhost:8080/"
        }
      },
      "source": [
        "lr = LinearRegression().fit(X_train, y_train)\n",
        "n=len(X_train)\n",
        "\n",
        "cv_scores = cross_val_score(lr, X_train, y_train, cv = 5)\n",
        "\n",
        "# Mean Cross validation Score\n",
        "print(\"Mean Cross-validation scores: {}\".format(cv_scores))\n",
        "print()\n",
        "print(\"Mean Cross-validation scores: {}\".format(cv_scores.mean()))\n",
        "print()\n",
        "\n",
        "# Print Co-efficients\n",
        "print(\"lr.coef_:\", lr.coef_)\n",
        "print(\"lr.intercept_:\", lr.intercept_)\n",
        "\n",
        "# Check test data set performance\n",
        "print(\"LR Performance Train: \", lr.score(X_train,y_train))\n",
        "print(\"LR Performance Test: \", lr.score(X_test,y_test))"
      ],
      "execution_count": null,
      "outputs": [
        {
          "output_type": "stream",
          "text": [
            "Mean Cross-validation scores: [0.09498937 0.10685138 0.11978032 0.08735546 0.07654334]\n",
            "\n",
            "Mean Cross-validation scores: 0.09710397167854894\n",
            "\n",
            "lr.coef_: [-1.09994220e+01  1.13293159e-01  3.72499764e+01  2.96712010e+00\n",
            " -9.85559115e+00  2.60345193e-01 -2.26060290e+00  1.08645584e+01\n",
            " -5.50904511e+01 -3.29656567e+02 -1.70241471e+00  3.61099237e+02\n",
            "  1.66467251e+02 -2.90850199e+02  1.02445996e+00 -1.53771332e-02\n",
            " -3.53764801e-04  9.12543495e-06  5.09333605e-03  1.46012086e-01\n",
            "  1.87510714e-03  4.62352226e-04 -9.62756712e+01 -1.46814000e+02\n",
            " -1.20615779e+02 -1.13866608e+02 -1.87250191e+01  2.97520054e+02\n",
            "  1.98777023e+02 -1.30275797e+02  2.43206818e+01 -5.49225268e+01\n",
            " -5.29117396e+02 -2.73157390e+01  1.14858684e+02  1.29477939e+02\n",
            "  7.56792772e+01  1.26540132e+02]\n",
            "lr.intercept_: 1200.1678711878692\n",
            "LR Performance Train:  0.10691610649346306\n",
            "LR Performance Test:  0.04549131407539864\n"
          ],
          "name": "stdout"
        }
      ]
    },
    {
      "cell_type": "markdown",
      "metadata": {
        "id": "V8hivYE5sK18"
      },
      "source": [
        "## Lasso"
      ]
    },
    {
      "cell_type": "code",
      "metadata": {
        "ExecuteTime": {
          "end_time": "2020-03-09T07:33:38.130469Z",
          "start_time": "2020-03-09T07:33:37.468173Z"
        },
        "id": "YF9qkTtvsK19",
        "outputId": "24b34a5b-4da7-4b0d-cc42-941c5e1d7ebf",
        "colab": {
          "base_uri": "https://localhost:8080/"
        }
      },
      "source": [
        "# Train a Lasso regression model, report the coefficients, the best parameters, and model performance \n",
        "\n",
        "# YOUR CODE HERE\n",
        "\n",
        "from sklearn.linear_model import Lasso\n",
        "lasso = Lasso(random_state=0, max_iter=1000)\n",
        "\n",
        "#define a list of parameters\n",
        "param_lasso = {'alpha':[10, 50, 100, 200, 400] }\n",
        "\n",
        "grid_lasso = GridSearchCV(lasso, param_lasso, cv=5, return_train_score = True, scoring='neg_mean_absolute_error')\n",
        "grid_lasso.fit(X_train, y_train)\n",
        "\n",
        "# Mean Cross Validation Score\n",
        "print(\"Best Mean Cross-validation score: {:.2f}\".format(grid_lasso.best_score_))\n",
        "print()\n",
        "\n",
        "#find best parameters\n",
        "print('Lasso parameters: ', grid_lasso.best_params_)\n",
        "\n",
        "# Check test data set performance\n",
        "print(\"Lasso Train Performance: \", grid_lasso.score(X_train,y_train))\n",
        "print(\"Lasso Test Performance: \", grid_lasso.score(X_test,y_test))"
      ],
      "execution_count": null,
      "outputs": [
        {
          "output_type": "stream",
          "text": [
            "Best Mean Cross-validation score: -735.06\n",
            "\n",
            "Lasso parameters:  {'alpha': 10}\n",
            "Lasso Train Performance:  -732.483303195336\n",
            "Lasso Test Performance:  -704.5441894853958\n"
          ],
          "name": "stdout"
        }
      ]
    },
    {
      "cell_type": "code",
      "metadata": {
        "id": "JF6n9j59sImf"
      },
      "source": [
        ""
      ],
      "execution_count": null,
      "outputs": []
    },
    {
      "cell_type": "markdown",
      "metadata": {
        "id": "hPZGNEQ7sK2I"
      },
      "source": [
        "## KNN Regression"
      ]
    },
    {
      "cell_type": "code",
      "metadata": {
        "id": "qZwJpwETsK2I",
        "outputId": "5845110e-455a-4fb7-b4fc-fd97e93647e3",
        "colab": {
          "base_uri": "https://localhost:8080/"
        }
      },
      "source": [
        "# Train a KNN model, report the coefficients, the best parameters, and model performance \n",
        "# hint: find the optimal k\n",
        "\n",
        "# YOUR CODE HERE\n",
        "from sklearn.preprocessing import MinMaxScaler\n",
        "from sklearn.neighbors import KNeighborsRegressor\n",
        "\n",
        "knn = KNeighborsRegressor()\n",
        "\n",
        "# define a list of parameters\n",
        "param_knn = {'n_neighbors': [5, 10, 15, 20],\n",
        "             'metric' : ['euclidean', 'manhattan']}\n",
        "\n",
        "\n",
        "#apply grid search\n",
        "grid_knn = GridSearchCV(knn, param_knn, cv=7, return_train_score=True, scoring='neg_mean_absolute_error')\n",
        "grid_knn.fit(X_train, y_train)\n",
        "\n",
        "# Mean Cross Validation Score\n",
        "print(\"Best Mean Cross-validation score: {:.2f}\".format(grid_knn.best_score_))\n",
        "print()\n",
        "\n",
        "#find best parameters\n",
        "print('KNN parameters: ', grid_knn.best_params_)\n",
        "\n",
        "# Check test data set performance\n",
        "print(\"KNN Performance Train: \", grid_knn.score(X_train,y_train))\n",
        "print(\"KNN Performance Test: \", grid_knn.score(X_test,y_test))"
      ],
      "execution_count": null,
      "outputs": [
        {
          "output_type": "stream",
          "text": [
            "Best Mean Cross-validation score: -751.54\n",
            "\n",
            "KNN parameters:  {'metric': 'manhattan', 'n_neighbors': 20}\n",
            "KNN Performance Train:  -714.7677291852606\n",
            "KNN Performance Test:  -714.3678325688072\n"
          ],
          "name": "stdout"
        }
      ]
    },
    {
      "cell_type": "markdown",
      "metadata": {
        "id": "RPPZYzNo2rww"
      },
      "source": [
        "## XGBoost"
      ]
    },
    {
      "cell_type": "code",
      "metadata": {
        "id": "VG3zZUFP1lgB",
        "outputId": "72e8255f-7f24-47ee-af82-4c21345342b4",
        "colab": {
          "base_uri": "https://localhost:8080/"
        }
      },
      "source": [
        "pip install xgboost"
      ],
      "execution_count": null,
      "outputs": [
        {
          "output_type": "stream",
          "text": [
            "Requirement already satisfied: xgboost in /usr/local/lib/python3.6/dist-packages (0.90)\n",
            "Requirement already satisfied: scipy in /usr/local/lib/python3.6/dist-packages (from xgboost) (1.4.1)\n",
            "Requirement already satisfied: numpy in /usr/local/lib/python3.6/dist-packages (from xgboost) (1.18.5)\n"
          ],
          "name": "stdout"
        }
      ]
    },
    {
      "cell_type": "code",
      "metadata": {
        "id": "RIPJUkOx2Eiu"
      },
      "source": [
        "#code snippet reference from classwork\n",
        "\n",
        "from  xgboost import XGBRegressor\n",
        "xgbr= XGBRegressor(random_state=42,early_stopping_rounds=2,objective= 'binary:logistic')\n",
        "xgbr_param = {\n",
        "              'nthread':[4],\n",
        "              'objective':['reg:linear'],\n",
        "              'learning_rate': [0.01,0.1,1,10],\n",
        "              'max_depth': [2,3,4,5, 6, 7],\n",
        "              'min_child_weight': [4],\n",
        "              'silent': [1],\n",
        "              'subsample': [0.7],\n",
        "              'colsample_bytree': [0.7],\n",
        "              'n_estimators': [500,1000]\n",
        "             }\n",
        "xgbr_grid = GridSearchCV(xgbr, xgbr_param,cv=5, return_train_score=True, scoring='neg_mean_absolute_error')\n",
        "xgbr_grid.fit(X_train,y_train)\n",
        "print(f'Best Mean Cross Validation Score is {xgbr_grid.best_score_}')\n",
        "print(f'Best Mean Cross Validation Score is {xgbr_grid.best_params_}')\n",
        "print(f'Train score is {xgbr_grid.score(X_train,y_train)}')\n",
        "print(f'Test score is {xgbr_grid.score(X_test,y_test)}')\n",
        "#print(f'Val score is {xgbr_grid.score(X_val,y_val)}')"
      ],
      "execution_count": null,
      "outputs": []
    },
    {
      "cell_type": "markdown",
      "metadata": {
        "id": "954Ke7YoxCPF"
      },
      "source": [
        "## Random Forest"
      ]
    },
    {
      "cell_type": "code",
      "metadata": {
        "id": "HnTRKl66xCjH",
        "outputId": "25c8a8af-cde7-4992-841f-d3d77a732f4d",
        "colab": {
          "base_uri": "https://localhost:8080/"
        }
      },
      "source": [
        "#code snippet reference from classwork\n",
        "from sklearn.ensemble import RandomForestRegressor\n",
        "rfr =RandomForestRegressor(random_state=42)\n",
        "rfr_param = { \n",
        "    'n_estimators': [200, 500],\n",
        "    'max_features': ['auto', 'sqrt', 'log2'],\n",
        "    'max_depth' : [4,5,6,7,8],\n",
        "}\n",
        "\n",
        "rfr_grid = GridSearchCV(rfr, rfr_param,cv=5, return_train_score=True, scoring='neg_mean_absolute_error' )\n",
        "rfr_grid.fit(X_train,y_train)\n",
        "\n",
        "print(f'Best Mean Cross Validation Score is {rfr_grid.best_score_}')\n",
        "print(f'Best Mean Cross Validation Score is {rfr_grid.best_params_}')\n",
        "print(f'Train score is {rfr_grid.score(X_train,y_train)}')\n",
        "print(f'Test score is {rfr_grid.score(X_test,y_test)}')\n",
        "#print(f'Val score is {rfr_grid.score(X_val,y_val)}')"
      ],
      "execution_count": null,
      "outputs": [
        {
          "output_type": "stream",
          "text": [
            "Best Mean Cross Validation Score is -719.0704406283526\n",
            "Best Mean Cross Validation Score is {'max_depth': 8, 'max_features': 'auto', 'n_estimators': 500}\n",
            "Train score is -633.9507734015311\n",
            "Test score is -689.1095934951741\n"
          ],
          "name": "stdout"
        }
      ]
    },
    {
      "cell_type": "markdown",
      "metadata": {
        "id": "S08Fqei8RH8m"
      },
      "source": [
        "## Gradient Boost"
      ]
    },
    {
      "cell_type": "code",
      "metadata": {
        "id": "ug6xNqV2SoZU",
        "outputId": "34867e81-1cf9-4fdd-fab8-07e76c07f799",
        "colab": {
          "base_uri": "https://localhost:8080/"
        }
      },
      "source": [
        "#code snippet reference from classwork\n",
        "\n",
        "from sklearn.ensemble import GradientBoostingRegressor\n",
        "gbr= GradientBoostingRegressor(random_state=42)\n",
        "gbr_param = {\n",
        "              'max_depth' : [1,2,3],\n",
        "              'n_estimators' : [50,100,150],\n",
        "              'learning_rate' : [0.01,0.1,0.5,1.0],\n",
        "             }\n",
        "gbr_grid = GridSearchCV(gbr, gbr_param,cv=5, return_train_score=True, scoring='neg_mean_absolute_error' )\n",
        "gbr_grid.fit(X_train,y_train)\n",
        "print(f'Best Mean Cross Validation Score is {gbr_grid.best_score_}')\n",
        "print(f'Best Mean Cross Validation Score is {gbr_grid.best_params_}')\n",
        "print(f'Train score is {gbr_grid.score(X_train,y_train)}')\n",
        "print(f'Test score is {gbr_grid.score(X_test,y_test)}')\n",
        "#print(f'Val score is {gbr_grid.score(X_val,y_val)}')"
      ],
      "execution_count": null,
      "outputs": [
        {
          "output_type": "stream",
          "text": [
            "Best Mean Cross Validation Score is -716.9774301354586\n",
            "Best Mean Cross Validation Score is {'learning_rate': 0.5, 'max_depth': 2, 'n_estimators': 50}\n",
            "Train score is -674.2167876697146\n",
            "Test score is -684.5298344240996\n"
          ],
          "name": "stdout"
        }
      ]
    },
    {
      "cell_type": "markdown",
      "metadata": {
        "id": "61LLkw5_1nsL"
      },
      "source": [
        "## Extra-Trees"
      ]
    },
    {
      "cell_type": "code",
      "metadata": {
        "id": "fNfQ4m4Zwtzr"
      },
      "source": [
        "#code snippet reference from classwork\n",
        "\n",
        "from  sklearn.ensemble import ExtraTreesRegressor\n",
        "etr= ExtraTreesRegressor(random_state=42)\n",
        "etr_param = { \n",
        "    'n_estimators': [200, 500,1000],\n",
        "    'max_features': ['auto', 'sqrt', 'log2'],\n",
        "    'max_depth' : [6,7,8,9,10,11,12,13]\n",
        "}\n",
        "etr_grid = GridSearchCV(etr, etr_param,cv=5, return_train_score=True,  scoring='neg_mean_absolute_error' )\n",
        "etr_grid.fit(X_train,y_train)\n",
        "print(f'Best Mean Cross Validation Score is {etr_grid.best_score_}')\n",
        "print(f'Best Mean Cross Validation Score is {etr_grid.best_params_}')\n",
        "print(f'Train score is {etr_grid.score(X_train,y_train)}')\n",
        "print(f'Test score is {etr_grid.score(X_test,y_test)}')\n",
        "#print(f'Val score is {etr_grid.score(X_val,y_val)}')"
      ],
      "execution_count": null,
      "outputs": []
    },
    {
      "cell_type": "markdown",
      "metadata": {
        "id": "pK5bOZZ5Hj6W"
      },
      "source": [
        "## Bagging with Decision Tree"
      ]
    },
    {
      "cell_type": "code",
      "metadata": {
        "id": "SlPcJkmeE6NA"
      },
      "source": [
        "#code snippet reference from classwork\n",
        "from sklearn.ensemble import BaggingRegressor\n",
        "bag_dtree = BaggingRegressor(base_estimator=DecisionTreeRegressor(), bootstrap=True, random_state=0, oob_score=True)\n",
        "\n",
        "\n",
        "bag_dtree_param = {\n",
        "                 'base_estimator__max_depth': range(5,15),\n",
        "                 'base_estimator__splitter': ['best','random'],\n",
        "                 'max_samples':  [0.8,1],\n",
        "                 'n_estimators': [100,200]}\n",
        "bag_dtree_grid = GridSearchCV(bag_dtree, bag_dtree_param,cv=5, return_train_score=True, scoring='neg_mean_absolute_error')\n",
        "bag_dtree_grid.fit(X_train,y_train)\n",
        "print(f'Best Mean Cross Validation Score is {bag_dtree_grid.best_score_}')\n",
        "print(f'Best Mean Cross Validation Score is {bag_dtree_grid.best_params_}')\n",
        "print(f'Train score is {bag_dtree_grid.score(X_train,y_train)}')\n",
        "print(f'Test score is {bag_dtree_grid.score(X_test,y_test)}')\n",
        "#print(f'Val score is {bag_dtree_grid.score(X_val,y_val)}')"
      ],
      "execution_count": null,
      "outputs": []
    },
    {
      "cell_type": "code",
      "metadata": {
        "id": "GRtKYCANTGV7"
      },
      "source": [
        ""
      ],
      "execution_count": null,
      "outputs": []
    }
  ]
}