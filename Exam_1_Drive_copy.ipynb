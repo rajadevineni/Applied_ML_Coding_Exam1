{
  "nbformat": 4,
  "nbformat_minor": 0,
  "metadata": {
    "colab": {
      "name": "Exam 1 Drive copy.ipynb",
      "provenance": [],
      "collapsed_sections": [
        "X1JiYBtmw3L5",
        "VFM14cLtsK1U",
        "4_jEMAgXx304",
        "jszywJjMx9bj",
        "8LTWH123sK1z"
      ],
      "toc_visible": true,
      "authorship_tag": "ABX9TyNgC8/kzqGYnF2ojsPKe7ys",
      "include_colab_link": true
    },
    "kernelspec": {
      "name": "python3",
      "display_name": "Python 3"
    },
    "accelerator": "GPU"
  },
  "cells": [
    {
      "cell_type": "markdown",
      "metadata": {
        "id": "view-in-github",
        "colab_type": "text"
      },
      "source": [
        "<a href=\"https://colab.research.google.com/github/rajadevineni/Applied_ML_Coding_Exam1/blob/main/Exam_1_Drive_copy.ipynb\" target=\"_parent\"><img src=\"https://colab.research.google.com/assets/colab-badge.svg\" alt=\"Open In Colab\"/></a>"
      ]
    },
    {
      "cell_type": "markdown",
      "metadata": {
        "id": "X1JiYBtmw3L5"
      },
      "source": [
        "# Importing libraries and dataset"
      ]
    },
    {
      "cell_type": "code",
      "metadata": {
        "id": "-cSZUBDmkTTK",
        "outputId": "d34ce374-58a4-4a4b-ae02-c43a9755c678",
        "colab": {
          "base_uri": "https://localhost:8080/"
        }
      },
      "source": [
        "!pip install feature_engine"
      ],
      "execution_count": 57,
      "outputs": [
        {
          "output_type": "stream",
          "text": [
            "Requirement already satisfied: feature_engine in /usr/local/lib/python3.6/dist-packages (0.6.1)\n",
            "Requirement already satisfied: scikit-learn>=0.22.2 in /usr/local/lib/python3.6/dist-packages (from feature_engine) (0.22.2.post1)\n",
            "Requirement already satisfied: numpy>=1.18.2 in /usr/local/lib/python3.6/dist-packages (from feature_engine) (1.18.5)\n",
            "Requirement already satisfied: scipy>=1.4.1 in /usr/local/lib/python3.6/dist-packages (from feature_engine) (1.4.1)\n",
            "Requirement already satisfied: pandas>=1.0.3 in /usr/local/lib/python3.6/dist-packages (from feature_engine) (1.1.4)\n",
            "Requirement already satisfied: statsmodels>=0.11.1 in /usr/local/lib/python3.6/dist-packages (from feature_engine) (0.12.1)\n",
            "Requirement already satisfied: joblib>=0.11 in /usr/local/lib/python3.6/dist-packages (from scikit-learn>=0.22.2->feature_engine) (0.17.0)\n",
            "Requirement already satisfied: python-dateutil>=2.7.3 in /usr/local/lib/python3.6/dist-packages (from pandas>=1.0.3->feature_engine) (2.8.1)\n",
            "Requirement already satisfied: pytz>=2017.2 in /usr/local/lib/python3.6/dist-packages (from pandas>=1.0.3->feature_engine) (2018.9)\n",
            "Requirement already satisfied: patsy>=0.5 in /usr/local/lib/python3.6/dist-packages (from statsmodels>=0.11.1->feature_engine) (0.5.1)\n",
            "Requirement already satisfied: six>=1.5 in /usr/local/lib/python3.6/dist-packages (from python-dateutil>=2.7.3->pandas>=1.0.3->feature_engine) (1.15.0)\n"
          ],
          "name": "stdout"
        }
      ]
    },
    {
      "cell_type": "code",
      "metadata": {
        "id": "VGl9939rk48u"
      },
      "source": [
        "from math import sqrt\n",
        "import pandas as pd\n",
        "import numpy as np\n",
        "import matplotlib.pyplot as plt\n",
        "import seaborn as sns\n",
        "import scipy.stats as stats\n",
        "from pathlib import Path\n",
        "\n",
        "pd.pandas.set_option('display.max_columns', None)\n",
        "%matplotlib inline\n",
        "import warnings\n",
        "warnings.filterwarnings(\"ignore\", category=DeprecationWarning)"
      ],
      "execution_count": 58,
      "outputs": []
    },
    {
      "cell_type": "markdown",
      "metadata": {
        "id": "PGTh5IO3ynqe"
      },
      "source": [
        "## Grid Search import"
      ]
    },
    {
      "cell_type": "code",
      "metadata": {
        "id": "yFwYJGbksrYH"
      },
      "source": [
        "from sklearn.model_selection import GridSearchCV\n",
        "from sklearn.model_selection import cross_val_score"
      ],
      "execution_count": 59,
      "outputs": []
    },
    {
      "cell_type": "markdown",
      "metadata": {
        "id": "iFIdx37bsK09"
      },
      "source": [
        "### Load Datasets"
      ]
    },
    {
      "cell_type": "code",
      "metadata": {
        "ExecuteTime": {
          "end_time": "2020-03-09T07:32:50.854852Z",
          "start_time": "2020-03-09T07:32:50.812739Z"
        },
        "id": "Xb2ctCx_sK0-",
        "outputId": "fc0c15b9-81c6-466c-f562-01888b5c00ee",
        "colab": {
          "base_uri": "https://localhost:8080/"
        }
      },
      "source": [
        "# load dataset\n",
        "# your code here\n",
        "path = \"https://raw.githubusercontent.com/rajadevineni/Applied_ML_Coding_Exam1/main/train_rev.csv\"\n",
        "data = pd.read_csv(path)\n",
        "print('Shape of Dataset: ',data.shape)"
      ],
      "execution_count": 60,
      "outputs": [
        {
          "output_type": "stream",
          "text": [
            "Shape of Dataset:  (21788, 60)\n"
          ],
          "name": "stdout"
        }
      ]
    },
    {
      "cell_type": "code",
      "metadata": {
        "id": "lqCH0D4lmJGh",
        "outputId": "de1926fb-2527-451e-ce3f-e726057064f6",
        "colab": {
          "base_uri": "https://localhost:8080/",
          "height": 224
        }
      },
      "source": [
        "data.rename(columns={\"id \": \"id\"}, inplace=True)\n",
        "data.head()"
      ],
      "execution_count": 61,
      "outputs": [
        {
          "output_type": "execute_result",
          "data": {
            "text/html": [
              "<div>\n",
              "<style scoped>\n",
              "    .dataframe tbody tr th:only-of-type {\n",
              "        vertical-align: middle;\n",
              "    }\n",
              "\n",
              "    .dataframe tbody tr th {\n",
              "        vertical-align: top;\n",
              "    }\n",
              "\n",
              "    .dataframe thead th {\n",
              "        text-align: right;\n",
              "    }\n",
              "</style>\n",
              "<table border=\"1\" class=\"dataframe\">\n",
              "  <thead>\n",
              "    <tr style=\"text-align: right;\">\n",
              "      <th></th>\n",
              "      <th>id</th>\n",
              "      <th>v1</th>\n",
              "      <th>v2</th>\n",
              "      <th>v3</th>\n",
              "      <th>v4</th>\n",
              "      <th>v5</th>\n",
              "      <th>v6</th>\n",
              "      <th>v7</th>\n",
              "      <th>v8</th>\n",
              "      <th>v9</th>\n",
              "      <th>v10</th>\n",
              "      <th>v11</th>\n",
              "      <th>v12</th>\n",
              "      <th>v13</th>\n",
              "      <th>v14</th>\n",
              "      <th>v15</th>\n",
              "      <th>v16</th>\n",
              "      <th>v17</th>\n",
              "      <th>v18</th>\n",
              "      <th>v19</th>\n",
              "      <th>v20</th>\n",
              "      <th>v21</th>\n",
              "      <th>v22</th>\n",
              "      <th>v23</th>\n",
              "      <th>v24</th>\n",
              "      <th>v25</th>\n",
              "      <th>v26</th>\n",
              "      <th>v27</th>\n",
              "      <th>v28</th>\n",
              "      <th>v29</th>\n",
              "      <th>v30</th>\n",
              "      <th>v31</th>\n",
              "      <th>v32</th>\n",
              "      <th>v33</th>\n",
              "      <th>v34</th>\n",
              "      <th>v35</th>\n",
              "      <th>v36</th>\n",
              "      <th>v37</th>\n",
              "      <th>v38</th>\n",
              "      <th>v39</th>\n",
              "      <th>v40</th>\n",
              "      <th>v41</th>\n",
              "      <th>v42</th>\n",
              "      <th>v43</th>\n",
              "      <th>v44</th>\n",
              "      <th>v45</th>\n",
              "      <th>v46</th>\n",
              "      <th>v47</th>\n",
              "      <th>v48</th>\n",
              "      <th>v49</th>\n",
              "      <th>v50</th>\n",
              "      <th>v51</th>\n",
              "      <th>v52</th>\n",
              "      <th>v53</th>\n",
              "      <th>v54</th>\n",
              "      <th>v55</th>\n",
              "      <th>v56</th>\n",
              "      <th>v57</th>\n",
              "      <th>v58</th>\n",
              "      <th>target</th>\n",
              "    </tr>\n",
              "  </thead>\n",
              "  <tbody>\n",
              "    <tr>\n",
              "      <th>0</th>\n",
              "      <td>1</td>\n",
              "      <td>13</td>\n",
              "      <td>472</td>\n",
              "      <td>0.516129</td>\n",
              "      <td>1.0</td>\n",
              "      <td>0.677656</td>\n",
              "      <td>7</td>\n",
              "      <td>3</td>\n",
              "      <td>1</td>\n",
              "      <td>0</td>\n",
              "      <td>4.843220</td>\n",
              "      <td>4</td>\n",
              "      <td>0</td>\n",
              "      <td>0</td>\n",
              "      <td>0</td>\n",
              "      <td>0</td>\n",
              "      <td>0</td>\n",
              "      <td>1</td>\n",
              "      <td>-1</td>\n",
              "      <td>0.0</td>\n",
              "      <td>-1.000000</td>\n",
              "      <td>67700</td>\n",
              "      <td>843300</td>\n",
              "      <td>417575.0000</td>\n",
              "      <td>2185.450945</td>\n",
              "      <td>3467.837885</td>\n",
              "      <td>2639.664540</td>\n",
              "      <td>568.0</td>\n",
              "      <td>5800.0</td>\n",
              "      <td>2323.666667</td>\n",
              "      <td>0</td>\n",
              "      <td>0</td>\n",
              "      <td>0</td>\n",
              "      <td>1</td>\n",
              "      <td>0</td>\n",
              "      <td>0</td>\n",
              "      <td>0</td>\n",
              "      <td>0</td>\n",
              "      <td>0.050001</td>\n",
              "      <td>0.050000</td>\n",
              "      <td>0.799993</td>\n",
              "      <td>0.050000</td>\n",
              "      <td>0.050006</td>\n",
              "      <td>0.408591</td>\n",
              "      <td>0.047852</td>\n",
              "      <td>0.012712</td>\n",
              "      <td>0.004237</td>\n",
              "      <td>0.750000</td>\n",
              "      <td>0.250000</td>\n",
              "      <td>0.278283</td>\n",
              "      <td>0.100000</td>\n",
              "      <td>0.6</td>\n",
              "      <td>-0.523810</td>\n",
              "      <td>-0.714286</td>\n",
              "      <td>-0.333333</td>\n",
              "      <td>0.000000</td>\n",
              "      <td>0.000000</td>\n",
              "      <td>0.500000</td>\n",
              "      <td>0.000000</td>\n",
              "      <td>1600</td>\n",
              "    </tr>\n",
              "    <tr>\n",
              "      <th>1</th>\n",
              "      <td>2</td>\n",
              "      <td>12</td>\n",
              "      <td>701</td>\n",
              "      <td>0.522963</td>\n",
              "      <td>1.0</td>\n",
              "      <td>0.677201</td>\n",
              "      <td>10</td>\n",
              "      <td>5</td>\n",
              "      <td>10</td>\n",
              "      <td>1</td>\n",
              "      <td>4.763195</td>\n",
              "      <td>9</td>\n",
              "      <td>0</td>\n",
              "      <td>0</td>\n",
              "      <td>0</td>\n",
              "      <td>0</td>\n",
              "      <td>0</td>\n",
              "      <td>1</td>\n",
              "      <td>-1</td>\n",
              "      <td>804.0</td>\n",
              "      <td>193.625000</td>\n",
              "      <td>0</td>\n",
              "      <td>843300</td>\n",
              "      <td>209755.5556</td>\n",
              "      <td>0.000000</td>\n",
              "      <td>4101.893971</td>\n",
              "      <td>2114.472589</td>\n",
              "      <td>0.0</td>\n",
              "      <td>0.0</td>\n",
              "      <td>0.000000</td>\n",
              "      <td>0</td>\n",
              "      <td>0</td>\n",
              "      <td>0</td>\n",
              "      <td>1</td>\n",
              "      <td>0</td>\n",
              "      <td>0</td>\n",
              "      <td>0</td>\n",
              "      <td>0</td>\n",
              "      <td>0.244963</td>\n",
              "      <td>0.022224</td>\n",
              "      <td>0.571054</td>\n",
              "      <td>0.022223</td>\n",
              "      <td>0.139535</td>\n",
              "      <td>0.406442</td>\n",
              "      <td>0.185152</td>\n",
              "      <td>0.051355</td>\n",
              "      <td>0.007133</td>\n",
              "      <td>0.878049</td>\n",
              "      <td>0.121951</td>\n",
              "      <td>0.368439</td>\n",
              "      <td>0.033333</td>\n",
              "      <td>1.0</td>\n",
              "      <td>-0.275000</td>\n",
              "      <td>-0.600000</td>\n",
              "      <td>-0.050000</td>\n",
              "      <td>0.222222</td>\n",
              "      <td>0.244444</td>\n",
              "      <td>0.277778</td>\n",
              "      <td>0.244444</td>\n",
              "      <td>1700</td>\n",
              "    </tr>\n",
              "    <tr>\n",
              "      <th>2</th>\n",
              "      <td>3</td>\n",
              "      <td>8</td>\n",
              "      <td>174</td>\n",
              "      <td>0.724551</td>\n",
              "      <td>1.0</td>\n",
              "      <td>0.896226</td>\n",
              "      <td>1</td>\n",
              "      <td>1</td>\n",
              "      <td>1</td>\n",
              "      <td>0</td>\n",
              "      <td>4.385057</td>\n",
              "      <td>5</td>\n",
              "      <td>0</td>\n",
              "      <td>0</td>\n",
              "      <td>0</td>\n",
              "      <td>0</td>\n",
              "      <td>1</td>\n",
              "      <td>0</td>\n",
              "      <td>217</td>\n",
              "      <td>342.0</td>\n",
              "      <td>279.500000</td>\n",
              "      <td>0</td>\n",
              "      <td>617900</td>\n",
              "      <td>142120.0000</td>\n",
              "      <td>0.000000</td>\n",
              "      <td>3159.522593</td>\n",
              "      <td>2108.652601</td>\n",
              "      <td>0.0</td>\n",
              "      <td>0.0</td>\n",
              "      <td>0.000000</td>\n",
              "      <td>1</td>\n",
              "      <td>0</td>\n",
              "      <td>0</td>\n",
              "      <td>0</td>\n",
              "      <td>0</td>\n",
              "      <td>0</td>\n",
              "      <td>0</td>\n",
              "      <td>0</td>\n",
              "      <td>0.040030</td>\n",
              "      <td>0.040623</td>\n",
              "      <td>0.040019</td>\n",
              "      <td>0.040019</td>\n",
              "      <td>0.839309</td>\n",
              "      <td>0.255628</td>\n",
              "      <td>0.029437</td>\n",
              "      <td>0.011494</td>\n",
              "      <td>0.022989</td>\n",
              "      <td>0.333333</td>\n",
              "      <td>0.666667</td>\n",
              "      <td>0.366667</td>\n",
              "      <td>0.333333</td>\n",
              "      <td>0.4</td>\n",
              "      <td>-0.102381</td>\n",
              "      <td>-0.166667</td>\n",
              "      <td>-0.071429</td>\n",
              "      <td>0.000000</td>\n",
              "      <td>0.000000</td>\n",
              "      <td>0.500000</td>\n",
              "      <td>0.000000</td>\n",
              "      <td>3100</td>\n",
              "    </tr>\n",
              "    <tr>\n",
              "      <th>3</th>\n",
              "      <td>4</td>\n",
              "      <td>10</td>\n",
              "      <td>2347</td>\n",
              "      <td>0.359368</td>\n",
              "      <td>1.0</td>\n",
              "      <td>0.551497</td>\n",
              "      <td>36</td>\n",
              "      <td>8</td>\n",
              "      <td>3</td>\n",
              "      <td>1</td>\n",
              "      <td>4.907542</td>\n",
              "      <td>6</td>\n",
              "      <td>0</td>\n",
              "      <td>0</td>\n",
              "      <td>1</td>\n",
              "      <td>0</td>\n",
              "      <td>0</td>\n",
              "      <td>0</td>\n",
              "      <td>-1</td>\n",
              "      <td>1100.0</td>\n",
              "      <td>271.666667</td>\n",
              "      <td>27700</td>\n",
              "      <td>843300</td>\n",
              "      <td>327316.6667</td>\n",
              "      <td>3193.319812</td>\n",
              "      <td>6003.888889</td>\n",
              "      <td>4260.332820</td>\n",
              "      <td>1700.0</td>\n",
              "      <td>25900.0</td>\n",
              "      <td>10233.333330</td>\n",
              "      <td>0</td>\n",
              "      <td>0</td>\n",
              "      <td>0</td>\n",
              "      <td>0</td>\n",
              "      <td>0</td>\n",
              "      <td>0</td>\n",
              "      <td>1</td>\n",
              "      <td>1</td>\n",
              "      <td>0.700278</td>\n",
              "      <td>0.198502</td>\n",
              "      <td>0.033334</td>\n",
              "      <td>0.033334</td>\n",
              "      <td>0.034553</td>\n",
              "      <td>0.479196</td>\n",
              "      <td>0.171219</td>\n",
              "      <td>0.051129</td>\n",
              "      <td>0.014913</td>\n",
              "      <td>0.774194</td>\n",
              "      <td>0.225806</td>\n",
              "      <td>0.374936</td>\n",
              "      <td>0.033333</td>\n",
              "      <td>1.0</td>\n",
              "      <td>-0.245176</td>\n",
              "      <td>-0.800000</td>\n",
              "      <td>-0.050000</td>\n",
              "      <td>0.000000</td>\n",
              "      <td>0.000000</td>\n",
              "      <td>0.500000</td>\n",
              "      <td>0.000000</td>\n",
              "      <td>1800</td>\n",
              "    </tr>\n",
              "    <tr>\n",
              "      <th>4</th>\n",
              "      <td>5</td>\n",
              "      <td>7</td>\n",
              "      <td>280</td>\n",
              "      <td>0.563636</td>\n",
              "      <td>1.0</td>\n",
              "      <td>0.700599</td>\n",
              "      <td>8</td>\n",
              "      <td>5</td>\n",
              "      <td>1</td>\n",
              "      <td>0</td>\n",
              "      <td>5.132143</td>\n",
              "      <td>8</td>\n",
              "      <td>0</td>\n",
              "      <td>0</td>\n",
              "      <td>1</td>\n",
              "      <td>0</td>\n",
              "      <td>0</td>\n",
              "      <td>0</td>\n",
              "      <td>-1</td>\n",
              "      <td>718.0</td>\n",
              "      <td>263.698750</td>\n",
              "      <td>4800</td>\n",
              "      <td>843300</td>\n",
              "      <td>222525.0000</td>\n",
              "      <td>1838.148148</td>\n",
              "      <td>3582.545966</td>\n",
              "      <td>2503.522903</td>\n",
              "      <td>860.0</td>\n",
              "      <td>7900.0</td>\n",
              "      <td>2940.000000</td>\n",
              "      <td>0</td>\n",
              "      <td>1</td>\n",
              "      <td>0</td>\n",
              "      <td>0</td>\n",
              "      <td>0</td>\n",
              "      <td>0</td>\n",
              "      <td>0</td>\n",
              "      <td>0</td>\n",
              "      <td>0.475835</td>\n",
              "      <td>0.025101</td>\n",
              "      <td>0.279301</td>\n",
              "      <td>0.025000</td>\n",
              "      <td>0.194762</td>\n",
              "      <td>0.350535</td>\n",
              "      <td>0.166043</td>\n",
              "      <td>0.039286</td>\n",
              "      <td>0.000000</td>\n",
              "      <td>1.000000</td>\n",
              "      <td>0.000000</td>\n",
              "      <td>0.288430</td>\n",
              "      <td>0.100000</td>\n",
              "      <td>1.0</td>\n",
              "      <td>0.000000</td>\n",
              "      <td>0.000000</td>\n",
              "      <td>0.000000</td>\n",
              "      <td>0.000000</td>\n",
              "      <td>0.000000</td>\n",
              "      <td>0.500000</td>\n",
              "      <td>0.000000</td>\n",
              "      <td>2900</td>\n",
              "    </tr>\n",
              "  </tbody>\n",
              "</table>\n",
              "</div>"
            ],
            "text/plain": [
              "   id  v1    v2        v3   v4        v5  v6  v7  v8  v9       v10  v11  v12  \\\n",
              "0   1  13   472  0.516129  1.0  0.677656   7   3   1   0  4.843220    4    0   \n",
              "1   2  12   701  0.522963  1.0  0.677201  10   5  10   1  4.763195    9    0   \n",
              "2   3   8   174  0.724551  1.0  0.896226   1   1   1   0  4.385057    5    0   \n",
              "3   4  10  2347  0.359368  1.0  0.551497  36   8   3   1  4.907542    6    0   \n",
              "4   5   7   280  0.563636  1.0  0.700599   8   5   1   0  5.132143    8    0   \n",
              "\n",
              "   v13  v14  v15  v16  v17  v18     v19         v20    v21     v22  \\\n",
              "0    0    0    0    0    1   -1     0.0   -1.000000  67700  843300   \n",
              "1    0    0    0    0    1   -1   804.0  193.625000      0  843300   \n",
              "2    0    0    0    1    0  217   342.0  279.500000      0  617900   \n",
              "3    0    1    0    0    0   -1  1100.0  271.666667  27700  843300   \n",
              "4    0    1    0    0    0   -1   718.0  263.698750   4800  843300   \n",
              "\n",
              "           v23          v24          v25          v26     v27      v28  \\\n",
              "0  417575.0000  2185.450945  3467.837885  2639.664540   568.0   5800.0   \n",
              "1  209755.5556     0.000000  4101.893971  2114.472589     0.0      0.0   \n",
              "2  142120.0000     0.000000  3159.522593  2108.652601     0.0      0.0   \n",
              "3  327316.6667  3193.319812  6003.888889  4260.332820  1700.0  25900.0   \n",
              "4  222525.0000  1838.148148  3582.545966  2503.522903   860.0   7900.0   \n",
              "\n",
              "            v29  v30  v31  v32  v33  v34  v35  v36  v37       v38       v39  \\\n",
              "0   2323.666667    0    0    0    1    0    0    0    0  0.050001  0.050000   \n",
              "1      0.000000    0    0    0    1    0    0    0    0  0.244963  0.022224   \n",
              "2      0.000000    1    0    0    0    0    0    0    0  0.040030  0.040623   \n",
              "3  10233.333330    0    0    0    0    0    0    1    1  0.700278  0.198502   \n",
              "4   2940.000000    0    1    0    0    0    0    0    0  0.475835  0.025101   \n",
              "\n",
              "        v40       v41       v42       v43       v44       v45       v46  \\\n",
              "0  0.799993  0.050000  0.050006  0.408591  0.047852  0.012712  0.004237   \n",
              "1  0.571054  0.022223  0.139535  0.406442  0.185152  0.051355  0.007133   \n",
              "2  0.040019  0.040019  0.839309  0.255628  0.029437  0.011494  0.022989   \n",
              "3  0.033334  0.033334  0.034553  0.479196  0.171219  0.051129  0.014913   \n",
              "4  0.279301  0.025000  0.194762  0.350535  0.166043  0.039286  0.000000   \n",
              "\n",
              "        v47       v48       v49       v50  v51       v52       v53       v54  \\\n",
              "0  0.750000  0.250000  0.278283  0.100000  0.6 -0.523810 -0.714286 -0.333333   \n",
              "1  0.878049  0.121951  0.368439  0.033333  1.0 -0.275000 -0.600000 -0.050000   \n",
              "2  0.333333  0.666667  0.366667  0.333333  0.4 -0.102381 -0.166667 -0.071429   \n",
              "3  0.774194  0.225806  0.374936  0.033333  1.0 -0.245176 -0.800000 -0.050000   \n",
              "4  1.000000  0.000000  0.288430  0.100000  1.0  0.000000  0.000000  0.000000   \n",
              "\n",
              "        v55       v56       v57       v58  target  \n",
              "0  0.000000  0.000000  0.500000  0.000000    1600  \n",
              "1  0.222222  0.244444  0.277778  0.244444    1700  \n",
              "2  0.000000  0.000000  0.500000  0.000000    3100  \n",
              "3  0.000000  0.000000  0.500000  0.000000    1800  \n",
              "4  0.000000  0.000000  0.500000  0.000000    2900  "
            ]
          },
          "metadata": {
            "tags": []
          },
          "execution_count": 61
        }
      ]
    },
    {
      "cell_type": "code",
      "metadata": {
        "id": "6jzELu9VmUnw",
        "outputId": "07cc440c-76f3-43c5-c90d-5b75bd3edcaf",
        "colab": {
          "base_uri": "https://localhost:8080/"
        }
      },
      "source": [
        "data.columns"
      ],
      "execution_count": 62,
      "outputs": [
        {
          "output_type": "execute_result",
          "data": {
            "text/plain": [
              "Index(['id', 'v1', 'v2', 'v3', 'v4', 'v5', 'v6', 'v7', 'v8', 'v9', 'v10',\n",
              "       'v11', 'v12', 'v13', 'v14', 'v15', 'v16', 'v17', 'v18', 'v19', 'v20',\n",
              "       'v21', 'v22', 'v23', 'v24', 'v25', 'v26', 'v27', 'v28', 'v29', 'v30',\n",
              "       'v31', 'v32', 'v33', 'v34', 'v35', 'v36', 'v37', 'v38', 'v39', 'v40',\n",
              "       'v41', 'v42', 'v43', 'v44', 'v45', 'v46', 'v47', 'v48', 'v49', 'v50',\n",
              "       'v51', 'v52', 'v53', 'v54', 'v55', 'v56', 'v57', 'v58', 'target'],\n",
              "      dtype='object')"
            ]
          },
          "metadata": {
            "tags": []
          },
          "execution_count": 62
        }
      ]
    },
    {
      "cell_type": "markdown",
      "metadata": {
        "id": "m7fpXiMNsK1B"
      },
      "source": [
        "### Types of variables\n",
        "\n"
      ]
    },
    {
      "cell_type": "code",
      "metadata": {
        "ExecuteTime": {
          "end_time": "2020-03-09T07:32:51.725905Z",
          "start_time": "2020-03-09T07:32:51.719889Z"
        },
        "id": "93EnpL-asK1C",
        "outputId": "5be2b46d-3b91-4f93-d396-6911ecff020c",
        "colab": {
          "base_uri": "https://localhost:8080/"
        }
      },
      "source": [
        "# we have an Id variable, that we should not use for predictions:\n",
        "\n",
        "print('Number of  Id labels: ', len(data.id.unique()))\n",
        "print('Number of records in the Dataset: ', len(data))\n",
        "print('Shape of Dataset: ', data.shape)"
      ],
      "execution_count": 63,
      "outputs": [
        {
          "output_type": "stream",
          "text": [
            "Number of  Id labels:  21788\n",
            "Number of records in the Dataset:  21788\n",
            "Shape of Dataset:  (21788, 60)\n"
          ],
          "name": "stdout"
        }
      ]
    },
    {
      "cell_type": "markdown",
      "metadata": {
        "id": "B-FP_uw_sK1G"
      },
      "source": [
        "#### Find categorical variables"
      ]
    },
    {
      "cell_type": "code",
      "metadata": {
        "ExecuteTime": {
          "end_time": "2020-03-09T07:32:53.140553Z",
          "start_time": "2020-03-09T07:32:53.135036Z"
        },
        "id": "bxDr9ifMsK1H",
        "outputId": "fdd56c24-311c-4fc0-d3ee-19054072857b",
        "colab": {
          "base_uri": "https://localhost:8080/"
        }
      },
      "source": [
        "# find categorical variables- hint data type = 'O'\n",
        "\n",
        "categorical = [var for var in data.columns if data[var].dtype=='O']\n",
        "\n",
        "print(f'There are {len(categorical)} categorical variables')"
      ],
      "execution_count": 64,
      "outputs": [
        {
          "output_type": "stream",
          "text": [
            "There are 0 categorical variables\n"
          ],
          "name": "stdout"
        }
      ]
    },
    {
      "cell_type": "markdown",
      "metadata": {
        "id": "907jHG6hsK1K"
      },
      "source": [
        "#### Find temporal variables"
      ]
    },
    {
      "cell_type": "code",
      "metadata": {
        "ExecuteTime": {
          "end_time": "2020-03-09T07:32:54.328164Z",
          "start_time": "2020-03-09T07:32:54.321146Z"
        },
        "id": "53PyErySsK1K",
        "outputId": "a62280ce-1d7d-4aed-f5d6-9a0b0b9c8c26",
        "colab": {
          "base_uri": "https://localhost:8080/"
        }
      },
      "source": [
        "# make a list of the numerical variables first= Hint data type != O\n",
        "numerical = [var for var in data.columns if data[var].dtype!='O']\n",
        "\n",
        "# list of variables that contain year information= Hint variable namme has Yr or \n",
        "year_vars = [var for var in numerical if 'Yr' in var or 'Year' in var]\n",
        "\n",
        "year_vars"
      ],
      "execution_count": 65,
      "outputs": [
        {
          "output_type": "execute_result",
          "data": {
            "text/plain": [
              "[]"
            ]
          },
          "metadata": {
            "tags": []
          },
          "execution_count": 65
        }
      ]
    },
    {
      "cell_type": "markdown",
      "metadata": {
        "id": "poJpTh67sK1Q"
      },
      "source": [
        "#### Find discrete variables\n",
        "\n",
        "To identify discrete variables- numerical variables with less than 20 unique values "
      ]
    },
    {
      "cell_type": "code",
      "metadata": {
        "ExecuteTime": {
          "end_time": "2020-03-09T07:32:55.849304Z",
          "start_time": "2020-03-09T07:32:55.835765Z"
        },
        "id": "er1pqvhQsK1R",
        "outputId": "fd908f70-003a-4f55-e2b5-de0af4bae925",
        "colab": {
          "base_uri": "https://localhost:8080/"
        }
      },
      "source": [
        "# let's visualise the values of the discrete variables\n",
        "discrete = [var for var in numerical if len(data[var].unique()) < 20 and var not in year_vars]\n",
        "\n",
        "print(f'There are {len(discrete)} discrete variables')"
      ],
      "execution_count": 66,
      "outputs": [
        {
          "output_type": "stream",
          "text": [
            "There are 16 discrete variables\n"
          ],
          "name": "stdout"
        }
      ]
    },
    {
      "cell_type": "markdown",
      "metadata": {
        "id": "VFM14cLtsK1U"
      },
      "source": [
        "#### Continuous variables"
      ]
    },
    {
      "cell_type": "code",
      "metadata": {
        "ExecuteTime": {
          "end_time": "2020-03-09T07:32:57.274949Z",
          "start_time": "2020-03-09T07:32:57.268932Z"
        },
        "id": "pokSx1XEsK1U",
        "outputId": "f36b0997-06ee-469c-ba5b-8c5e36255771",
        "colab": {
          "base_uri": "https://localhost:8080/"
        }
      },
      "source": [
        "# find continuous variables- hint numerical variables not in discrete and  year_years \n",
        "# Also remove the Id variable and the target variable SalePrice\n",
        "# which are both also numerical\n",
        "\n",
        "continuous = [var for var in numerical if var not in discrete and var not in [\n",
        "    'id', 'target'] and var not in year_vars]\n",
        "\n",
        "print('There are {} numerical and continuous variables'.format(len(numerical)))"
      ],
      "execution_count": 67,
      "outputs": [
        {
          "output_type": "stream",
          "text": [
            "There are 60 numerical and continuous variables\n"
          ],
          "name": "stdout"
        }
      ]
    },
    {
      "cell_type": "code",
      "metadata": {
        "id": "swJwIMGZ0NO7",
        "outputId": "af4e0608-3797-4c65-d2e9-27148b09aae8",
        "colab": {
          "base_uri": "https://localhost:8080/"
        }
      },
      "source": [
        "data.isna().sum()"
      ],
      "execution_count": 68,
      "outputs": [
        {
          "output_type": "execute_result",
          "data": {
            "text/plain": [
              "id        0\n",
              "v1        0\n",
              "v2        0\n",
              "v3        0\n",
              "v4        0\n",
              "v5        0\n",
              "v6        0\n",
              "v7        0\n",
              "v8        0\n",
              "v9        0\n",
              "v10       0\n",
              "v11       0\n",
              "v12       0\n",
              "v13       0\n",
              "v14       0\n",
              "v15       0\n",
              "v16       0\n",
              "v17       0\n",
              "v18       0\n",
              "v19       0\n",
              "v20       0\n",
              "v21       0\n",
              "v22       0\n",
              "v23       0\n",
              "v24       0\n",
              "v25       0\n",
              "v26       0\n",
              "v27       0\n",
              "v28       0\n",
              "v29       0\n",
              "v30       0\n",
              "v31       0\n",
              "v32       0\n",
              "v33       0\n",
              "v34       0\n",
              "v35       0\n",
              "v36       0\n",
              "v37       0\n",
              "v38       0\n",
              "v39       0\n",
              "v40       0\n",
              "v41       0\n",
              "v42       0\n",
              "v43       0\n",
              "v44       0\n",
              "v45       0\n",
              "v46       0\n",
              "v47       0\n",
              "v48       0\n",
              "v49       0\n",
              "v50       0\n",
              "v51       0\n",
              "v52       0\n",
              "v53       0\n",
              "v54       0\n",
              "v55       0\n",
              "v56       0\n",
              "v57       0\n",
              "v58       0\n",
              "target    0\n",
              "dtype: int64"
            ]
          },
          "metadata": {
            "tags": []
          },
          "execution_count": 68
        }
      ]
    },
    {
      "cell_type": "markdown",
      "metadata": {
        "id": "jByVvHgqmPYD"
      },
      "source": [
        "## Correlations and Choosing variables"
      ]
    },
    {
      "cell_type": "markdown",
      "metadata": {
        "id": "fqBEQJ7e1Dju"
      },
      "source": [
        "### Creating correlation matrix"
      ]
    },
    {
      "cell_type": "code",
      "metadata": {
        "id": "o2amXQXlpF2b",
        "outputId": "e2a98429-7e5a-49bb-9cea-0474144dab84",
        "colab": {
          "base_uri": "https://localhost:8080/",
          "height": 379
        }
      },
      "source": [
        "corr_matrix = data.corr(method='pearson', min_periods=1)\n",
        "corr_matrix.head(10)"
      ],
      "execution_count": 69,
      "outputs": [
        {
          "output_type": "execute_result",
          "data": {
            "text/html": [
              "<div>\n",
              "<style scoped>\n",
              "    .dataframe tbody tr th:only-of-type {\n",
              "        vertical-align: middle;\n",
              "    }\n",
              "\n",
              "    .dataframe tbody tr th {\n",
              "        vertical-align: top;\n",
              "    }\n",
              "\n",
              "    .dataframe thead th {\n",
              "        text-align: right;\n",
              "    }\n",
              "</style>\n",
              "<table border=\"1\" class=\"dataframe\">\n",
              "  <thead>\n",
              "    <tr style=\"text-align: right;\">\n",
              "      <th></th>\n",
              "      <th>id</th>\n",
              "      <th>v1</th>\n",
              "      <th>v2</th>\n",
              "      <th>v3</th>\n",
              "      <th>v4</th>\n",
              "      <th>v5</th>\n",
              "      <th>v6</th>\n",
              "      <th>v7</th>\n",
              "      <th>v8</th>\n",
              "      <th>v9</th>\n",
              "      <th>v10</th>\n",
              "      <th>v11</th>\n",
              "      <th>v12</th>\n",
              "      <th>v13</th>\n",
              "      <th>v14</th>\n",
              "      <th>v15</th>\n",
              "      <th>v16</th>\n",
              "      <th>v17</th>\n",
              "      <th>v18</th>\n",
              "      <th>v19</th>\n",
              "      <th>v20</th>\n",
              "      <th>v21</th>\n",
              "      <th>v22</th>\n",
              "      <th>v23</th>\n",
              "      <th>v24</th>\n",
              "      <th>v25</th>\n",
              "      <th>v26</th>\n",
              "      <th>v27</th>\n",
              "      <th>v28</th>\n",
              "      <th>v29</th>\n",
              "      <th>v30</th>\n",
              "      <th>v31</th>\n",
              "      <th>v32</th>\n",
              "      <th>v33</th>\n",
              "      <th>v34</th>\n",
              "      <th>v35</th>\n",
              "      <th>v36</th>\n",
              "      <th>v37</th>\n",
              "      <th>v38</th>\n",
              "      <th>v39</th>\n",
              "      <th>v40</th>\n",
              "      <th>v41</th>\n",
              "      <th>v42</th>\n",
              "      <th>v43</th>\n",
              "      <th>v44</th>\n",
              "      <th>v45</th>\n",
              "      <th>v46</th>\n",
              "      <th>v47</th>\n",
              "      <th>v48</th>\n",
              "      <th>v49</th>\n",
              "      <th>v50</th>\n",
              "      <th>v51</th>\n",
              "      <th>v52</th>\n",
              "      <th>v53</th>\n",
              "      <th>v54</th>\n",
              "      <th>v55</th>\n",
              "      <th>v56</th>\n",
              "      <th>v57</th>\n",
              "      <th>v58</th>\n",
              "      <th>target</th>\n",
              "    </tr>\n",
              "  </thead>\n",
              "  <tbody>\n",
              "    <tr>\n",
              "      <th>id</th>\n",
              "      <td>1.000000</td>\n",
              "      <td>0.014367</td>\n",
              "      <td>0.001467</td>\n",
              "      <td>-0.003017</td>\n",
              "      <td>-0.004081</td>\n",
              "      <td>-0.001577</td>\n",
              "      <td>0.008028</td>\n",
              "      <td>0.006963</td>\n",
              "      <td>0.002073</td>\n",
              "      <td>0.001700</td>\n",
              "      <td>-0.003362</td>\n",
              "      <td>-0.007979</td>\n",
              "      <td>0.013182</td>\n",
              "      <td>-0.001097</td>\n",
              "      <td>0.002486</td>\n",
              "      <td>0.002979</td>\n",
              "      <td>0.004483</td>\n",
              "      <td>-0.008332</td>\n",
              "      <td>-0.004539</td>\n",
              "      <td>-0.000268</td>\n",
              "      <td>0.000801</td>\n",
              "      <td>-0.001160</td>\n",
              "      <td>0.000376</td>\n",
              "      <td>0.003799</td>\n",
              "      <td>-0.002165</td>\n",
              "      <td>-0.008286</td>\n",
              "      <td>-0.007389</td>\n",
              "      <td>-0.000146</td>\n",
              "      <td>-0.007493</td>\n",
              "      <td>-0.003041</td>\n",
              "      <td>-0.007567</td>\n",
              "      <td>-0.000778</td>\n",
              "      <td>0.007251</td>\n",
              "      <td>-0.005192</td>\n",
              "      <td>-0.006603</td>\n",
              "      <td>0.000777</td>\n",
              "      <td>0.017767</td>\n",
              "      <td>0.013940</td>\n",
              "      <td>-0.000461</td>\n",
              "      <td>-0.003319</td>\n",
              "      <td>-0.002408</td>\n",
              "      <td>-0.002773</td>\n",
              "      <td>0.008114</td>\n",
              "      <td>-0.005417</td>\n",
              "      <td>-0.000162</td>\n",
              "      <td>-0.002691</td>\n",
              "      <td>0.001186</td>\n",
              "      <td>-0.004523</td>\n",
              "      <td>0.000813</td>\n",
              "      <td>-0.001502</td>\n",
              "      <td>-0.013323</td>\n",
              "      <td>0.000805</td>\n",
              "      <td>0.005021</td>\n",
              "      <td>-0.001014</td>\n",
              "      <td>0.011731</td>\n",
              "      <td>0.006888</td>\n",
              "      <td>0.011617</td>\n",
              "      <td>-0.008534</td>\n",
              "      <td>0.016061</td>\n",
              "      <td>-0.003209</td>\n",
              "    </tr>\n",
              "    <tr>\n",
              "      <th>v1</th>\n",
              "      <td>0.014367</td>\n",
              "      <td>1.000000</td>\n",
              "      <td>0.029121</td>\n",
              "      <td>-0.057403</td>\n",
              "      <td>-0.041141</td>\n",
              "      <td>-0.050053</td>\n",
              "      <td>-0.041310</td>\n",
              "      <td>-0.009356</td>\n",
              "      <td>-0.005569</td>\n",
              "      <td>0.055939</td>\n",
              "      <td>-0.068985</td>\n",
              "      <td>0.002488</td>\n",
              "      <td>-0.070840</td>\n",
              "      <td>0.137644</td>\n",
              "      <td>-0.024785</td>\n",
              "      <td>-0.084697</td>\n",
              "      <td>-0.048908</td>\n",
              "      <td>0.043919</td>\n",
              "      <td>-0.105126</td>\n",
              "      <td>0.000183</td>\n",
              "      <td>-0.028322</td>\n",
              "      <td>0.014286</td>\n",
              "      <td>0.117782</td>\n",
              "      <td>0.108533</td>\n",
              "      <td>0.004525</td>\n",
              "      <td>0.010390</td>\n",
              "      <td>0.007286</td>\n",
              "      <td>-0.001189</td>\n",
              "      <td>-0.000021</td>\n",
              "      <td>0.002608</td>\n",
              "      <td>0.005015</td>\n",
              "      <td>0.003871</td>\n",
              "      <td>0.007616</td>\n",
              "      <td>-0.015244</td>\n",
              "      <td>0.002764</td>\n",
              "      <td>-0.016606</td>\n",
              "      <td>0.010026</td>\n",
              "      <td>-0.004227</td>\n",
              "      <td>-0.066652</td>\n",
              "      <td>0.059835</td>\n",
              "      <td>0.031808</td>\n",
              "      <td>0.047442</td>\n",
              "      <td>-0.063710</td>\n",
              "      <td>-0.055288</td>\n",
              "      <td>-0.063674</td>\n",
              "      <td>-0.060646</td>\n",
              "      <td>0.010846</td>\n",
              "      <td>-0.056119</td>\n",
              "      <td>0.025967</td>\n",
              "      <td>-0.046264</td>\n",
              "      <td>-0.030663</td>\n",
              "      <td>-0.015508</td>\n",
              "      <td>-0.013646</td>\n",
              "      <td>-0.029328</td>\n",
              "      <td>0.018749</td>\n",
              "      <td>0.091995</td>\n",
              "      <td>0.006818</td>\n",
              "      <td>-0.147986</td>\n",
              "      <td>0.052427</td>\n",
              "      <td>-0.040689</td>\n",
              "    </tr>\n",
              "    <tr>\n",
              "      <th>v2</th>\n",
              "      <td>0.001467</td>\n",
              "      <td>0.029121</td>\n",
              "      <td>1.000000</td>\n",
              "      <td>-0.414433</td>\n",
              "      <td>0.203188</td>\n",
              "      <td>-0.235277</td>\n",
              "      <td>0.426691</td>\n",
              "      <td>0.305844</td>\n",
              "      <td>0.355892</td>\n",
              "      <td>0.114144</td>\n",
              "      <td>0.170461</td>\n",
              "      <td>0.066294</td>\n",
              "      <td>0.031074</td>\n",
              "      <td>0.072071</td>\n",
              "      <td>-0.018597</td>\n",
              "      <td>0.028214</td>\n",
              "      <td>0.013611</td>\n",
              "      <td>0.059418</td>\n",
              "      <td>-0.054957</td>\n",
              "      <td>0.002988</td>\n",
              "      <td>-0.001025</td>\n",
              "      <td>-0.023369</td>\n",
              "      <td>0.063412</td>\n",
              "      <td>-0.091289</td>\n",
              "      <td>-0.024937</td>\n",
              "      <td>-0.027361</td>\n",
              "      <td>-0.080061</td>\n",
              "      <td>-0.037750</td>\n",
              "      <td>0.029038</td>\n",
              "      <td>-0.016785</td>\n",
              "      <td>-0.006655</td>\n",
              "      <td>-0.005208</td>\n",
              "      <td>-0.029289</td>\n",
              "      <td>-0.004778</td>\n",
              "      <td>-0.010837</td>\n",
              "      <td>0.046714</td>\n",
              "      <td>0.042886</td>\n",
              "      <td>0.065465</td>\n",
              "      <td>0.015174</td>\n",
              "      <td>-0.005078</td>\n",
              "      <td>0.092546</td>\n",
              "      <td>-0.129865</td>\n",
              "      <td>0.026406</td>\n",
              "      <td>0.133472</td>\n",
              "      <td>0.009227</td>\n",
              "      <td>0.128283</td>\n",
              "      <td>0.137527</td>\n",
              "      <td>0.087319</td>\n",
              "      <td>0.111323</td>\n",
              "      <td>0.133649</td>\n",
              "      <td>-0.264084</td>\n",
              "      <td>0.419746</td>\n",
              "      <td>-0.141177</td>\n",
              "      <td>-0.460187</td>\n",
              "      <td>0.226028</td>\n",
              "      <td>0.014140</td>\n",
              "      <td>0.022869</td>\n",
              "      <td>0.000600</td>\n",
              "      <td>0.023132</td>\n",
              "      <td>0.051468</td>\n",
              "    </tr>\n",
              "    <tr>\n",
              "      <th>v3</th>\n",
              "      <td>-0.003017</td>\n",
              "      <td>-0.057403</td>\n",
              "      <td>-0.414433</td>\n",
              "      <td>1.000000</td>\n",
              "      <td>0.670742</td>\n",
              "      <td>0.937666</td>\n",
              "      <td>-0.117865</td>\n",
              "      <td>-0.056779</td>\n",
              "      <td>-0.242130</td>\n",
              "      <td>0.014025</td>\n",
              "      <td>0.646997</td>\n",
              "      <td>-0.079346</td>\n",
              "      <td>-0.012233</td>\n",
              "      <td>-0.007073</td>\n",
              "      <td>0.052424</td>\n",
              "      <td>0.017965</td>\n",
              "      <td>0.010218</td>\n",
              "      <td>-0.073973</td>\n",
              "      <td>0.089758</td>\n",
              "      <td>-0.001145</td>\n",
              "      <td>0.014488</td>\n",
              "      <td>-0.004932</td>\n",
              "      <td>-0.099022</td>\n",
              "      <td>-0.048775</td>\n",
              "      <td>-0.031155</td>\n",
              "      <td>-0.010647</td>\n",
              "      <td>-0.036244</td>\n",
              "      <td>0.051846</td>\n",
              "      <td>0.021283</td>\n",
              "      <td>0.047591</td>\n",
              "      <td>0.008689</td>\n",
              "      <td>0.000079</td>\n",
              "      <td>0.006407</td>\n",
              "      <td>0.007840</td>\n",
              "      <td>0.008847</td>\n",
              "      <td>-0.034609</td>\n",
              "      <td>-0.015275</td>\n",
              "      <td>-0.036068</td>\n",
              "      <td>0.039109</td>\n",
              "      <td>0.057253</td>\n",
              "      <td>-0.078629</td>\n",
              "      <td>-0.005708</td>\n",
              "      <td>0.004754</td>\n",
              "      <td>0.470811</td>\n",
              "      <td>0.178138</td>\n",
              "      <td>0.289703</td>\n",
              "      <td>0.163179</td>\n",
              "      <td>0.441318</td>\n",
              "      <td>0.176483</td>\n",
              "      <td>0.417904</td>\n",
              "      <td>0.402976</td>\n",
              "      <td>0.149951</td>\n",
              "      <td>-0.205816</td>\n",
              "      <td>0.042057</td>\n",
              "      <td>-0.326351</td>\n",
              "      <td>-0.006775</td>\n",
              "      <td>-0.018639</td>\n",
              "      <td>-0.004982</td>\n",
              "      <td>-0.019730</td>\n",
              "      <td>-0.048139</td>\n",
              "    </tr>\n",
              "    <tr>\n",
              "      <th>v4</th>\n",
              "      <td>-0.004081</td>\n",
              "      <td>-0.041141</td>\n",
              "      <td>0.203188</td>\n",
              "      <td>0.670742</td>\n",
              "      <td>1.000000</td>\n",
              "      <td>0.760925</td>\n",
              "      <td>0.168321</td>\n",
              "      <td>0.145415</td>\n",
              "      <td>0.008821</td>\n",
              "      <td>0.017300</td>\n",
              "      <td>0.941896</td>\n",
              "      <td>-0.028522</td>\n",
              "      <td>0.027296</td>\n",
              "      <td>-0.004716</td>\n",
              "      <td>0.067411</td>\n",
              "      <td>0.033880</td>\n",
              "      <td>0.074461</td>\n",
              "      <td>0.002806</td>\n",
              "      <td>0.049125</td>\n",
              "      <td>0.001289</td>\n",
              "      <td>0.019563</td>\n",
              "      <td>-0.040715</td>\n",
              "      <td>-0.052508</td>\n",
              "      <td>-0.168042</td>\n",
              "      <td>-0.081283</td>\n",
              "      <td>-0.049282</td>\n",
              "      <td>-0.149959</td>\n",
              "      <td>0.035422</td>\n",
              "      <td>0.041986</td>\n",
              "      <td>0.045306</td>\n",
              "      <td>0.008207</td>\n",
              "      <td>0.004862</td>\n",
              "      <td>-0.012042</td>\n",
              "      <td>0.003935</td>\n",
              "      <td>-0.003405</td>\n",
              "      <td>-0.003523</td>\n",
              "      <td>0.001083</td>\n",
              "      <td>-0.001684</td>\n",
              "      <td>0.077215</td>\n",
              "      <td>0.008714</td>\n",
              "      <td>0.020476</td>\n",
              "      <td>-0.190710</td>\n",
              "      <td>0.091582</td>\n",
              "      <td>0.655296</td>\n",
              "      <td>0.211910</td>\n",
              "      <td>0.388268</td>\n",
              "      <td>0.263376</td>\n",
              "      <td>0.618089</td>\n",
              "      <td>0.314026</td>\n",
              "      <td>0.585733</td>\n",
              "      <td>0.227717</td>\n",
              "      <td>0.525233</td>\n",
              "      <td>-0.345348</td>\n",
              "      <td>-0.304589</td>\n",
              "      <td>-0.191978</td>\n",
              "      <td>-0.025692</td>\n",
              "      <td>0.000563</td>\n",
              "      <td>0.013730</td>\n",
              "      <td>-0.024237</td>\n",
              "      <td>-0.011858</td>\n",
              "    </tr>\n",
              "    <tr>\n",
              "      <th>v5</th>\n",
              "      <td>-0.001577</td>\n",
              "      <td>-0.050053</td>\n",
              "      <td>-0.235277</td>\n",
              "      <td>0.937666</td>\n",
              "      <td>0.760925</td>\n",
              "      <td>1.000000</td>\n",
              "      <td>-0.108779</td>\n",
              "      <td>-0.029132</td>\n",
              "      <td>-0.296027</td>\n",
              "      <td>0.006489</td>\n",
              "      <td>0.702016</td>\n",
              "      <td>-0.079799</td>\n",
              "      <td>0.015117</td>\n",
              "      <td>-0.018234</td>\n",
              "      <td>0.086008</td>\n",
              "      <td>0.022972</td>\n",
              "      <td>0.034435</td>\n",
              "      <td>-0.025472</td>\n",
              "      <td>0.081664</td>\n",
              "      <td>0.001446</td>\n",
              "      <td>0.019168</td>\n",
              "      <td>-0.018053</td>\n",
              "      <td>-0.088487</td>\n",
              "      <td>-0.096877</td>\n",
              "      <td>-0.069764</td>\n",
              "      <td>-0.036680</td>\n",
              "      <td>-0.108937</td>\n",
              "      <td>0.041652</td>\n",
              "      <td>0.019999</td>\n",
              "      <td>0.039032</td>\n",
              "      <td>0.009502</td>\n",
              "      <td>0.001039</td>\n",
              "      <td>0.003313</td>\n",
              "      <td>0.008596</td>\n",
              "      <td>0.009928</td>\n",
              "      <td>-0.029823</td>\n",
              "      <td>-0.020331</td>\n",
              "      <td>-0.036482</td>\n",
              "      <td>0.085210</td>\n",
              "      <td>0.043276</td>\n",
              "      <td>-0.026945</td>\n",
              "      <td>-0.130046</td>\n",
              "      <td>0.045062</td>\n",
              "      <td>0.511863</td>\n",
              "      <td>0.176202</td>\n",
              "      <td>0.340834</td>\n",
              "      <td>0.210558</td>\n",
              "      <td>0.485945</td>\n",
              "      <td>0.218869</td>\n",
              "      <td>0.456497</td>\n",
              "      <td>0.316896</td>\n",
              "      <td>0.267667</td>\n",
              "      <td>-0.245820</td>\n",
              "      <td>-0.083986</td>\n",
              "      <td>-0.259019</td>\n",
              "      <td>-0.026105</td>\n",
              "      <td>-0.027481</td>\n",
              "      <td>0.010628</td>\n",
              "      <td>-0.037977</td>\n",
              "      <td>-0.048733</td>\n",
              "    </tr>\n",
              "    <tr>\n",
              "      <th>v6</th>\n",
              "      <td>0.008028</td>\n",
              "      <td>-0.041310</td>\n",
              "      <td>0.426691</td>\n",
              "      <td>-0.117865</td>\n",
              "      <td>0.168321</td>\n",
              "      <td>-0.108779</td>\n",
              "      <td>1.000000</td>\n",
              "      <td>0.400459</td>\n",
              "      <td>0.341496</td>\n",
              "      <td>0.112166</td>\n",
              "      <td>0.221202</td>\n",
              "      <td>0.116864</td>\n",
              "      <td>0.054637</td>\n",
              "      <td>0.005872</td>\n",
              "      <td>-0.065349</td>\n",
              "      <td>0.065469</td>\n",
              "      <td>-0.064321</td>\n",
              "      <td>-0.027912</td>\n",
              "      <td>-0.035502</td>\n",
              "      <td>0.007277</td>\n",
              "      <td>0.004149</td>\n",
              "      <td>-0.020055</td>\n",
              "      <td>0.046818</td>\n",
              "      <td>-0.028758</td>\n",
              "      <td>0.057985</td>\n",
              "      <td>0.064764</td>\n",
              "      <td>0.114925</td>\n",
              "      <td>-0.011916</td>\n",
              "      <td>0.089808</td>\n",
              "      <td>0.025686</td>\n",
              "      <td>-0.008253</td>\n",
              "      <td>-0.013947</td>\n",
              "      <td>-0.040218</td>\n",
              "      <td>-0.016267</td>\n",
              "      <td>0.006406</td>\n",
              "      <td>0.064194</td>\n",
              "      <td>0.053307</td>\n",
              "      <td>0.085722</td>\n",
              "      <td>-0.021105</td>\n",
              "      <td>-0.049290</td>\n",
              "      <td>-0.002563</td>\n",
              "      <td>0.118367</td>\n",
              "      <td>-0.057931</td>\n",
              "      <td>0.201147</td>\n",
              "      <td>0.091319</td>\n",
              "      <td>0.061165</td>\n",
              "      <td>0.030255</td>\n",
              "      <td>0.104528</td>\n",
              "      <td>0.053076</td>\n",
              "      <td>0.186660</td>\n",
              "      <td>-0.092059</td>\n",
              "      <td>0.287764</td>\n",
              "      <td>-0.153039</td>\n",
              "      <td>-0.261022</td>\n",
              "      <td>0.056184</td>\n",
              "      <td>0.039216</td>\n",
              "      <td>0.039803</td>\n",
              "      <td>0.007365</td>\n",
              "      <td>0.053127</td>\n",
              "      <td>0.080993</td>\n",
              "    </tr>\n",
              "    <tr>\n",
              "      <th>v7</th>\n",
              "      <td>0.006963</td>\n",
              "      <td>-0.009356</td>\n",
              "      <td>0.305844</td>\n",
              "      <td>-0.056779</td>\n",
              "      <td>0.145415</td>\n",
              "      <td>-0.029132</td>\n",
              "      <td>0.400459</td>\n",
              "      <td>1.000000</td>\n",
              "      <td>0.257264</td>\n",
              "      <td>0.068479</td>\n",
              "      <td>0.120596</td>\n",
              "      <td>0.098367</td>\n",
              "      <td>-0.047373</td>\n",
              "      <td>0.029042</td>\n",
              "      <td>-0.056340</td>\n",
              "      <td>0.083411</td>\n",
              "      <td>0.173394</td>\n",
              "      <td>-0.124480</td>\n",
              "      <td>-0.013514</td>\n",
              "      <td>-0.005273</td>\n",
              "      <td>-0.005664</td>\n",
              "      <td>-0.026134</td>\n",
              "      <td>0.010596</td>\n",
              "      <td>-0.060008</td>\n",
              "      <td>0.039191</td>\n",
              "      <td>-0.019942</td>\n",
              "      <td>-0.016515</td>\n",
              "      <td>-0.030168</td>\n",
              "      <td>0.141738</td>\n",
              "      <td>0.027188</td>\n",
              "      <td>0.017583</td>\n",
              "      <td>-0.001614</td>\n",
              "      <td>-0.019601</td>\n",
              "      <td>-0.023413</td>\n",
              "      <td>-0.019371</td>\n",
              "      <td>0.047454</td>\n",
              "      <td>0.026288</td>\n",
              "      <td>0.053482</td>\n",
              "      <td>-0.024883</td>\n",
              "      <td>0.001307</td>\n",
              "      <td>-0.094534</td>\n",
              "      <td>-0.022181</td>\n",
              "      <td>0.138166</td>\n",
              "      <td>0.110989</td>\n",
              "      <td>0.088558</td>\n",
              "      <td>0.118231</td>\n",
              "      <td>0.009838</td>\n",
              "      <td>0.138726</td>\n",
              "      <td>-0.013083</td>\n",
              "      <td>0.095203</td>\n",
              "      <td>-0.073133</td>\n",
              "      <td>0.187247</td>\n",
              "      <td>-0.058656</td>\n",
              "      <td>-0.116599</td>\n",
              "      <td>0.037474</td>\n",
              "      <td>-0.005788</td>\n",
              "      <td>0.034425</td>\n",
              "      <td>0.004812</td>\n",
              "      <td>-0.002163</td>\n",
              "      <td>0.039482</td>\n",
              "    </tr>\n",
              "    <tr>\n",
              "      <th>v8</th>\n",
              "      <td>0.002073</td>\n",
              "      <td>-0.005569</td>\n",
              "      <td>0.355892</td>\n",
              "      <td>-0.242130</td>\n",
              "      <td>0.008821</td>\n",
              "      <td>-0.296027</td>\n",
              "      <td>0.341496</td>\n",
              "      <td>0.257264</td>\n",
              "      <td>1.000000</td>\n",
              "      <td>-0.060890</td>\n",
              "      <td>0.023796</td>\n",
              "      <td>0.076369</td>\n",
              "      <td>0.003506</td>\n",
              "      <td>0.115040</td>\n",
              "      <td>-0.139891</td>\n",
              "      <td>0.002252</td>\n",
              "      <td>0.003300</td>\n",
              "      <td>-0.111898</td>\n",
              "      <td>-0.033006</td>\n",
              "      <td>-0.002796</td>\n",
              "      <td>-0.007626</td>\n",
              "      <td>0.002839</td>\n",
              "      <td>0.043776</td>\n",
              "      <td>-0.004413</td>\n",
              "      <td>0.071156</td>\n",
              "      <td>0.048858</td>\n",
              "      <td>0.124804</td>\n",
              "      <td>0.002595</td>\n",
              "      <td>0.035348</td>\n",
              "      <td>0.018643</td>\n",
              "      <td>-0.007347</td>\n",
              "      <td>-0.004576</td>\n",
              "      <td>-0.012930</td>\n",
              "      <td>-0.015961</td>\n",
              "      <td>-0.013412</td>\n",
              "      <td>0.032943</td>\n",
              "      <td>0.051239</td>\n",
              "      <td>0.061989</td>\n",
              "      <td>-0.146484</td>\n",
              "      <td>0.060346</td>\n",
              "      <td>-0.092667</td>\n",
              "      <td>0.199334</td>\n",
              "      <td>-0.017548</td>\n",
              "      <td>0.073132</td>\n",
              "      <td>0.024939</td>\n",
              "      <td>-0.035540</td>\n",
              "      <td>0.019525</td>\n",
              "      <td>-0.018755</td>\n",
              "      <td>0.032612</td>\n",
              "      <td>0.089287</td>\n",
              "      <td>-0.033576</td>\n",
              "      <td>0.158483</td>\n",
              "      <td>-0.066304</td>\n",
              "      <td>-0.133944</td>\n",
              "      <td>0.046707</td>\n",
              "      <td>0.048404</td>\n",
              "      <td>0.047851</td>\n",
              "      <td>-0.018685</td>\n",
              "      <td>0.063682</td>\n",
              "      <td>0.052090</td>\n",
              "    </tr>\n",
              "    <tr>\n",
              "      <th>v9</th>\n",
              "      <td>0.001700</td>\n",
              "      <td>0.055939</td>\n",
              "      <td>0.114144</td>\n",
              "      <td>0.014025</td>\n",
              "      <td>0.017300</td>\n",
              "      <td>0.006489</td>\n",
              "      <td>0.112166</td>\n",
              "      <td>0.068479</td>\n",
              "      <td>-0.060890</td>\n",
              "      <td>1.000000</td>\n",
              "      <td>-0.009142</td>\n",
              "      <td>-0.022780</td>\n",
              "      <td>-0.041837</td>\n",
              "      <td>0.165843</td>\n",
              "      <td>-0.073496</td>\n",
              "      <td>-0.007172</td>\n",
              "      <td>-0.093358</td>\n",
              "      <td>-0.088368</td>\n",
              "      <td>0.014903</td>\n",
              "      <td>0.002864</td>\n",
              "      <td>-0.006085</td>\n",
              "      <td>0.042686</td>\n",
              "      <td>-0.006165</td>\n",
              "      <td>0.121050</td>\n",
              "      <td>0.059341</td>\n",
              "      <td>0.059984</td>\n",
              "      <td>0.119832</td>\n",
              "      <td>0.002387</td>\n",
              "      <td>0.079414</td>\n",
              "      <td>0.042249</td>\n",
              "      <td>0.008293</td>\n",
              "      <td>0.000319</td>\n",
              "      <td>-0.000388</td>\n",
              "      <td>0.001398</td>\n",
              "      <td>0.001696</td>\n",
              "      <td>-0.004739</td>\n",
              "      <td>-0.012366</td>\n",
              "      <td>-0.012682</td>\n",
              "      <td>-0.078587</td>\n",
              "      <td>0.020765</td>\n",
              "      <td>-0.090743</td>\n",
              "      <td>0.277815</td>\n",
              "      <td>-0.129073</td>\n",
              "      <td>0.080630</td>\n",
              "      <td>-0.032572</td>\n",
              "      <td>0.074237</td>\n",
              "      <td>0.185882</td>\n",
              "      <td>-0.044664</td>\n",
              "      <td>0.072467</td>\n",
              "      <td>0.097801</td>\n",
              "      <td>-0.016465</td>\n",
              "      <td>0.130569</td>\n",
              "      <td>-0.120622</td>\n",
              "      <td>-0.144898</td>\n",
              "      <td>0.030110</td>\n",
              "      <td>0.069005</td>\n",
              "      <td>0.022750</td>\n",
              "      <td>-0.033214</td>\n",
              "      <td>0.061042</td>\n",
              "      <td>-0.006563</td>\n",
              "    </tr>\n",
              "  </tbody>\n",
              "</table>\n",
              "</div>"
            ],
            "text/plain": [
              "          id        v1        v2        v3        v4        v5        v6  \\\n",
              "id  1.000000  0.014367  0.001467 -0.003017 -0.004081 -0.001577  0.008028   \n",
              "v1  0.014367  1.000000  0.029121 -0.057403 -0.041141 -0.050053 -0.041310   \n",
              "v2  0.001467  0.029121  1.000000 -0.414433  0.203188 -0.235277  0.426691   \n",
              "v3 -0.003017 -0.057403 -0.414433  1.000000  0.670742  0.937666 -0.117865   \n",
              "v4 -0.004081 -0.041141  0.203188  0.670742  1.000000  0.760925  0.168321   \n",
              "v5 -0.001577 -0.050053 -0.235277  0.937666  0.760925  1.000000 -0.108779   \n",
              "v6  0.008028 -0.041310  0.426691 -0.117865  0.168321 -0.108779  1.000000   \n",
              "v7  0.006963 -0.009356  0.305844 -0.056779  0.145415 -0.029132  0.400459   \n",
              "v8  0.002073 -0.005569  0.355892 -0.242130  0.008821 -0.296027  0.341496   \n",
              "v9  0.001700  0.055939  0.114144  0.014025  0.017300  0.006489  0.112166   \n",
              "\n",
              "          v7        v8        v9       v10       v11       v12       v13  \\\n",
              "id  0.006963  0.002073  0.001700 -0.003362 -0.007979  0.013182 -0.001097   \n",
              "v1 -0.009356 -0.005569  0.055939 -0.068985  0.002488 -0.070840  0.137644   \n",
              "v2  0.305844  0.355892  0.114144  0.170461  0.066294  0.031074  0.072071   \n",
              "v3 -0.056779 -0.242130  0.014025  0.646997 -0.079346 -0.012233 -0.007073   \n",
              "v4  0.145415  0.008821  0.017300  0.941896 -0.028522  0.027296 -0.004716   \n",
              "v5 -0.029132 -0.296027  0.006489  0.702016 -0.079799  0.015117 -0.018234   \n",
              "v6  0.400459  0.341496  0.112166  0.221202  0.116864  0.054637  0.005872   \n",
              "v7  1.000000  0.257264  0.068479  0.120596  0.098367 -0.047373  0.029042   \n",
              "v8  0.257264  1.000000 -0.060890  0.023796  0.076369  0.003506  0.115040   \n",
              "v9  0.068479 -0.060890  1.000000 -0.009142 -0.022780 -0.041837  0.165843   \n",
              "\n",
              "         v14       v15       v16       v17       v18       v19       v20  \\\n",
              "id  0.002486  0.002979  0.004483 -0.008332 -0.004539 -0.000268  0.000801   \n",
              "v1 -0.024785 -0.084697 -0.048908  0.043919 -0.105126  0.000183 -0.028322   \n",
              "v2 -0.018597  0.028214  0.013611  0.059418 -0.054957  0.002988 -0.001025   \n",
              "v3  0.052424  0.017965  0.010218 -0.073973  0.089758 -0.001145  0.014488   \n",
              "v4  0.067411  0.033880  0.074461  0.002806  0.049125  0.001289  0.019563   \n",
              "v5  0.086008  0.022972  0.034435 -0.025472  0.081664  0.001446  0.019168   \n",
              "v6 -0.065349  0.065469 -0.064321 -0.027912 -0.035502  0.007277  0.004149   \n",
              "v7 -0.056340  0.083411  0.173394 -0.124480 -0.013514 -0.005273 -0.005664   \n",
              "v8 -0.139891  0.002252  0.003300 -0.111898 -0.033006 -0.002796 -0.007626   \n",
              "v9 -0.073496 -0.007172 -0.093358 -0.088368  0.014903  0.002864 -0.006085   \n",
              "\n",
              "         v21       v22       v23       v24       v25       v26       v27  \\\n",
              "id -0.001160  0.000376  0.003799 -0.002165 -0.008286 -0.007389 -0.000146   \n",
              "v1  0.014286  0.117782  0.108533  0.004525  0.010390  0.007286 -0.001189   \n",
              "v2 -0.023369  0.063412 -0.091289 -0.024937 -0.027361 -0.080061 -0.037750   \n",
              "v3 -0.004932 -0.099022 -0.048775 -0.031155 -0.010647 -0.036244  0.051846   \n",
              "v4 -0.040715 -0.052508 -0.168042 -0.081283 -0.049282 -0.149959  0.035422   \n",
              "v5 -0.018053 -0.088487 -0.096877 -0.069764 -0.036680 -0.108937  0.041652   \n",
              "v6 -0.020055  0.046818 -0.028758  0.057985  0.064764  0.114925 -0.011916   \n",
              "v7 -0.026134  0.010596 -0.060008  0.039191 -0.019942 -0.016515 -0.030168   \n",
              "v8  0.002839  0.043776 -0.004413  0.071156  0.048858  0.124804  0.002595   \n",
              "v9  0.042686 -0.006165  0.121050  0.059341  0.059984  0.119832  0.002387   \n",
              "\n",
              "         v28       v29       v30       v31       v32       v33       v34  \\\n",
              "id -0.007493 -0.003041 -0.007567 -0.000778  0.007251 -0.005192 -0.006603   \n",
              "v1 -0.000021  0.002608  0.005015  0.003871  0.007616 -0.015244  0.002764   \n",
              "v2  0.029038 -0.016785 -0.006655 -0.005208 -0.029289 -0.004778 -0.010837   \n",
              "v3  0.021283  0.047591  0.008689  0.000079  0.006407  0.007840  0.008847   \n",
              "v4  0.041986  0.045306  0.008207  0.004862 -0.012042  0.003935 -0.003405   \n",
              "v5  0.019999  0.039032  0.009502  0.001039  0.003313  0.008596  0.009928   \n",
              "v6  0.089808  0.025686 -0.008253 -0.013947 -0.040218 -0.016267  0.006406   \n",
              "v7  0.141738  0.027188  0.017583 -0.001614 -0.019601 -0.023413 -0.019371   \n",
              "v8  0.035348  0.018643 -0.007347 -0.004576 -0.012930 -0.015961 -0.013412   \n",
              "v9  0.079414  0.042249  0.008293  0.000319 -0.000388  0.001398  0.001696   \n",
              "\n",
              "         v35       v36       v37       v38       v39       v40       v41  \\\n",
              "id  0.000777  0.017767  0.013940 -0.000461 -0.003319 -0.002408 -0.002773   \n",
              "v1 -0.016606  0.010026 -0.004227 -0.066652  0.059835  0.031808  0.047442   \n",
              "v2  0.046714  0.042886  0.065465  0.015174 -0.005078  0.092546 -0.129865   \n",
              "v3 -0.034609 -0.015275 -0.036068  0.039109  0.057253 -0.078629 -0.005708   \n",
              "v4 -0.003523  0.001083 -0.001684  0.077215  0.008714  0.020476 -0.190710   \n",
              "v5 -0.029823 -0.020331 -0.036482  0.085210  0.043276 -0.026945 -0.130046   \n",
              "v6  0.064194  0.053307  0.085722 -0.021105 -0.049290 -0.002563  0.118367   \n",
              "v7  0.047454  0.026288  0.053482 -0.024883  0.001307 -0.094534 -0.022181   \n",
              "v8  0.032943  0.051239  0.061989 -0.146484  0.060346 -0.092667  0.199334   \n",
              "v9 -0.004739 -0.012366 -0.012682 -0.078587  0.020765 -0.090743  0.277815   \n",
              "\n",
              "         v42       v43       v44       v45       v46       v47       v48  \\\n",
              "id  0.008114 -0.005417 -0.000162 -0.002691  0.001186 -0.004523  0.000813   \n",
              "v1 -0.063710 -0.055288 -0.063674 -0.060646  0.010846 -0.056119  0.025967   \n",
              "v2  0.026406  0.133472  0.009227  0.128283  0.137527  0.087319  0.111323   \n",
              "v3  0.004754  0.470811  0.178138  0.289703  0.163179  0.441318  0.176483   \n",
              "v4  0.091582  0.655296  0.211910  0.388268  0.263376  0.618089  0.314026   \n",
              "v5  0.045062  0.511863  0.176202  0.340834  0.210558  0.485945  0.218869   \n",
              "v6 -0.057931  0.201147  0.091319  0.061165  0.030255  0.104528  0.053076   \n",
              "v7  0.138166  0.110989  0.088558  0.118231  0.009838  0.138726 -0.013083   \n",
              "v8 -0.017548  0.073132  0.024939 -0.035540  0.019525 -0.018755  0.032612   \n",
              "v9 -0.129073  0.080630 -0.032572  0.074237  0.185882 -0.044664  0.072467   \n",
              "\n",
              "         v49       v50       v51       v52       v53       v54       v55  \\\n",
              "id -0.001502 -0.013323  0.000805  0.005021 -0.001014  0.011731  0.006888   \n",
              "v1 -0.046264 -0.030663 -0.015508 -0.013646 -0.029328  0.018749  0.091995   \n",
              "v2  0.133649 -0.264084  0.419746 -0.141177 -0.460187  0.226028  0.014140   \n",
              "v3  0.417904  0.402976  0.149951 -0.205816  0.042057 -0.326351 -0.006775   \n",
              "v4  0.585733  0.227717  0.525233 -0.345348 -0.304589 -0.191978 -0.025692   \n",
              "v5  0.456497  0.316896  0.267667 -0.245820 -0.083986 -0.259019 -0.026105   \n",
              "v6  0.186660 -0.092059  0.287764 -0.153039 -0.261022  0.056184  0.039216   \n",
              "v7  0.095203 -0.073133  0.187247 -0.058656 -0.116599  0.037474 -0.005788   \n",
              "v8  0.089287 -0.033576  0.158483 -0.066304 -0.133944  0.046707  0.048404   \n",
              "v9  0.097801 -0.016465  0.130569 -0.120622 -0.144898  0.030110  0.069005   \n",
              "\n",
              "         v56       v57       v58    target  \n",
              "id  0.011617 -0.008534  0.016061 -0.003209  \n",
              "v1  0.006818 -0.147986  0.052427 -0.040689  \n",
              "v2  0.022869  0.000600  0.023132  0.051468  \n",
              "v3 -0.018639 -0.004982 -0.019730 -0.048139  \n",
              "v4  0.000563  0.013730 -0.024237 -0.011858  \n",
              "v5 -0.027481  0.010628 -0.037977 -0.048733  \n",
              "v6  0.039803  0.007365  0.053127  0.080993  \n",
              "v7  0.034425  0.004812 -0.002163  0.039482  \n",
              "v8  0.047851 -0.018685  0.063682  0.052090  \n",
              "v9  0.022750 -0.033214  0.061042 -0.006563  "
            ]
          },
          "metadata": {
            "tags": []
          },
          "execution_count": 69
        }
      ]
    },
    {
      "cell_type": "code",
      "metadata": {
        "id": "AElBwxcOsM9-",
        "outputId": "5844f5d4-30d1-4dfe-e3d6-a18748d5a6d2",
        "colab": {
          "base_uri": "https://localhost:8080/"
        }
      },
      "source": [
        "def highest_corr(df):\n",
        "  high_corr_pairs = set()\n",
        "  cols = df.columns\n",
        "  ids = df.index\n",
        "  for i in range(0, df.shape[1]):\n",
        "    for j in range(0,i+1):\n",
        "      if df.iloc[i,j]>=0.5:        \n",
        "        if cols[i]!=ids[j]:\n",
        "          high_corr_pairs.add((cols[i], ids[j]))\n",
        "          print(cols[i],cols[j])\n",
        "  return high_corr_pairs\n",
        "print(\"Highly correlated pairs:\")\n",
        "print(\"Total Highly correlated pairs\",len(highest_corr(corr_matrix)))"
      ],
      "execution_count": 70,
      "outputs": [
        {
          "output_type": "stream",
          "text": [
            "Highly correlated pairs:\n",
            "v4 v3\n",
            "v5 v3\n",
            "v5 v4\n",
            "v10 v3\n",
            "v10 v4\n",
            "v10 v5\n",
            "v20 v19\n",
            "v23 v22\n",
            "v25 v19\n",
            "v25 v20\n",
            "v26 v25\n",
            "v29 v27\n",
            "v29 v28\n",
            "v37 v35\n",
            "v37 v36\n",
            "v38 v14\n",
            "v39 v13\n",
            "v40 v17\n",
            "v42 v16\n",
            "v43 v4\n",
            "v43 v5\n",
            "v43 v10\n",
            "v45 v44\n",
            "v47 v4\n",
            "v47 v10\n",
            "v47 v44\n",
            "v47 v45\n",
            "v48 v46\n",
            "v49 v4\n",
            "v49 v10\n",
            "v49 v43\n",
            "v51 v4\n",
            "v51 v43\n",
            "v51 v49\n",
            "v53 v52\n",
            "v54 v52\n",
            "v58 v55\n",
            "Total Highly correlated pairs 37\n"
          ],
          "name": "stdout"
        }
      ]
    },
    {
      "cell_type": "markdown",
      "metadata": {
        "id": "LprVh0eW7fkj"
      },
      "source": [
        "### Based on the correlation sets, few variables are dropped to avoid multicolleniarity."
      ]
    },
    {
      "cell_type": "code",
      "metadata": {
        "id": "g4hcnUbA7ppG",
        "outputId": "310c8e30-7145-458a-e864-e17217aec720",
        "colab": {
          "base_uri": "https://localhost:8080/"
        }
      },
      "source": [
        "drop_list = ['v3', 'v5', 'v10', 'v20', 'v23', 'v25', 'v29', 'v37', 'v38', 'v39', 'v40', 'v42', 'v43', 'v45', 'v47', 'v48', 'v49', 'v51', 'v52', 'v58']\n",
        "print(\"Number of highly correlated variables to drop:\",len(drop_list))"
      ],
      "execution_count": 71,
      "outputs": [
        {
          "output_type": "stream",
          "text": [
            "Number of highly correlated variables to drop: 20\n"
          ],
          "name": "stdout"
        }
      ]
    },
    {
      "cell_type": "code",
      "metadata": {
        "id": "g58c___P9a7D",
        "outputId": "12a4d75e-6c72-4f3a-9918-5b8035f5f351",
        "colab": {
          "base_uri": "https://localhost:8080/"
        }
      },
      "source": [
        "data_update = data.drop(drop_list, axis =1)\n",
        "print(\"Updated dataset size:\", data_update.shape)"
      ],
      "execution_count": 72,
      "outputs": [
        {
          "output_type": "stream",
          "text": [
            "Updated dataset size: (21788, 40)\n"
          ],
          "name": "stdout"
        }
      ]
    },
    {
      "cell_type": "markdown",
      "metadata": {
        "id": "JLV1ZD5_sK1X"
      },
      "source": [
        "# Separate train and test set"
      ]
    },
    {
      "cell_type": "markdown",
      "metadata": {
        "id": "4_jEMAgXx304"
      },
      "source": [
        "### Train and test datset for subset"
      ]
    },
    {
      "cell_type": "code",
      "metadata": {
        "id": "D8Yj8vVZsLWs"
      },
      "source": [
        "data_sub = data_update.sample(frac=0.4, replace=False, random_state=1)"
      ],
      "execution_count": 73,
      "outputs": []
    },
    {
      "cell_type": "code",
      "metadata": {
        "ExecuteTime": {
          "end_time": "2020-03-09T07:32:58.666697Z",
          "start_time": "2020-03-09T07:32:58.651653Z"
        },
        "id": "WpKM5hPtsK1Y",
        "outputId": "40b67d1c-d6c7-430b-870b-878adc3248c3",
        "colab": {
          "base_uri": "https://localhost:8080/"
        }
      },
      "source": [
        "# Let's separate into train and test set\n",
        "from sklearn.model_selection import train_test_split\n",
        "X_train, X_test, y_train, y_test = train_test_split(data_sub.drop(['id', 'target'], axis=1),\n",
        "                                                    data_sub['target'],\n",
        "                                                    test_size=0.1,\n",
        "                                                    random_state=0)\n",
        "\n",
        "X_train.shape, X_test.shape"
      ],
      "execution_count": 74,
      "outputs": [
        {
          "output_type": "execute_result",
          "data": {
            "text/plain": [
              "((7843, 38), (872, 38))"
            ]
          },
          "metadata": {
            "tags": []
          },
          "execution_count": 74
        }
      ]
    },
    {
      "cell_type": "markdown",
      "metadata": {
        "id": "jszywJjMx9bj"
      },
      "source": [
        "### Train and test datset for whole"
      ]
    },
    {
      "cell_type": "code",
      "metadata": {
        "id": "lvE3xHewvXr4",
        "outputId": "dbf892c8-b055-49f9-9ff1-ca0079a869a3",
        "colab": {
          "base_uri": "https://localhost:8080/"
        }
      },
      "source": [
        "# Let's separate into train and test set\n",
        "from sklearn.model_selection import train_test_split\n",
        "X_train, X_test, y_train, y_test = train_test_split(data.drop(['id', 'target'], axis=1),\n",
        "                                                    data['target'],\n",
        "                                                    test_size=0.1,\n",
        "                                                    random_state=0)\n",
        "\n",
        "X_train.shape, X_test.shape"
      ],
      "execution_count": 37,
      "outputs": [
        {
          "output_type": "execute_result",
          "data": {
            "text/plain": [
              "((19609, 58), (2179, 58))"
            ]
          },
          "metadata": {
            "tags": []
          },
          "execution_count": 37
        }
      ]
    },
    {
      "cell_type": "markdown",
      "metadata": {
        "id": "0R0cBW_Fsoiu"
      },
      "source": [
        "# Regressions"
      ]
    },
    {
      "cell_type": "markdown",
      "metadata": {
        "id": "8LTWH123sK1z"
      },
      "source": [
        "## Linear Regression"
      ]
    },
    {
      "cell_type": "code",
      "metadata": {
        "ExecuteTime": {
          "end_time": "2020-03-09T07:33:23.368390Z",
          "start_time": "2020-03-09T07:33:23.292686Z"
        },
        "id": "Jm7ahk7CsK10"
      },
      "source": [
        "# Train a linear regression model, report the coefficients and model performance \n",
        "\n",
        "from sklearn.linear_model import LinearRegression\n",
        "from sklearn.model_selection import KFold"
      ],
      "execution_count": null,
      "outputs": []
    },
    {
      "cell_type": "code",
      "metadata": {
        "id": "sMtQUVoviywu",
        "outputId": "5a5de354-42ef-43c8-eaf7-4388dac897a2",
        "colab": {
          "base_uri": "https://localhost:8080/"
        }
      },
      "source": [
        "lr = LinearRegression().fit(X_train, y_train)\n",
        "n=len(X_train)\n",
        "\n",
        "cv_scores = cross_val_score(lr, X_train, y_train, cv = 5)\n",
        "\n",
        "# Mean Cross validation Score\n",
        "print(\"Mean Cross-validation scores: {}\".format(cv_scores))\n",
        "print()\n",
        "print(\"Mean Cross-validation scores: {}\".format(cv_scores.mean()))\n",
        "print()\n",
        "\n",
        "# Print Co-efficients\n",
        "print(\"lr.coef_:\", lr.coef_)\n",
        "print(\"lr.intercept_:\", lr.intercept_)\n",
        "\n",
        "# Check test data set performance\n",
        "print(\"LR Performance Train: \", lr.score(X_train,y_train))\n",
        "print(\"LR Performance Test: \", lr.score(X_test,y_test))"
      ],
      "execution_count": null,
      "outputs": [
        {
          "output_type": "stream",
          "text": [
            "Mean Cross-validation scores: [0.09498937 0.10685138 0.11978032 0.08735546 0.07654334]\n",
            "\n",
            "Mean Cross-validation scores: 0.09710397167854894\n",
            "\n",
            "lr.coef_: [-1.09994220e+01  1.13293159e-01  3.72499764e+01  2.96712010e+00\n",
            " -9.85559115e+00  2.60345193e-01 -2.26060290e+00  1.08645584e+01\n",
            " -5.50904511e+01 -3.29656567e+02 -1.70241471e+00  3.61099237e+02\n",
            "  1.66467251e+02 -2.90850199e+02  1.02445996e+00 -1.53771332e-02\n",
            " -3.53764801e-04  9.12543495e-06  5.09333605e-03  1.46012086e-01\n",
            "  1.87510714e-03  4.62352226e-04 -9.62756712e+01 -1.46814000e+02\n",
            " -1.20615779e+02 -1.13866608e+02 -1.87250191e+01  2.97520054e+02\n",
            "  1.98777023e+02 -1.30275797e+02  2.43206818e+01 -5.49225268e+01\n",
            " -5.29117396e+02 -2.73157390e+01  1.14858684e+02  1.29477939e+02\n",
            "  7.56792772e+01  1.26540132e+02]\n",
            "lr.intercept_: 1200.1678711878692\n",
            "LR Performance Train:  0.10691610649346306\n",
            "LR Performance Test:  0.04549131407539864\n"
          ],
          "name": "stdout"
        }
      ]
    },
    {
      "cell_type": "markdown",
      "metadata": {
        "id": "V8hivYE5sK18"
      },
      "source": [
        "## Lasso"
      ]
    },
    {
      "cell_type": "code",
      "metadata": {
        "ExecuteTime": {
          "end_time": "2020-03-09T07:33:38.130469Z",
          "start_time": "2020-03-09T07:33:37.468173Z"
        },
        "id": "YF9qkTtvsK19",
        "outputId": "42305031-7ea0-4411-cd49-667519168f87",
        "colab": {
          "base_uri": "https://localhost:8080/"
        }
      },
      "source": [
        "# Train a Lasso regression model, report the coefficients, the best parameters, and model performance \n",
        "\n",
        "# YOUR CODE HERE\n",
        "\n",
        "from sklearn.linear_model import Lasso\n",
        "lasso = Lasso(random_state=0, max_iter=1000)\n",
        "\n",
        "#define a list of parameters\n",
        "param_lasso = {'alpha':[0.1, 1,10, 50, 100, 200, 400] }\n",
        "\n",
        "grid_lasso = GridSearchCV(lasso, param_lasso, cv=5, return_train_score = True, scoring='neg_mean_absolute_error')\n",
        "grid_lasso.fit(X_train, y_train)\n",
        "\n",
        "# Mean Cross Validation Score\n",
        "print(\"Best Mean Cross-validation score: {:.2f}\".format(grid_lasso.best_score_))\n",
        "print()\n",
        "\n",
        "#find best parameters\n",
        "print('Lasso parameters: ', grid_lasso.best_params_)\n",
        "\n",
        "# Check test data set performance\n",
        "print(\"Lasso Train Performance: \", grid_lasso.score(X_train,y_train))\n",
        "print(\"Lasso Test Performance: \", grid_lasso.score(X_test,y_test))"
      ],
      "execution_count": 77,
      "outputs": [
        {
          "output_type": "stream",
          "text": [
            "Best Mean Cross-validation score: -727.24\n",
            "\n",
            "Lasso parameters:  {'alpha': 0.1}\n",
            "Lasso Train Performance:  -723.4723174731505\n",
            "Lasso Test Performance:  -699.8579935407084\n"
          ],
          "name": "stdout"
        }
      ]
    },
    {
      "cell_type": "code",
      "metadata": {
        "id": "JF6n9j59sImf"
      },
      "source": [
        ""
      ],
      "execution_count": null,
      "outputs": []
    },
    {
      "cell_type": "markdown",
      "metadata": {
        "id": "hPZGNEQ7sK2I"
      },
      "source": [
        "## KNN Regression"
      ]
    },
    {
      "cell_type": "code",
      "metadata": {
        "id": "qZwJpwETsK2I",
        "outputId": "a70c4809-3181-4064-8146-b148de0fc475",
        "colab": {
          "base_uri": "https://localhost:8080/"
        }
      },
      "source": [
        "# Train a KNN model, report the coefficients, the best parameters, and model performance \n",
        "# hint: find the optimal k\n",
        "\n",
        "# YOUR CODE HERE\n",
        "from sklearn.preprocessing import MinMaxScaler\n",
        "from sklearn.neighbors import KNeighborsRegressor\n",
        "\n",
        "knn = KNeighborsRegressor()\n",
        "\n",
        "# define a list of parameters\n",
        "param_knn = {'n_neighbors': range(3,20),\n",
        "             'metric' : ['euclidean', 'manhattan']}\n",
        "\n",
        "\n",
        "#apply grid search\n",
        "grid_knn = GridSearchCV(knn, param_knn, cv=7, return_train_score=True, scoring='neg_mean_absolute_error')\n",
        "grid_knn.fit(X_train, y_train)\n",
        "\n",
        "# Mean Cross Validation Score\n",
        "print(\"Best Mean Cross-validation score: {:.2f}\".format(grid_knn.best_score_))\n",
        "print()\n",
        "\n",
        "#find best parameters\n",
        "print('KNN parameters: ', grid_knn.best_params_)\n",
        "\n",
        "# Check test data set performance\n",
        "print(\"KNN Performance Train: \", grid_knn.score(X_train,y_train))\n",
        "print(\"KNN Performance Test: \", grid_knn.score(X_test,y_test))"
      ],
      "execution_count": 78,
      "outputs": [
        {
          "output_type": "stream",
          "text": [
            "Best Mean Cross-validation score: -752.05\n",
            "\n",
            "KNN parameters:  {'metric': 'manhattan', 'n_neighbors': 19}\n",
            "KNN Performance Train:  -713.4524517336947\n",
            "KNN Performance Test:  -713.85532351521\n"
          ],
          "name": "stdout"
        }
      ]
    },
    {
      "cell_type": "markdown",
      "metadata": {
        "id": "RPPZYzNo2rww"
      },
      "source": [
        "## XGBoost"
      ]
    },
    {
      "cell_type": "code",
      "metadata": {
        "id": "VG3zZUFP1lgB",
        "outputId": "72e8255f-7f24-47ee-af82-4c21345342b4",
        "colab": {
          "base_uri": "https://localhost:8080/"
        }
      },
      "source": [
        "pip install xgboost"
      ],
      "execution_count": null,
      "outputs": [
        {
          "output_type": "stream",
          "text": [
            "Requirement already satisfied: xgboost in /usr/local/lib/python3.6/dist-packages (0.90)\n",
            "Requirement already satisfied: scipy in /usr/local/lib/python3.6/dist-packages (from xgboost) (1.4.1)\n",
            "Requirement already satisfied: numpy in /usr/local/lib/python3.6/dist-packages (from xgboost) (1.18.5)\n"
          ],
          "name": "stdout"
        }
      ]
    },
    {
      "cell_type": "code",
      "metadata": {
        "id": "RIPJUkOx2Eiu"
      },
      "source": [
        "#code snippet reference from classwork\n",
        "\n",
        "from  xgboost import XGBRegressor\n",
        "xgbr= XGBRegressor(random_state=42,early_stopping_rounds=2,objective= 'binary:logistic')\n",
        "xgbr_param = {\n",
        "              'nthread':[4],\n",
        "              'objective':['reg:linear'],\n",
        "              'learning_rate': [0.01,0.1,1,10],\n",
        "              'max_depth': [2,3,4,5, 6, 7],\n",
        "              'min_child_weight': [4],\n",
        "              'silent': [1],\n",
        "              'subsample': [0.7],\n",
        "              'colsample_bytree': [0.7],\n",
        "              'n_estimators': [500,1000]\n",
        "             }\n",
        "xgbr_grid = GridSearchCV(xgbr, xgbr_param,cv=5, return_train_score=True, scoring='neg_mean_absolute_error')\n",
        "xgbr_grid.fit(X_train,y_train)\n",
        "print(f'Best Mean Cross Validation Score is {xgbr_grid.best_score_}')\n",
        "print(f'Best Mean Cross Validation Score is {xgbr_grid.best_params_}')\n",
        "print(f'Train score is {xgbr_grid.score(X_train,y_train)}')\n",
        "print(f'Test score is {xgbr_grid.score(X_test,y_test)}')\n",
        "#print(f'Val score is {xgbr_grid.score(X_val,y_val)}')"
      ],
      "execution_count": null,
      "outputs": []
    },
    {
      "cell_type": "markdown",
      "metadata": {
        "id": "954Ke7YoxCPF"
      },
      "source": [
        "## Random Forest"
      ]
    },
    {
      "cell_type": "code",
      "metadata": {
        "id": "HnTRKl66xCjH",
        "outputId": "25c8a8af-cde7-4992-841f-d3d77a732f4d",
        "colab": {
          "base_uri": "https://localhost:8080/"
        }
      },
      "source": [
        "#code snippet reference from classwork\n",
        "from sklearn.ensemble import RandomForestRegressor\n",
        "rfr =RandomForestRegressor(random_state=42)\n",
        "rfr_param = { \n",
        "    'n_estimators': [200, 500],\n",
        "    'max_features': ['auto', 'sqrt', 'log2'],\n",
        "    'max_depth' : [4,5,6,7,8],\n",
        "}\n",
        "\n",
        "rfr_grid = GridSearchCV(rfr, rfr_param,cv=5, return_train_score=True, scoring='neg_mean_absolute_error' )\n",
        "rfr_grid.fit(X_train,y_train)\n",
        "\n",
        "print(f'Best Mean Cross Validation Score is {rfr_grid.best_score_}')\n",
        "print(f'Best Mean Cross Validation Score is {rfr_grid.best_params_}')\n",
        "print(f'Train score is {rfr_grid.score(X_train,y_train)}')\n",
        "print(f'Test score is {rfr_grid.score(X_test,y_test)}')\n",
        "#print(f'Val score is {rfr_grid.score(X_val,y_val)}')"
      ],
      "execution_count": null,
      "outputs": [
        {
          "output_type": "stream",
          "text": [
            "Best Mean Cross Validation Score is -719.0704406283526\n",
            "Best Mean Cross Validation Score is {'max_depth': 8, 'max_features': 'auto', 'n_estimators': 500}\n",
            "Train score is -633.9507734015311\n",
            "Test score is -689.1095934951741\n"
          ],
          "name": "stdout"
        }
      ]
    },
    {
      "cell_type": "markdown",
      "metadata": {
        "id": "S08Fqei8RH8m"
      },
      "source": [
        "## Gradient Boost"
      ]
    },
    {
      "cell_type": "code",
      "metadata": {
        "id": "ug6xNqV2SoZU",
        "outputId": "34867e81-1cf9-4fdd-fab8-07e76c07f799",
        "colab": {
          "base_uri": "https://localhost:8080/"
        }
      },
      "source": [
        "#code snippet reference from classwork\n",
        "\n",
        "from sklearn.ensemble import GradientBoostingRegressor\n",
        "gbr= GradientBoostingRegressor(random_state=42)\n",
        "gbr_param = {\n",
        "              'max_depth' : [1,2,3],\n",
        "              'n_estimators' : [50,100,150],\n",
        "              'learning_rate' : [0.01,0.1,0.5,1.0],\n",
        "             }\n",
        "gbr_grid = GridSearchCV(gbr, gbr_param,cv=5, return_train_score=True, scoring='neg_mean_absolute_error' )\n",
        "gbr_grid.fit(X_train,y_train)\n",
        "print(f'Best Mean Cross Validation Score is {gbr_grid.best_score_}')\n",
        "print(f'Best Mean Cross Validation Score is {gbr_grid.best_params_}')\n",
        "print(f'Train score is {gbr_grid.score(X_train,y_train)}')\n",
        "print(f'Test score is {gbr_grid.score(X_test,y_test)}')\n",
        "#print(f'Val score is {gbr_grid.score(X_val,y_val)}')"
      ],
      "execution_count": null,
      "outputs": [
        {
          "output_type": "stream",
          "text": [
            "Best Mean Cross Validation Score is -716.9774301354586\n",
            "Best Mean Cross Validation Score is {'learning_rate': 0.5, 'max_depth': 2, 'n_estimators': 50}\n",
            "Train score is -674.2167876697146\n",
            "Test score is -684.5298344240996\n"
          ],
          "name": "stdout"
        }
      ]
    },
    {
      "cell_type": "markdown",
      "metadata": {
        "id": "61LLkw5_1nsL"
      },
      "source": [
        "## Extra-Trees"
      ]
    },
    {
      "cell_type": "code",
      "metadata": {
        "id": "fNfQ4m4Zwtzr",
        "outputId": "f309af20-92bd-4d9f-eafc-ac8100cb63d7",
        "colab": {
          "base_uri": "https://localhost:8080/",
          "height": 232
        }
      },
      "source": [
        "#code snippet reference from classwork\n",
        "\n",
        "from  sklearn.ensemble import ExtraTreesRegressor\n",
        "etr= ExtraTreesRegressor(random_state=42)\n",
        "etr_param = { \n",
        "    'n_estimators': [200, 500,1000],\n",
        "    'max_features': ['auto', 'sqrt', 'log2'],\n",
        "    'max_depth' : [6,7,8,9,10,11,12,13]\n",
        "}\n",
        "etr_grid = GridSearchCV(etr, etr_param,cv=5, return_train_score=True,  scoring='neg_mean_absolute_error' )\n",
        "etr_grid.fit(X_train,y_train)\n",
        "print(f'Best Mean Cross Validation Score is {etr_grid.best_score_}')\n",
        "print(f'Best Mean Cross Validation Score is {etr_grid.best_params_}')\n",
        "print(f'Train score is {etr_grid.score(X_train,y_train)}')\n",
        "print(f'Test score is {etr_grid.score(X_test,y_test)}')\n",
        "#print(f'Val score is {etr_grid.score(X_val,y_val)}')"
      ],
      "execution_count": 40,
      "outputs": [
        {
          "output_type": "error",
          "ename": "NameError",
          "evalue": "ignored",
          "traceback": [
            "\u001b[0;31m---------------------------------------------------------------------------\u001b[0m",
            "\u001b[0;31mNameError\u001b[0m                                 Traceback (most recent call last)",
            "\u001b[0;32m<ipython-input-40-935eac0fff62>\u001b[0m in \u001b[0;36m<module>\u001b[0;34m()\u001b[0m\n\u001b[1;32m      8\u001b[0m     \u001b[0;34m'max_depth'\u001b[0m \u001b[0;34m:\u001b[0m \u001b[0;34m[\u001b[0m\u001b[0;36m6\u001b[0m\u001b[0;34m,\u001b[0m\u001b[0;36m7\u001b[0m\u001b[0;34m,\u001b[0m\u001b[0;36m8\u001b[0m\u001b[0;34m,\u001b[0m\u001b[0;36m9\u001b[0m\u001b[0;34m,\u001b[0m\u001b[0;36m10\u001b[0m\u001b[0;34m,\u001b[0m\u001b[0;36m11\u001b[0m\u001b[0;34m,\u001b[0m\u001b[0;36m12\u001b[0m\u001b[0;34m,\u001b[0m\u001b[0;36m13\u001b[0m\u001b[0;34m]\u001b[0m\u001b[0;34m\u001b[0m\u001b[0;34m\u001b[0m\u001b[0m\n\u001b[1;32m      9\u001b[0m }\n\u001b[0;32m---> 10\u001b[0;31m \u001b[0metr_grid\u001b[0m \u001b[0;34m=\u001b[0m \u001b[0mGridSearchCV\u001b[0m\u001b[0;34m(\u001b[0m\u001b[0metr\u001b[0m\u001b[0;34m,\u001b[0m \u001b[0metr_param\u001b[0m\u001b[0;34m,\u001b[0m\u001b[0mcv\u001b[0m\u001b[0;34m=\u001b[0m\u001b[0;36m5\u001b[0m\u001b[0;34m,\u001b[0m \u001b[0mreturn_train_score\u001b[0m\u001b[0;34m=\u001b[0m\u001b[0;32mTrue\u001b[0m\u001b[0;34m,\u001b[0m  \u001b[0mscoring\u001b[0m\u001b[0;34m=\u001b[0m\u001b[0;34m'neg_mean_absolute_error'\u001b[0m \u001b[0;34m)\u001b[0m\u001b[0;34m\u001b[0m\u001b[0;34m\u001b[0m\u001b[0m\n\u001b[0m\u001b[1;32m     11\u001b[0m \u001b[0metr_grid\u001b[0m\u001b[0;34m.\u001b[0m\u001b[0mfit\u001b[0m\u001b[0;34m(\u001b[0m\u001b[0mX_train\u001b[0m\u001b[0;34m,\u001b[0m\u001b[0my_train\u001b[0m\u001b[0;34m)\u001b[0m\u001b[0;34m\u001b[0m\u001b[0;34m\u001b[0m\u001b[0m\n\u001b[1;32m     12\u001b[0m \u001b[0mprint\u001b[0m\u001b[0;34m(\u001b[0m\u001b[0;34mf'Best Mean Cross Validation Score is {etr_grid.best_score_}'\u001b[0m\u001b[0;34m)\u001b[0m\u001b[0;34m\u001b[0m\u001b[0;34m\u001b[0m\u001b[0m\n",
            "\u001b[0;31mNameError\u001b[0m: name 'GridSearchCV' is not defined"
          ]
        }
      ]
    },
    {
      "cell_type": "markdown",
      "metadata": {
        "id": "pK5bOZZ5Hj6W"
      },
      "source": [
        "## Bagging with Decision Tree"
      ]
    },
    {
      "cell_type": "code",
      "metadata": {
        "id": "SlPcJkmeE6NA"
      },
      "source": [
        "#code snippet reference from classwork\n",
        "from sklearn.ensemble import BaggingRegressor\n",
        "bag_dtree = BaggingRegressor(base_estimator=DecisionTreeRegressor(), bootstrap=True, random_state=0, oob_score=True)\n",
        "\n",
        "\n",
        "bag_dtree_param = {\n",
        "                 'base_estimator__max_depth': range(5,15),\n",
        "                 'base_estimator__splitter': ['best','random'],\n",
        "                 'max_samples':  [0.8,1],\n",
        "                 'n_estimators': [100,200,500,1000]}\n",
        "bag_dtree_grid = GridSearchCV(bag_dtree, bag_dtree_param,cv=5, return_train_score=True, scoring='neg_mean_absolute_error')\n",
        "bag_dtree_grid.fit(X_train,y_train)\n",
        "print(f'Best Mean Cross Validation Score is {bag_dtree_grid.best_score_}')\n",
        "print(f'Best Mean Cross Validation Score is {bag_dtree_grid.best_params_}')\n",
        "print(f'Train score is {bag_dtree_grid.score(X_train,y_train)}')\n",
        "print(f'Test score is {bag_dtree_grid.score(X_test,y_test)}')\n",
        "#print(f'Val score is {bag_dtree_grid.score(X_val,y_val)}')"
      ],
      "execution_count": null,
      "outputs": []
    },
    {
      "cell_type": "code",
      "metadata": {
        "id": "GRtKYCANTGV7"
      },
      "source": [
        ""
      ],
      "execution_count": null,
      "outputs": []
    }
  ]
}